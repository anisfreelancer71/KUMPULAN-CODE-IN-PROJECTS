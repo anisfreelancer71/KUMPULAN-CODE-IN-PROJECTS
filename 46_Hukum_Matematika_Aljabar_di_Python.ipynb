{
  "nbformat": 4,
  "nbformat_minor": 0,
  "metadata": {
    "colab": {
      "provenance": [],
      "authorship_tag": "ABX9TyM3+vrSdH/bNuibMYy5gGEU",
      "include_colab_link": true
    },
    "kernelspec": {
      "name": "python3",
      "display_name": "Python 3"
    },
    "language_info": {
      "name": "python"
    }
  },
  "cells": [
    {
      "cell_type": "markdown",
      "metadata": {
        "id": "view-in-github",
        "colab_type": "text"
      },
      "source": [
        "<a href=\"https://colab.research.google.com/github/anisfreelancer71/kapal_titanic/blob/main/46_Hukum_Matematika_Aljabar_di_Python.ipynb\" target=\"_parent\"><img src=\"https://colab.research.google.com/assets/colab-badge.svg\" alt=\"Open In Colab\"/></a>"
      ]
    },
    {
      "cell_type": "markdown",
      "source": [
        "##46. Hukum Matematika Aljabar di Python"
      ],
      "metadata": {
        "id": "o8IYuR6PU4ud"
      }
    },
    {
      "cell_type": "markdown",
      "source": [
        "## Menjabarkan persamaan aljabar\n",
        "### a(b+c) = ab +ac\n",
        "### (a+b)(c+d) = ac + ad +bc +bd\n",
        "### (a-b)(-c+d) = -ac + ad + bc - bd"
      ],
      "metadata": {
        "id": "_frcJ_rvVA27"
      }
    },
    {
      "cell_type": "code",
      "source": [
        "import sympy as sym\n",
        "from IPython.display import Math\n",
        "x,y,z = sym.symbols('x,y,z')\n",
        "\n",
        "p1 = x*(x+1)\n",
        "p2 = x\n",
        "display(p1*p2)"
      ],
      "metadata": {
        "colab": {
          "base_uri": "https://localhost:8080/",
          "height": 38
        },
        "id": "AY2JMGFyU6jU",
        "outputId": "4d7968fe-3e8c-482d-8899-6aa721e3334c"
      },
      "execution_count": 2,
      "outputs": [
        {
          "output_type": "display_data",
          "data": {
            "text/plain": [
              "x**2*(x + 1)"
            ],
            "text/latex": "$\\displaystyle x^{2} \\left(x + 1\\right)$"
          },
          "metadata": {}
        }
      ]
    },
    {
      "cell_type": "code",
      "source": [
        "display(sym.expand(p1*p2))"
      ],
      "metadata": {
        "colab": {
          "base_uri": "https://localhost:8080/",
          "height": 38
        },
        "id": "lP4JIs4cWopT",
        "outputId": "8db9d789-5051-40db-81ab-42f15edc6455"
      },
      "execution_count": 3,
      "outputs": [
        {
          "output_type": "display_data",
          "data": {
            "text/plain": [
              "x**3 + x**2"
            ],
            "text/latex": "$\\displaystyle x^{3} + x^{2}$"
          },
          "metadata": {}
        }
      ]
    },
    {
      "cell_type": "code",
      "source": [
        "p3 = y**12 + x**8"
      ],
      "metadata": {
        "id": "9POf2cmhXRHB"
      },
      "execution_count": 4,
      "outputs": []
    },
    {
      "cell_type": "code",
      "source": [
        "display(p1*p2*p3)"
      ],
      "metadata": {
        "colab": {
          "base_uri": "https://localhost:8080/",
          "height": 38
        },
        "id": "5Vu388cVXh4s",
        "outputId": "8e63c9fa-d89d-4318-f2da-14e95a923690"
      },
      "execution_count": 5,
      "outputs": [
        {
          "output_type": "display_data",
          "data": {
            "text/plain": [
              "x**2*(x + 1)*(x**8 + y**12)"
            ],
            "text/latex": "$\\displaystyle x^{2} \\left(x + 1\\right) \\left(x^{8} + y^{12}\\right)$"
          },
          "metadata": {}
        }
      ]
    },
    {
      "cell_type": "code",
      "source": [
        "display(sym.expand(p1*p2*p3))"
      ],
      "metadata": {
        "colab": {
          "base_uri": "https://localhost:8080/",
          "height": 38
        },
        "id": "WrUhXbxyXogB",
        "outputId": "3cefe420-b6f4-4765-fe49-a8034b8033ab"
      },
      "execution_count": 6,
      "outputs": [
        {
          "output_type": "display_data",
          "data": {
            "text/plain": [
              "x**11 + x**10 + x**3*y**12 + x**2*y**12"
            ],
            "text/latex": "$\\displaystyle x^{11} + x^{10} + x^{3} y^{12} + x^{2} y^{12}$"
          },
          "metadata": {}
        }
      ]
    },
    {
      "cell_type": "code",
      "source": [
        "p4 = sym.sqrt(y)\n",
        "display(p4)"
      ],
      "metadata": {
        "colab": {
          "base_uri": "https://localhost:8080/",
          "height": 37
        },
        "id": "dQXEQ_7VX2oT",
        "outputId": "1c13a8e8-b516-4420-93df-5da720f19246"
      },
      "execution_count": 7,
      "outputs": [
        {
          "output_type": "display_data",
          "data": {
            "text/plain": [
              "sqrt(y)"
            ],
            "text/latex": "$\\displaystyle \\sqrt{y}$"
          },
          "metadata": {}
        }
      ]
    },
    {
      "cell_type": "code",
      "source": [
        "display(sym.expand((p1*p2*p3)/p4))"
      ],
      "metadata": {
        "colab": {
          "base_uri": "https://localhost:8080/",
          "height": 60
        },
        "id": "K08Het-qYA79",
        "outputId": "70bd092d-3262-4cf3-8613-618db6fc2ec6"
      },
      "execution_count": 8,
      "outputs": [
        {
          "output_type": "display_data",
          "data": {
            "text/plain": [
              "x**11/sqrt(y) + x**10/sqrt(y) + x**3*y**(23/2) + x**2*y**(23/2)"
            ],
            "text/latex": "$\\displaystyle \\frac{x^{11}}{\\sqrt{y}} + \\frac{x^{10}}{\\sqrt{y}} + x^{3} y^{\\frac{23}{2}} + x^{2} y^{\\frac{23}{2}}$"
          },
          "metadata": {}
        }
      ]
    },
    {
      "cell_type": "code",
      "source": [
        "display((p1*p2*p3)/p4)"
      ],
      "metadata": {
        "colab": {
          "base_uri": "https://localhost:8080/",
          "height": 61
        },
        "id": "sW9HuVQ4YRdH",
        "outputId": "5da6da38-69b9-4fc2-ca45-bb6dea757720"
      },
      "execution_count": 9,
      "outputs": [
        {
          "output_type": "display_data",
          "data": {
            "text/plain": [
              "x**2*(x + 1)*(x**8 + y**12)/sqrt(y)"
            ],
            "text/latex": "$\\displaystyle \\frac{x^{2} \\left(x + 1\\right) \\left(x^{8} + y^{12}\\right)}{\\sqrt{y}}$"
          },
          "metadata": {}
        }
      ]
    },
    {
      "cell_type": "code",
      "source": [
        "display(sym.simplify((p1*p2*p3)/p4))"
      ],
      "metadata": {
        "colab": {
          "base_uri": "https://localhost:8080/",
          "height": 61
        },
        "id": "wajv8QY1Y0xk",
        "outputId": "bb1da0e6-0e93-48cc-8cf8-6c1436ee3632"
      },
      "execution_count": 10,
      "outputs": [
        {
          "output_type": "display_data",
          "data": {
            "text/plain": [
              "x**2*(x + 1)*(x**8 + y**12)/sqrt(y)"
            ],
            "text/latex": "$\\displaystyle \\frac{x^{2} \\left(x + 1\\right) \\left(x^{8} + y^{12}\\right)}{\\sqrt{y}}$"
          },
          "metadata": {}
        }
      ]
    },
    {
      "cell_type": "code",
      "source": [
        "%whos"
      ],
      "metadata": {
        "colab": {
          "base_uri": "https://localhost:8080/"
        },
        "id": "knSS4RsmZJym",
        "outputId": "d366ec96-dab4-4990-bfe1-dc15c05fcabf"
      },
      "execution_count": 11,
      "outputs": [
        {
          "output_type": "stream",
          "name": "stdout",
          "text": [
            "Variable   Type      Data/Info\n",
            "------------------------------\n",
            "Math       type      <class 'IPython.core.display.Math'>\n",
            "p1         Mul       x*(x + 1)\n",
            "p2         Symbol    x\n",
            "p3         Add       x**8 + y**12\n",
            "p4         Pow       sqrt(y)\n",
            "sym        module    <module 'sympy' from '/us<...>kages/sympy/__init__.py'>\n",
            "x          Symbol    x\n",
            "y          Symbol    y\n",
            "z          Symbol    z\n"
          ]
        }
      ]
    },
    {
      "cell_type": "markdown",
      "source": [
        "# Hukum Assosiatif, Komutatif, & distributif[1]\n",
        "##hukum Assosiatif\n",
        "###a(bc) = (ab)c\n",
        "abc = abc\n",
        "\n",
        "###2(5x6) = (2x5)6\n",
        "####2(30) = (10)6\n",
        "60 = 60\n",
        "\n"
      ],
      "metadata": {
        "id": "MzaCB4sMZyYS"
      }
    },
    {
      "cell_type": "markdown",
      "source": [
        "##Hukum Komutatif\n",
        "###ab = ba\n",
        "###abc = acb = bac\n",
        "###2x6 = 6x2 = 12\n",
        "### 1x2x3 = 3x2x1 = 2x3x1 =6"
      ],
      "metadata": {
        "id": "n_ZH1iGEasx1"
      }
    },
    {
      "cell_type": "markdown",
      "source": [
        "##Hukum Distributif\n",
        "###x(y+z) = xy + xz\n",
        "\n",
        "###2(6+3) = 2x6 + 2x3\n",
        "###2(9) =12 + 6"
      ],
      "metadata": {
        "id": "EIAbSYSXbVKB"
      }
    },
    {
      "cell_type": "code",
      "source": [
        "import sympy as sym\n",
        "from IPython.display import Math"
      ],
      "metadata": {
        "id": "8jPLqOEiaqCi"
      },
      "execution_count": 12,
      "outputs": []
    },
    {
      "cell_type": "code",
      "source": [
        "x,y,z = sym.symbols('x,y,z')"
      ],
      "metadata": {
        "id": "wqoHqB7dcEXC"
      },
      "execution_count": 13,
      "outputs": []
    },
    {
      "cell_type": "code",
      "source": [
        "p1 = 5*(x*y)\n",
        "p1"
      ],
      "metadata": {
        "colab": {
          "base_uri": "https://localhost:8080/",
          "height": 38
        },
        "id": "McD46NKccOph",
        "outputId": "76e214dc-57bf-423f-e7bd-535bf7a14995"
      },
      "execution_count": 14,
      "outputs": [
        {
          "output_type": "execute_result",
          "data": {
            "text/plain": [
              "5*x*y"
            ],
            "text/latex": "$\\displaystyle 5 x y$"
          },
          "metadata": {},
          "execution_count": 14
        }
      ]
    },
    {
      "cell_type": "code",
      "source": [
        "p2 = (5*x)*y\n",
        "p2"
      ],
      "metadata": {
        "colab": {
          "base_uri": "https://localhost:8080/",
          "height": 38
        },
        "id": "KTy_ZjjGcXIh",
        "outputId": "05fa36b6-4c53-4f30-972d-2b411d3779c0"
      },
      "execution_count": 15,
      "outputs": [
        {
          "output_type": "execute_result",
          "data": {
            "text/plain": [
              "5*x*y"
            ],
            "text/latex": "$\\displaystyle 5 x y$"
          },
          "metadata": {},
          "execution_count": 15
        }
      ]
    },
    {
      "cell_type": "code",
      "source": [
        "p1 - p2"
      ],
      "metadata": {
        "colab": {
          "base_uri": "https://localhost:8080/",
          "height": 37
        },
        "id": "VDTd0DzEc471",
        "outputId": "c4991d27-62cf-4ef7-a02c-6f4f36b16a16"
      },
      "execution_count": 16,
      "outputs": [
        {
          "output_type": "execute_result",
          "data": {
            "text/plain": [
              "0"
            ],
            "text/latex": "$\\displaystyle 0$"
          },
          "metadata": {},
          "execution_count": 16
        }
      ]
    },
    {
      "cell_type": "code",
      "source": [
        "p1 == p2"
      ],
      "metadata": {
        "colab": {
          "base_uri": "https://localhost:8080/"
        },
        "id": "ggHJ5Vw7c-7O",
        "outputId": "a48ac389-22bf-4dd6-b6f5-17639642a95f"
      },
      "execution_count": 18,
      "outputs": [
        {
          "output_type": "execute_result",
          "data": {
            "text/plain": [
              "True"
            ]
          },
          "metadata": {},
          "execution_count": 18
        }
      ]
    },
    {
      "cell_type": "code",
      "source": [
        "display(p1)\n",
        "display(p2)"
      ],
      "metadata": {
        "colab": {
          "base_uri": "https://localhost:8080/",
          "height": 60
        },
        "id": "_19gfDTOdOJ4",
        "outputId": "e135c839-6809-47ba-f2cd-674890eb95b0"
      },
      "execution_count": 19,
      "outputs": [
        {
          "output_type": "display_data",
          "data": {
            "text/plain": [
              "5*x*y"
            ],
            "text/latex": "$\\displaystyle 5 x y$"
          },
          "metadata": {}
        },
        {
          "output_type": "display_data",
          "data": {
            "text/plain": [
              "5*x*y"
            ],
            "text/latex": "$\\displaystyle 5 x y$"
          },
          "metadata": {}
        }
      ]
    },
    {
      "cell_type": "code",
      "source": [
        "print(p1.subs({x:5, y:8}))\n",
        "print(p2.subs({x:5, y:8}))"
      ],
      "metadata": {
        "colab": {
          "base_uri": "https://localhost:8080/"
        },
        "id": "BKGoC1gXdrDk",
        "outputId": "a41221ff-b3d0-40cc-a030-b1201e4d9736"
      },
      "execution_count": 24,
      "outputs": [
        {
          "output_type": "stream",
          "name": "stdout",
          "text": [
            "200\n",
            "200\n"
          ]
        }
      ]
    },
    {
      "cell_type": "code",
      "source": [
        "display(p1*p2)"
      ],
      "metadata": {
        "colab": {
          "base_uri": "https://localhost:8080/",
          "height": 38
        },
        "id": "20Z5krZ5eAD3",
        "outputId": "6d108f28-4744-4fd9-a24a-af7f366f638a"
      },
      "execution_count": 25,
      "outputs": [
        {
          "output_type": "display_data",
          "data": {
            "text/plain": [
              "25*x**2*y**2"
            ],
            "text/latex": "$\\displaystyle 25 x^{2} y^{2}$"
          },
          "metadata": {}
        }
      ]
    },
    {
      "cell_type": "code",
      "source": [
        "print(p1.subs({x:5, y:8})*(p2.subs({x:5, y:8})))"
      ],
      "metadata": {
        "colab": {
          "base_uri": "https://localhost:8080/"
        },
        "id": "K0CRpo8DerZ2",
        "outputId": "d13fbc06-7d8d-4106-9d72-6e0ec4ae35d6"
      },
      "execution_count": 26,
      "outputs": [
        {
          "output_type": "stream",
          "name": "stdout",
          "text": [
            "40000\n"
          ]
        }
      ]
    },
    {
      "cell_type": "code",
      "source": [
        "p3 = 5*x*y\n",
        "p4 = x*y*5\n",
        "p5 = y*5*x"
      ],
      "metadata": {
        "id": "TzrqZKILfG_o"
      },
      "execution_count": 28,
      "outputs": []
    },
    {
      "cell_type": "code",
      "source": [
        "p3 == p4 == p5"
      ],
      "metadata": {
        "colab": {
          "base_uri": "https://localhost:8080/"
        },
        "id": "6bR0MVtyftK9",
        "outputId": "95f3517d-f16c-4e6c-add4-df6fd8bf5faf"
      },
      "execution_count": 29,
      "outputs": [
        {
          "output_type": "execute_result",
          "data": {
            "text/plain": [
              "True"
            ]
          },
          "metadata": {},
          "execution_count": 29
        }
      ]
    },
    {
      "cell_type": "code",
      "source": [
        "print(p3.subs({x:5, y:8}))\n",
        "print(p4.subs({x:5, y:8}))\n",
        "print(p5.subs({x:5, y:8}))"
      ],
      "metadata": {
        "colab": {
          "base_uri": "https://localhost:8080/"
        },
        "id": "ublPReyqf9M3",
        "outputId": "84506ef8-4f05-446d-a5e6-35f7f90379fe"
      },
      "execution_count": 30,
      "outputs": [
        {
          "output_type": "stream",
          "name": "stdout",
          "text": [
            "200\n",
            "200\n",
            "200\n"
          ]
        }
      ]
    },
    {
      "cell_type": "markdown",
      "source": [
        "#Distributif"
      ],
      "metadata": {
        "id": "Yw1bpaQ-gXxG"
      }
    },
    {
      "cell_type": "code",
      "source": [
        "a = sym.symbols('a')\n",
        "x = a*(67-a) + 1/a**2 * (16+a)"
      ],
      "metadata": {
        "id": "pml7FOqhgPiJ"
      },
      "execution_count": 31,
      "outputs": []
    },
    {
      "cell_type": "code",
      "source": [
        "display(x)"
      ],
      "metadata": {
        "colab": {
          "base_uri": "https://localhost:8080/",
          "height": 51
        },
        "id": "8RKAmULrg8FS",
        "outputId": "f47e5358-b3fe-40fd-fef6-aaf5f5e346f3"
      },
      "execution_count": 33,
      "outputs": [
        {
          "output_type": "display_data",
          "data": {
            "text/plain": [
              "a*(67 - a) + (a + 16)/a**2"
            ],
            "text/latex": "$\\displaystyle a \\left(67 - a\\right) + \\frac{a + 16}{a^{2}}$"
          },
          "metadata": {}
        }
      ]
    },
    {
      "cell_type": "code",
      "source": [
        "p6 =  x*(y+z)\n",
        "p7 = 3/x + x**2"
      ],
      "metadata": {
        "id": "y6mL_lPvg_tI"
      },
      "execution_count": 34,
      "outputs": []
    },
    {
      "cell_type": "code",
      "source": [
        "display(p6)\n",
        "display(p7)"
      ],
      "metadata": {
        "colab": {
          "base_uri": "https://localhost:8080/",
          "height": 104
        },
        "id": "gXAEk3LQh2l8",
        "outputId": "bbc219e1-2561-4cfe-be72-f0af41ab0974"
      },
      "execution_count": 35,
      "outputs": [
        {
          "output_type": "display_data",
          "data": {
            "text/plain": [
              "(y + z)*(a*(67 - a) + (a + 16)/a**2)"
            ],
            "text/latex": "$\\displaystyle \\left(y + z\\right) \\left(a \\left(67 - a\\right) + \\frac{a + 16}{a^{2}}\\right)$"
          },
          "metadata": {}
        },
        {
          "output_type": "display_data",
          "data": {
            "text/plain": [
              "(a*(67 - a) + (a + 16)/a**2)**2 + 3/(a*(67 - a) + (a + 16)/a**2)"
            ],
            "text/latex": "$\\displaystyle \\left(a \\left(67 - a\\right) + \\frac{a + 16}{a^{2}}\\right)^{2} + \\frac{3}{a \\left(67 - a\\right) + \\frac{a + 16}{a^{2}}}$"
          },
          "metadata": {}
        }
      ]
    },
    {
      "cell_type": "code",
      "source": [
        "p6 == p7"
      ],
      "metadata": {
        "colab": {
          "base_uri": "https://localhost:8080/"
        },
        "id": "w98f8nE6h_ZA",
        "outputId": "30a79f6c-21a5-41b5-a922-63df5daa8458"
      },
      "execution_count": 36,
      "outputs": [
        {
          "output_type": "execute_result",
          "data": {
            "text/plain": [
              "False"
            ]
          },
          "metadata": {},
          "execution_count": 36
        }
      ]
    },
    {
      "cell_type": "code",
      "source": [
        "display(p6*p7)"
      ],
      "metadata": {
        "colab": {
          "base_uri": "https://localhost:8080/",
          "height": 68
        },
        "id": "FHk90W4UiPAD",
        "outputId": "d1b60771-45ab-46a5-b771-c519a97abebd"
      },
      "execution_count": 37,
      "outputs": [
        {
          "output_type": "display_data",
          "data": {
            "text/plain": [
              "(y + z)*(a*(67 - a) + (a + 16)/a**2)*((a*(67 - a) + (a + 16)/a**2)**2 + 3/(a*(67 - a) + (a + 16)/a**2))"
            ],
            "text/latex": "$\\displaystyle \\left(y + z\\right) \\left(a \\left(67 - a\\right) + \\frac{a + 16}{a^{2}}\\right) \\left(\\left(a \\left(67 - a\\right) + \\frac{a + 16}{a^{2}}\\right)^{2} + \\frac{3}{a \\left(67 - a\\right) + \\frac{a + 16}{a^{2}}}\\right)$"
          },
          "metadata": {}
        }
      ]
    },
    {
      "cell_type": "code",
      "source": [
        "display(sym.expand(p6*p7))"
      ],
      "metadata": {
        "colab": {
          "base_uri": "https://localhost:8080/",
          "height": 238
        },
        "id": "8ojv0orCicRz",
        "outputId": "1c81cdc1-558c-437b-ccc1-09043062d6ec"
      },
      "execution_count": 38,
      "outputs": [
        {
          "output_type": "display_data",
          "data": {
            "text/plain": [
              "-a**6*y - a**6*z + 201*a**5*y + 201*a**5*z - 13467*a**4*y - 13467*a**4*z + 300766*a**3*y + 300766*a**3*z - 354*a**2*y - 3*a**2*y/(-a**2 + 67*a + 1/a + 16/a**2) - 354*a**2*z - 3*a**2*z/(-a**2 + 67*a + 1/a + 16/a**2) + 7035*a*y + 201*a*y/(-a**2 + 67*a + 1/a + 16/a**2) + 7035*a*z + 201*a*z/(-a**2 + 67*a + 1/a + 16/a**2) + 215469*y + 48*y/(-a**4 + 67*a**3 + a + 16) + 3*y/(-a**3 + 67*a**2 + 1 + 16/a) + 215469*z + 48*z/(-a**4 + 67*a**3 + a + 16) + 3*z/(-a**3 + 67*a**2 + 1 + 16/a) + 105*y/a + 105*z/a + 5664*y/a**2 + 5664*z/a**2 + 51457*y/a**3 + 51457*z/a**3 + 48*y/a**4 + 48*z/a**4 + 768*y/a**5 + 768*z/a**5 + 4096*y/a**6 + 4096*z/a**6"
            ],
            "text/latex": "$\\displaystyle - a^{6} y - a^{6} z + 201 a^{5} y + 201 a^{5} z - 13467 a^{4} y - 13467 a^{4} z + 300766 a^{3} y + 300766 a^{3} z - 354 a^{2} y - \\frac{3 a^{2} y}{- a^{2} + 67 a + \\frac{1}{a} + \\frac{16}{a^{2}}} - 354 a^{2} z - \\frac{3 a^{2} z}{- a^{2} + 67 a + \\frac{1}{a} + \\frac{16}{a^{2}}} + 7035 a y + \\frac{201 a y}{- a^{2} + 67 a + \\frac{1}{a} + \\frac{16}{a^{2}}} + 7035 a z + \\frac{201 a z}{- a^{2} + 67 a + \\frac{1}{a} + \\frac{16}{a^{2}}} + 215469 y + \\frac{48 y}{- a^{4} + 67 a^{3} + a + 16} + \\frac{3 y}{- a^{3} + 67 a^{2} + 1 + \\frac{16}{a}} + 215469 z + \\frac{48 z}{- a^{4} + 67 a^{3} + a + 16} + \\frac{3 z}{- a^{3} + 67 a^{2} + 1 + \\frac{16}{a}} + \\frac{105 y}{a} + \\frac{105 z}{a} + \\frac{5664 y}{a^{2}} + \\frac{5664 z}{a^{2}} + \\frac{51457 y}{a^{3}} + \\frac{51457 z}{a^{3}} + \\frac{48 y}{a^{4}} + \\frac{48 z}{a^{4}} + \\frac{768 y}{a^{5}} + \\frac{768 z}{a^{5}} + \\frac{4096 y}{a^{6}} + \\frac{4096 z}{a^{6}}$"
          },
          "metadata": {}
        }
      ]
    },
    {
      "cell_type": "code",
      "source": [
        "display(p6*p7 - p7*p6)"
      ],
      "metadata": {
        "colab": {
          "base_uri": "https://localhost:8080/",
          "height": 37
        },
        "id": "chu5ATyKiyQP",
        "outputId": "9a295fdc-dbde-4ee7-af0d-a2e180c8cd35"
      },
      "execution_count": 39,
      "outputs": [
        {
          "output_type": "display_data",
          "data": {
            "text/plain": [
              "0"
            ],
            "text/latex": "$\\displaystyle 0$"
          },
          "metadata": {}
        }
      ]
    },
    {
      "cell_type": "code",
      "source": [],
      "metadata": {
        "id": "b40hVnUBjMtC"
      },
      "execution_count": null,
      "outputs": []
    }
  ]
}