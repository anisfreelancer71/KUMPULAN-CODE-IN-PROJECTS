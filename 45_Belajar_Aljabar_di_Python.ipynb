{
  "nbformat": 4,
  "nbformat_minor": 0,
  "metadata": {
    "colab": {
      "provenance": [],
      "authorship_tag": "ABX9TyN8k41opbHIq1ncAhRsnW7M",
      "include_colab_link": true
    },
    "kernelspec": {
      "name": "python3",
      "display_name": "Python 3"
    },
    "language_info": {
      "name": "python"
    }
  },
  "cells": [
    {
      "cell_type": "markdown",
      "metadata": {
        "id": "view-in-github",
        "colab_type": "text"
      },
      "source": [
        "<a href=\"https://colab.research.google.com/github/anisfreelancer71/kapal_titanic/blob/main/45_Belajar_Aljabar_di_Python.ipynb\" target=\"_parent\"><img src=\"https://colab.research.google.com/assets/colab-badge.svg\" alt=\"Open In Colab\"/></a>"
      ]
    },
    {
      "cell_type": "markdown",
      "source": [
        "##45. Belajar Aljabar di Python"
      ],
      "metadata": {
        "id": "Tlt_IJFSixXq"
      }
    },
    {
      "cell_type": "code",
      "source": [
        "1 + 3"
      ],
      "metadata": {
        "colab": {
          "base_uri": "https://localhost:8080/"
        },
        "id": "GpP25rXCi0vP",
        "outputId": "3ececb6f-1be4-4bef-9b50-2836da9391a7"
      },
      "execution_count": null,
      "outputs": [
        {
          "output_type": "execute_result",
          "data": {
            "text/plain": [
              "4"
            ]
          },
          "metadata": {},
          "execution_count": 1
        }
      ]
    },
    {
      "cell_type": "code",
      "source": [
        "4 * 5"
      ],
      "metadata": {
        "colab": {
          "base_uri": "https://localhost:8080/"
        },
        "id": "CMr_9Npsi8gJ",
        "outputId": "848bf992-3fe1-4b09-cbd0-c37cf962736e"
      },
      "execution_count": null,
      "outputs": [
        {
          "output_type": "execute_result",
          "data": {
            "text/plain": [
              "20"
            ]
          },
          "metadata": {},
          "execution_count": 2
        }
      ]
    },
    {
      "cell_type": "code",
      "source": [
        "x = 10 - 2\n",
        "print(x)"
      ],
      "metadata": {
        "colab": {
          "base_uri": "https://localhost:8080/"
        },
        "id": "JrtFFpDwjAdI",
        "outputId": "71ce87c0-e9a5-4d4a-e8b3-d2fb96349bf1"
      },
      "execution_count": null,
      "outputs": [
        {
          "output_type": "stream",
          "name": "stdout",
          "text": [
            "8\n"
          ]
        }
      ]
    },
    {
      "cell_type": "code",
      "source": [
        "y = 2\n",
        "12/y"
      ],
      "metadata": {
        "colab": {
          "base_uri": "https://localhost:8080/"
        },
        "id": "nVh0NkfNjQOj",
        "outputId": "d958184b-bb70-4bc2-dfa4-5d9460d95265"
      },
      "execution_count": null,
      "outputs": [
        {
          "output_type": "execute_result",
          "data": {
            "text/plain": [
              "6.0"
            ]
          },
          "metadata": {},
          "execution_count": 7
        }
      ]
    },
    {
      "cell_type": "code",
      "source": [
        "from IPython.display import display, Math\n",
        "x = 10\n",
        "j1 = (2*x)+(3*x**2)-(5/x)-(5/x**3)\n",
        "display(Math('2x + 3x^2 - \\\\frac{5}{x} - \\\\frac{5}{x^3} = %g' %j1))"
      ],
      "metadata": {
        "colab": {
          "base_uri": "https://localhost:8080/",
          "height": 51
        },
        "id": "iPyJU929j-xB",
        "outputId": "9f1e4377-b0ae-44f4-8876-67d0b74141df"
      },
      "execution_count": 44,
      "outputs": [
        {
          "output_type": "display_data",
          "data": {
            "text/plain": [
              "<IPython.core.display.Math object>"
            ],
            "text/latex": "$\\displaystyle 2x + 3x^2 - \\frac{5}{x} - \\frac{5}{x^3} = 319.495$"
          },
          "metadata": {}
        }
      ]
    },
    {
      "cell_type": "code",
      "execution_count": 45,
      "metadata": {
        "id": "_wnwkN4qKGr5",
        "colab": {
          "base_uri": "https://localhost:8080/",
          "height": 51
        },
        "outputId": "1d32fcca-b131-4418-b10a-4ed2e807602a"
      },
      "outputs": [
        {
          "output_type": "display_data",
          "data": {
            "text/plain": [
              "<IPython.core.display.Math object>"
            ],
            "text/latex": "$\\displaystyle 2x + 3x^2 - \\frac{5}{x} - \\frac{5}{x^3} = 83.96$"
          },
          "metadata": {}
        }
      ],
      "source": [
        "from IPython.display import display, Math\n",
        "x = 5\n",
        "j1 = (2*x)+(3*x**2)-(5/x)-(5/x**3)\n",
        "display(Math('2x + 3x^2 - \\\\frac{5}{x} - \\\\frac{5}{x^3} = %g' %j1))"
      ]
    },
    {
      "cell_type": "code",
      "source": [
        "import sympy as sym\n",
        "y,z = sym.symbols('y,z')"
      ],
      "metadata": {
        "id": "AUFGiJ_jkujo"
      },
      "execution_count": 46,
      "outputs": []
    },
    {
      "cell_type": "code",
      "source": [
        "x"
      ],
      "metadata": {
        "colab": {
          "base_uri": "https://localhost:8080/"
        },
        "id": "YPXz7xFfpndu",
        "outputId": "7cd4c2be-a41b-41fe-db3b-42132a0f6273"
      },
      "execution_count": null,
      "outputs": [
        {
          "output_type": "execute_result",
          "data": {
            "text/plain": [
              "5"
            ]
          },
          "metadata": {},
          "execution_count": 19
        }
      ]
    },
    {
      "cell_type": "code",
      "source": [
        "y"
      ],
      "metadata": {
        "colab": {
          "base_uri": "https://localhost:8080/",
          "height": 38
        },
        "id": "GYM9mYiMpsXi",
        "outputId": "99f26290-7b47-43e2-b6c2-d26f52f0442e"
      },
      "execution_count": null,
      "outputs": [
        {
          "output_type": "execute_result",
          "data": {
            "text/plain": [
              "y"
            ],
            "text/latex": "$\\displaystyle y$"
          },
          "metadata": {},
          "execution_count": 20
        }
      ]
    },
    {
      "cell_type": "code",
      "source": [
        "z"
      ],
      "metadata": {
        "colab": {
          "base_uri": "https://localhost:8080/",
          "height": 38
        },
        "id": "Fjd3mNMEp28M",
        "outputId": "431dc5b6-2d04-4f45-db10-8d70766316db"
      },
      "execution_count": null,
      "outputs": [
        {
          "output_type": "execute_result",
          "data": {
            "text/plain": [
              "z"
            ],
            "text/latex": "$\\displaystyle z$"
          },
          "metadata": {},
          "execution_count": 21
        }
      ]
    },
    {
      "cell_type": "code",
      "source": [
        "x + 87\n"
      ],
      "metadata": {
        "colab": {
          "base_uri": "https://localhost:8080/"
        },
        "id": "z31zGsEmp4eD",
        "outputId": "1acc55ad-6436-41dc-abd2-48fd04832ef8"
      },
      "execution_count": null,
      "outputs": [
        {
          "output_type": "execute_result",
          "data": {
            "text/plain": [
              "92"
            ]
          },
          "metadata": {},
          "execution_count": 22
        }
      ]
    },
    {
      "cell_type": "code",
      "source": [
        "import numpy as np\n",
        "from IPython.display import Math"
      ],
      "metadata": {
        "id": "LuGPvwlhqGmF"
      },
      "execution_count": 47,
      "outputs": []
    },
    {
      "cell_type": "code",
      "source": [
        "display(x/y)"
      ],
      "metadata": {
        "colab": {
          "base_uri": "https://localhost:8080/",
          "height": 54
        },
        "id": "FtC_lBQKukb1",
        "outputId": "56e94784-a797-4cf3-9bf2-0c7a212d9b84"
      },
      "execution_count": 24,
      "outputs": [
        {
          "output_type": "display_data",
          "data": {
            "text/plain": [
              "5/y"
            ],
            "text/latex": "$\\displaystyle \\frac{5}{y}$"
          },
          "metadata": {}
        }
      ]
    },
    {
      "cell_type": "code",
      "source": [
        "display(Math('\\\\frac{x}{y}'))"
      ],
      "metadata": {
        "colab": {
          "base_uri": "https://localhost:8080/",
          "height": 51
        },
        "id": "lUlE02_Yurqs",
        "outputId": "14d0be47-4596-4744-a6d4-fb90250b9e4a"
      },
      "execution_count": 25,
      "outputs": [
        {
          "output_type": "display_data",
          "data": {
            "text/plain": [
              "<IPython.core.display.Math object>"
            ],
            "text/latex": "$\\displaystyle \\frac{x}{y}$"
          },
          "metadata": {}
        }
      ]
    },
    {
      "cell_type": "code",
      "source": [
        "display(sym.sqrt(6))"
      ],
      "metadata": {
        "colab": {
          "base_uri": "https://localhost:8080/",
          "height": 39
        },
        "id": "V-QlZJ6Bu76X",
        "outputId": "7aec070a-7892-443d-bcd8-313285fbca60"
      },
      "execution_count": 26,
      "outputs": [
        {
          "output_type": "display_data",
          "data": {
            "text/plain": [
              "sqrt(6)"
            ],
            "text/latex": "$\\displaystyle \\sqrt{6}$"
          },
          "metadata": {}
        }
      ]
    },
    {
      "cell_type": "code",
      "source": [
        "np.sqrt(6)"
      ],
      "metadata": {
        "colab": {
          "base_uri": "https://localhost:8080/"
        },
        "id": "2JJ1LvqxvI8I",
        "outputId": "6ad1243d-ad27-46d3-d14c-c1677ce61708"
      },
      "execution_count": 27,
      "outputs": [
        {
          "output_type": "execute_result",
          "data": {
            "text/plain": [
              "2.449489742783178"
            ]
          },
          "metadata": {},
          "execution_count": 27
        }
      ]
    },
    {
      "cell_type": "code",
      "source": [
        "import math\n",
        "math.sqrt(6)"
      ],
      "metadata": {
        "colab": {
          "base_uri": "https://localhost:8080/"
        },
        "id": "Xda2r_rNvQ4J",
        "outputId": "457bd102-bd73-4e66-cd82-90550383a404"
      },
      "execution_count": 48,
      "outputs": [
        {
          "output_type": "execute_result",
          "data": {
            "text/plain": [
              "2.449489742783178"
            ]
          },
          "metadata": {},
          "execution_count": 48
        }
      ]
    },
    {
      "cell_type": "code",
      "source": [
        "display(Math('\\\\sigma = \\\\frac {\\\\mu}{\\\\sqrt{x+y^{25 \\\\times z}}}'))"
      ],
      "metadata": {
        "colab": {
          "base_uri": "https://localhost:8080/",
          "height": 55
        },
        "id": "x0rJ-gQnvWVa",
        "outputId": "8f43bb45-a060-4291-ecbd-c481e6783d37"
      },
      "execution_count": 30,
      "outputs": [
        {
          "output_type": "display_data",
          "data": {
            "text/plain": [
              "<IPython.core.display.Math object>"
            ],
            "text/latex": "$\\displaystyle \\sigma = \\frac {\\mu}{\\sqrt{x+y^{25 \\times z}}}$"
          },
          "metadata": {}
        }
      ]
    },
    {
      "cell_type": "code",
      "source": [
        "display(Math('\\\\sigma = \\\\frac {\\\\mu}{\\\\sqrt{x+y^{25 z}}}'))"
      ],
      "metadata": {
        "colab": {
          "base_uri": "https://localhost:8080/",
          "height": 55
        },
        "id": "wERwdlxMwceC",
        "outputId": "b2cd2a32-b477-45eb-875f-6de6d0de6063"
      },
      "execution_count": 31,
      "outputs": [
        {
          "output_type": "display_data",
          "data": {
            "text/plain": [
              "<IPython.core.display.Math object>"
            ],
            "text/latex": "$\\displaystyle \\sigma = \\frac {\\mu}{\\sqrt{x+y^{25 z}}}$"
          },
          "metadata": {}
        }
      ]
    },
    {
      "cell_type": "code",
      "source": [
        "display(Math('z_{k}'))"
      ],
      "metadata": {
        "colab": {
          "base_uri": "https://localhost:8080/",
          "height": 38
        },
        "id": "1hjCbdbUww3c",
        "outputId": "abfb4fbd-7620-4db3-840b-d49a649b1d57"
      },
      "execution_count": 34,
      "outputs": [
        {
          "output_type": "display_data",
          "data": {
            "text/plain": [
              "<IPython.core.display.Math object>"
            ],
            "text/latex": "$\\displaystyle z_{k}$"
          },
          "metadata": {}
        }
      ]
    },
    {
      "cell_type": "code",
      "source": [
        "display(Math('Jawaban dari persamaan adalah = \\\\frac {x}{y^{15}}'))"
      ],
      "metadata": {
        "colab": {
          "base_uri": "https://localhost:8080/",
          "height": 51
        },
        "id": "thRIoktixN9p",
        "outputId": "1ca4b816-4509-4077-e8be-cddaac34d161"
      },
      "execution_count": 36,
      "outputs": [
        {
          "output_type": "display_data",
          "data": {
            "text/plain": [
              "<IPython.core.display.Math object>"
            ],
            "text/latex": "$\\displaystyle Jawaban dari persamaan adalah = \\frac {x}{y^{15}}$"
          },
          "metadata": {}
        }
      ]
    },
    {
      "cell_type": "code",
      "source": [
        "display(Math('\\\\text{Jawaban dari persamaan adalah = }\\\\frac {x}{y^{15}}'))"
      ],
      "metadata": {
        "colab": {
          "base_uri": "https://localhost:8080/",
          "height": 51
        },
        "id": "lHBV_8Suxpke",
        "outputId": "c1b846f1-09be-459c-c59b-54c68c736102"
      },
      "execution_count": 49,
      "outputs": [
        {
          "output_type": "display_data",
          "data": {
            "text/plain": [
              "<IPython.core.display.Math object>"
            ],
            "text/latex": "$\\displaystyle \\text{Jawaban dari persamaan adalah = }\\frac {x}{y^{15}}$"
          },
          "metadata": {}
        }
      ]
    },
    {
      "cell_type": "markdown",
      "source": [
        "Ini adalah penulisan uji coba markdown\n",
        "\n",
        "$$\n",
        "\\frac{x}{y_k}\n",
        "$$\n"
      ],
      "metadata": {
        "id": "i6hFu_u5087z"
      }
    },
    {
      "cell_type": "code",
      "source": [
        "display(Math('\\\\sin(3\\\\pi + \\\\theta)'))"
      ],
      "metadata": {
        "colab": {
          "base_uri": "https://localhost:8080/",
          "height": 38
        },
        "id": "r3ES1RRp0-lI",
        "outputId": "3f6b2e82-a66a-4b11-9dc2-46edb26052cc"
      },
      "execution_count": 55,
      "outputs": [
        {
          "output_type": "display_data",
          "data": {
            "text/plain": [
              "<IPython.core.display.Math object>"
            ],
            "text/latex": "$\\displaystyle \\sin(3\\pi + \\theta)$"
          },
          "metadata": {}
        }
      ]
    },
    {
      "cell_type": "code",
      "source": [
        "display(Math('e = mc^2'))"
      ],
      "metadata": {
        "colab": {
          "base_uri": "https://localhost:8080/",
          "height": 38
        },
        "id": "FXzUZUjp1qh0",
        "outputId": "754d670b-4b2d-4e44-c237-3a428a23f58e"
      },
      "execution_count": 56,
      "outputs": [
        {
          "output_type": "display_data",
          "data": {
            "text/plain": [
              "<IPython.core.display.Math object>"
            ],
            "text/latex": "$\\displaystyle e = mc^2$"
          },
          "metadata": {}
        }
      ]
    },
    {
      "cell_type": "code",
      "source": [
        "import sympy as sym\n",
        "mu, alpha, sigma = sym.symbols('mu,alpha,sigma')"
      ],
      "metadata": {
        "id": "os4vekzO2VxW"
      },
      "execution_count": 58,
      "outputs": []
    },
    {
      "cell_type": "code",
      "source": [
        "p = mu + 45 + sym.exp(sigma+alpha)\n",
        "display(p)"
      ],
      "metadata": {
        "colab": {
          "base_uri": "https://localhost:8080/",
          "height": 38
        },
        "id": "vBB03l8H2xkn",
        "outputId": "d1682a83-e35b-4c31-b63b-b4e60eab4ed6"
      },
      "execution_count": 61,
      "outputs": [
        {
          "output_type": "display_data",
          "data": {
            "text/plain": [
              "mu + exp(alpha + sigma) + 45"
            ],
            "text/latex": "$\\displaystyle \\mu + e^{\\alpha + \\sigma} + 45$"
          },
          "metadata": {}
        }
      ]
    },
    {
      "cell_type": "code",
      "source": [
        "x,y,z = sym.symbols('x,y,z')\n",
        "p = x+10\n",
        "p"
      ],
      "metadata": {
        "colab": {
          "base_uri": "https://localhost:8080/",
          "height": 38
        },
        "id": "-Evi94Ov3i5b",
        "outputId": "e6d045e2-d616-4f39-bbce-26c7fbf3a284"
      },
      "execution_count": 63,
      "outputs": [
        {
          "output_type": "execute_result",
          "data": {
            "text/plain": [
              "x + 10"
            ],
            "text/latex": "$\\displaystyle x + 10$"
          },
          "metadata": {},
          "execution_count": 63
        }
      ]
    },
    {
      "cell_type": "code",
      "source": [
        "p.subs(x,20)"
      ],
      "metadata": {
        "colab": {
          "base_uri": "https://localhost:8080/",
          "height": 37
        },
        "id": "-XM81dG64IVd",
        "outputId": "e03132ab-daf3-4c46-cdba-0e979a5c42f2"
      },
      "execution_count": 65,
      "outputs": [
        {
          "output_type": "execute_result",
          "data": {
            "text/plain": [
              "30"
            ],
            "text/latex": "$\\displaystyle 30$"
          },
          "metadata": {},
          "execution_count": 65
        }
      ]
    },
    {
      "cell_type": "code",
      "source": [
        "p = x+10+4**y\n",
        "p.subs(x, 10)"
      ],
      "metadata": {
        "colab": {
          "base_uri": "https://localhost:8080/",
          "height": 37
        },
        "id": "9ru8IEsE4anx",
        "outputId": "f17f9ea6-f797-442f-aa71-3a66e9c50e43"
      },
      "execution_count": 76,
      "outputs": [
        {
          "output_type": "execute_result",
          "data": {
            "text/plain": [
              "4**y + 30"
            ],
            "text/latex": "$\\displaystyle 4^{y} + 30$"
          },
          "metadata": {},
          "execution_count": 76
        }
      ]
    },
    {
      "cell_type": "code",
      "source": [
        "p.subs({x:10, y:2})"
      ],
      "metadata": {
        "colab": {
          "base_uri": "https://localhost:8080/",
          "height": 37
        },
        "id": "iSZvLKcW5A78",
        "outputId": "e84971c9-9bb9-44ad-d2b3-c75f4602a4ab"
      },
      "execution_count": 77,
      "outputs": [
        {
          "output_type": "execute_result",
          "data": {
            "text/plain": [
              "46"
            ],
            "text/latex": "$\\displaystyle 46$"
          },
          "metadata": {},
          "execution_count": 77
        }
      ]
    },
    {
      "cell_type": "code",
      "source": [
        "4**2"
      ],
      "metadata": {
        "colab": {
          "base_uri": "https://localhost:8080/"
        },
        "id": "Mkr5t7I_5q3r",
        "outputId": "1848c35d-5a76-4017-ca0f-881cb5bf91f0"
      },
      "execution_count": 81,
      "outputs": [
        {
          "output_type": "execute_result",
          "data": {
            "text/plain": [
              "16"
            ]
          },
          "metadata": {},
          "execution_count": 81
        }
      ]
    },
    {
      "cell_type": "code",
      "source": [
        "x = x + 10\n",
        "x"
      ],
      "metadata": {
        "colab": {
          "base_uri": "https://localhost:8080/"
        },
        "id": "R7xli0AA5-EI",
        "outputId": "b0a2c7d9-e084-4311-a42e-8dc8f82cf6f7"
      },
      "execution_count": 82,
      "outputs": [
        {
          "output_type": "execute_result",
          "data": {
            "text/plain": [
              "30"
            ]
          },
          "metadata": {},
          "execution_count": 82
        }
      ]
    },
    {
      "cell_type": "code",
      "source": [
        "4**2+x"
      ],
      "metadata": {
        "colab": {
          "base_uri": "https://localhost:8080/"
        },
        "id": "JW4SGdDd6G_x",
        "outputId": "6311b802-26ca-407a-f61c-1b57517f611f"
      },
      "execution_count": 84,
      "outputs": [
        {
          "output_type": "execute_result",
          "data": {
            "text/plain": [
              "46"
            ]
          },
          "metadata": {},
          "execution_count": 84
        }
      ]
    },
    {
      "cell_type": "code",
      "source": [],
      "metadata": {
        "id": "WBAS8RAB6sHb"
      },
      "execution_count": null,
      "outputs": []
    },
    {
      "cell_type": "markdown",
      "source": [
        "#Memecahkan persoalan Aljabar"
      ],
      "metadata": {
        "id": "uBHdEu0m7rSE"
      }
    },
    {
      "cell_type": "code",
      "source": [
        "import sympy as sym\n",
        "from IPython.display import Math"
      ],
      "metadata": {
        "id": "WFOvYmVK7vna"
      },
      "execution_count": 85,
      "outputs": []
    },
    {
      "cell_type": "code",
      "source": [
        "x = sym.symbols('x')"
      ],
      "metadata": {
        "id": "ShlqHGy-8BZS"
      },
      "execution_count": 86,
      "outputs": []
    },
    {
      "cell_type": "code",
      "source": [
        "p = 5*x + 5 - 20"
      ],
      "metadata": {
        "id": "7RMq1ixS8K8R"
      },
      "execution_count": 87,
      "outputs": []
    },
    {
      "cell_type": "code",
      "source": [
        "sym.solve(p)"
      ],
      "metadata": {
        "colab": {
          "base_uri": "https://localhost:8080/"
        },
        "id": "OnlgKgI38ZrM",
        "outputId": "8665078f-db9f-40b7-8d30-dab8fb185f3b"
      },
      "execution_count": 88,
      "outputs": [
        {
          "output_type": "execute_result",
          "data": {
            "text/plain": [
              "[3]"
            ]
          },
          "metadata": {},
          "execution_count": 88
        }
      ]
    },
    {
      "cell_type": "code",
      "source": [
        "display(Math('\\\\text{Solusi dari persamaan }%s \\\\text{ adalah x = }%g' %(sym.latex(p), sym.solve(p)[0])))"
      ],
      "metadata": {
        "colab": {
          "base_uri": "https://localhost:8080/",
          "height": 38
        },
        "id": "y78xFlf68dsb",
        "outputId": "86840de2-9a31-4c55-b333-f0a842516cf0"
      },
      "execution_count": 90,
      "outputs": [
        {
          "output_type": "display_data",
          "data": {
            "text/plain": [
              "<IPython.core.display.Math object>"
            ],
            "text/latex": "$\\displaystyle \\text{Solusi dari persamaan }5 x - 15 \\text{ adalah x = }3$"
          },
          "metadata": {}
        }
      ]
    },
    {
      "cell_type": "markdown",
      "source": [
        "##5x + 5 -20 = 0\n",
        "##5x - 15 = 0\n",
        "##5x =15\n",
        "##x =15/5\n",
        "##x = 3"
      ],
      "metadata": {
        "id": "I7vDvG058-Oe"
      }
    },
    {
      "cell_type": "code",
      "source": [
        "p2 =x**2 - 4\n",
        "sym.solve(p2)"
      ],
      "metadata": {
        "colab": {
          "base_uri": "https://localhost:8080/"
        },
        "id": "Jnixtm3w8_lR",
        "outputId": "e269eb87-8e4d-42b1-b71a-af56ef825367"
      },
      "execution_count": 91,
      "outputs": [
        {
          "output_type": "execute_result",
          "data": {
            "text/plain": [
              "[-2, 2]"
            ]
          },
          "metadata": {},
          "execution_count": 91
        }
      ]
    },
    {
      "cell_type": "code",
      "source": [
        "jawab =sym.solve(p2)\n",
        "for i in range(0, len(jawab)):\n",
        "    print('Solusi #' + str(i+1) + ' adalah ' +str(jawab[i]))\n"
      ],
      "metadata": {
        "colab": {
          "base_uri": "https://localhost:8080/"
        },
        "id": "sSGLx7DM_FHE",
        "outputId": "9a5b9e7b-a967-431b-8b63-cadd59cf0696"
      },
      "execution_count": 94,
      "outputs": [
        {
          "output_type": "stream",
          "name": "stdout",
          "text": [
            "Solusi #1 adalah -2\n",
            "Solusi #2 adalah 2\n"
          ]
        }
      ]
    },
    {
      "cell_type": "code",
      "source": [
        "y = sym.symbols('y')\n"
      ],
      "metadata": {
        "id": "YV2EzLNH_9Nf"
      },
      "execution_count": 95,
      "outputs": []
    },
    {
      "cell_type": "code",
      "source": [
        "p3 = x/10 - x*y + 50"
      ],
      "metadata": {
        "id": "WZ4Zisg-AlYv"
      },
      "execution_count": 96,
      "outputs": []
    },
    {
      "cell_type": "code",
      "source": [
        "sym.solve(p3,x)"
      ],
      "metadata": {
        "colab": {
          "base_uri": "https://localhost:8080/"
        },
        "id": "SJ8kqk6sAu3f",
        "outputId": "59d5500c-bfdc-49a9-a214-2318850741f0"
      },
      "execution_count": 97,
      "outputs": [
        {
          "output_type": "execute_result",
          "data": {
            "text/plain": [
              "[500/(10*y - 1)]"
            ]
          },
          "metadata": {},
          "execution_count": 97
        }
      ]
    },
    {
      "cell_type": "code",
      "source": [],
      "metadata": {
        "id": "HxMgKyaIA3lp"
      },
      "execution_count": null,
      "outputs": []
    }
  ]
}