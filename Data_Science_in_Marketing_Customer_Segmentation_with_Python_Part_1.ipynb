{
  "cells": [
    {
      "cell_type": "markdown",
      "metadata": {
        "id": "view-in-github",
        "colab_type": "text"
      },
      "source": [
        "<a href=\"https://colab.research.google.com/github/anisfreelancer71/kapal_titanic/blob/main/Data_Science_in_Marketing_Customer_Segmentation_with_Python_Part_1.ipynb\" target=\"_parent\"><img src=\"https://colab.research.google.com/assets/colab-badge.svg\" alt=\"Open In Colab\"/></a>"
      ]
    },
    {
      "cell_type": "markdown",
      "metadata": {
        "id": "cc8_8gMBNBAT"
      },
      "source": [
        "##Pengantar\n",
        "\n",
        "Suatu pagi kamu terbangun dari tidur dan mendapati ada sebuah e-mail masuk dari e-commerce idaman kamu. Kamu tau bahwa ini bukan sekedar email promosi biasa karena satu minggu lalu kamu baru saja menyelesaikan proses akhir rekruitment di perusahaan tersebut.\n",
        "\n",
        "\"SELAMAT BERGABUNG BERSAMA KAMI\", sebuah kalimat yang memiliki arti mendalam setelah kamu berusaha mengejar cita-cita kamu untuk menjadi data scientist. Hingga akhirnya cita-cita kamu tercapai.\n",
        "\n",
        "Hari pertama pun tiba, kamu menyelesaikan orientasi dan akhirnya bertemu dengan tim data scientist di perusahaan tersebut. Kamu mulai beradaptasi dan segera mendapatkan tugas pertama kamu sebagai seorang junior data scientist.\n",
        "\n",
        "Perusahaan kamu sedang berusaha untuk mengenal lebih baik pelanggannya. Tujuannya agar perusahaan kamu dapat membuat strategi pemasaran yang lebih tepat dan juga efisien bagi tiap tiap pelanggan. Kamu di diberikan tugas agar dapat memberikan rekomendasi untuk menyelesaikan permasalahan tersebut.\n",
        "\n",
        "Kamu teringat bahwa beberapa bulan sebelumnya kamu pernah belajar menghadapi permasalahan serupa di tempat kamu belajar. Salah satu teknik yang bisa dilakukan untuk mengenal lebih baik pelanggan kamu adalah dengan melakukan segmentasi pelanggan. Yaitu dengan mengelompokkan pelanggan-pelanggan yang ada berdasarkan kesamaan karakter dari pelanggan tersebut. Untuk melakukan hal tersebut kamu akan menggunakan teknik unsupervised machine learning.\n",
        "\n",
        "Salah satunya teknik yang dapat digunakan adalah pengaplikasian machine learning menggunakan algoritma K-Prototypes.  Algoritma K-Prototypes merupakan gabungan dari K-Means dan juga K-Modes yang dapat digunakan untuk melakukan segmentasi dengan data."
      ]
    },
    {
      "cell_type": "code",
      "execution_count": null,
      "metadata": {
        "id": "tOq9MuDSNFp7"
      },
      "outputs": [],
      "source": []
    },
    {
      "cell_type": "markdown",
      "metadata": {
        "id": "ZDDUtAKjNOaD"
      },
      "source": [
        "##Mempersiapkan Library dan Data\n",
        "Kamu sangat bersemangat untuk segera menyelesaikan masalah tersebut. Kamu mulai dari mencari tau data apa yang tersedia dan mengumpulkan data yang dibutuhkan terkait pelanggan. Seperti dikebanyakan tempat, kamu berkoordinasi dengan tim data engineer untuk mendapatkan data yang di butuhkan dan berdiskusi dengan tim bisnis untuk memahami arti dari data-data yang kamu miliki.\n",
        "\n",
        "Sampai akhirnya kamu mendapatkan data yang kamu perlukan.\n",
        "\n",
        "\n",
        "\n",
        "Data tersebut memiliki tujuh kolom dengan penjelasan sebagai berikut:\n",
        "\n",
        "Customer ID: Kode pelanggan dengan format campuran teks CUST- diikuti angka\n",
        "Nama Pelanggan: Nama dari pelanggan dengan format teks tentunya\n",
        "Jenis Kelamin: Jenis kelamin dari pelanggan, hanya terdapat dua isi data kategori yaitu Pria dan Wanita\n",
        "Umur: Umur dari pelanggan dalam format angka\n",
        "Profesi: Profesi dari pelanggan, juga bertipe teks kategori yang terdiri dari Wiraswasta, Pelajar, Professional, Ibu Rumah Tangga, dan Mahasiswa.\n",
        "Tipe Residen: Tipe tempat tinggal dari pelanggan kita, untuk dataset ini hanya ada dua kategori: Cluster dan Sector.\n",
        "Nilai Belanja Setahun: Merupakan total belanja yang sudah dikeluarkan oleh pelanggan tersebut.\n"
      ]
    },
    {
      "cell_type": "code",
      "execution_count": 18,
      "metadata": {
        "id": "Jx4xOU1iNTOi"
      },
      "outputs": [],
      "source": [
        "# Mempersiapkan Library\n",
        "# Masalah ini akan dapat di selesaikan dengan menggunakan bantuan library - library di bawah ini:\n",
        "# Pandas, digunakan untuk melakukan pemrosesan analisis data\n",
        "# Matplotlib, digunakan sebagai dasar untuk melakukan visualisasi data\n",
        "# Seaborn, digunakan di atas matplotlib untuk melakukan data visualisasi yang lebih menarik\n",
        "# Scikit - Learn, digunakan untuk mempersiapkan data sebelum dilakukan permodelan\n",
        "# kmodes, digunakan untuk melakukan permodelan menggunakan algoritma K-Modes dan K-Prototypes.\n",
        "# Pickle, digunakan untuk melakukan penyimpanan dari model yang akan di buat.\n",
        "# Tugas:\n",
        "# Lakukan import library yang dibutuhkan pada proyek ini.\n",
        "\n",
        "import pandas as pd\n",
        "import matplotlib.pyplot as plt\n",
        "import seaborn as sns\n",
        "from sklearn.preprocessing import LabelEncoder\n",
        "\n",
        "from kmodes.kmodes import KModes\n",
        "from kmodes.kprototypes import KPrototypes\n",
        "\n",
        "import pickle\n",
        "from pathlib import Path"
      ]
    },
    {
      "cell_type": "code",
      "execution_count": 19,
      "metadata": {
        "colab": {
          "base_uri": "https://localhost:8080/"
        },
        "id": "WpmrKTxGOQkg",
        "outputId": "5e985dd4-69b5-4010-c644-8d4ee6a1af46"
      },
      "outputs": [
        {
          "output_type": "stream",
          "name": "stdout",
          "text": [
            "Requirement already satisfied: KModes in /usr/local/lib/python3.10/dist-packages (0.12.2)\n",
            "Requirement already satisfied: numpy>=1.10.4 in /usr/local/lib/python3.10/dist-packages (from KModes) (1.23.5)\n",
            "Requirement already satisfied: scikit-learn>=0.22.0 in /usr/local/lib/python3.10/dist-packages (from KModes) (1.2.2)\n",
            "Requirement already satisfied: scipy>=0.13.3 in /usr/local/lib/python3.10/dist-packages (from KModes) (1.10.1)\n",
            "Requirement already satisfied: joblib>=0.11 in /usr/local/lib/python3.10/dist-packages (from KModes) (1.3.2)\n",
            "Requirement already satisfied: threadpoolctl>=2.0.0 in /usr/local/lib/python3.10/dist-packages (from scikit-learn>=0.22.0->KModes) (3.2.0)\n"
          ]
        }
      ],
      "source": [
        "pip install KModes"
      ]
    },
    {
      "cell_type": "code",
      "execution_count": 20,
      "metadata": {
        "colab": {
          "base_uri": "https://localhost:8080/"
        },
        "id": "9aArrrcNO4px",
        "outputId": "ea633117-e8b0-4924-af38-c5e82e360712"
      },
      "outputs": [
        {
          "output_type": "stream",
          "name": "stdout",
          "text": [
            "  Customer_ID       Nama Pelanggan Jenis Kelamin  Umur       Profesi  \\\n",
            "0    CUST-001         Budi Anggara          Pria    58    Wiraswasta   \n",
            "1    CUST-002     Shirley Ratuwati        Wanita    14       Pelajar   \n",
            "2    CUST-003         Agus Cahyono          Pria    48  Professional   \n",
            "3    CUST-004     Antonius Winarta          Pria    53  Professional   \n",
            "4    CUST-005  Ibu Sri Wahyuni, IR        Wanita    41    Wiraswasta   \n",
            "\n",
            "  Tipe Residen  NilaiBelanjaSetahun  \n",
            "0       Sector              9497927  \n",
            "1      Cluster              2722700  \n",
            "2      Cluster              5286429  \n",
            "3      Cluster              5204498  \n",
            "4      Cluster             10615206  \n"
          ]
        }
      ],
      "source": [
        "import pandas as pd\n",
        "\n",
        "# import dataset\n",
        "df = pd.read_csv(\"https://storage.googleapis.com/dqlab-dataset/customer_segments.txt\", sep=\"\\t\")\n",
        "\n",
        "# menampilkan data\n",
        "print(df.head())"
      ]
    },
    {
      "cell_type": "markdown",
      "metadata": {
        "id": "18BwndyAPBTL"
      },
      "source": [
        "##Membaca Data Pelanggan\n",
        "Langkah pertama yang perlu di lakukan adalah membaca data tersebut yang semula adalah textfile menjadi pandas dataframe.\n",
        "\n",
        "Tugas:\n",
        "\n",
        "Kamu akan menggunakan fungsi read_csv yang ada di pandas untuk memasukkan data dan kemudian menampilkan 5 data teratas.\n",
        "\n",
        "Jika kamu melakukannya dengan benar maka akan mendapatkan hasil sebagai berikut:"
      ]
    },
    {
      "cell_type": "markdown",
      "metadata": {
        "id": "x-QOrAb1Pbut"
      },
      "source": [
        "##Melihat Informasi dari Data\n",
        "Selanjutnya kamu perlu melihat informasi dari data yang ada. Sehingga dengan kamu bisa mengetahui jumlah baris dan kolom, nama kolom, identifikasi null values,  dan juga mengetahui tipe data dengan mudah.\n",
        "\n",
        "Tugas:\n",
        "\n",
        "Gunakan fungsi info() dari pandas untuk melihat informasi dari data kita. Jika kamu melakukan dengan benar, kamu akan mendapatkan hasil sebagai berikut:"
      ]
    },
    {
      "cell_type": "code",
      "execution_count": 21,
      "metadata": {
        "colab": {
          "base_uri": "https://localhost:8080/"
        },
        "id": "AUc9fHp3PeOd",
        "outputId": "eae437f4-179d-493a-ec2d-b5d69d634859"
      },
      "outputs": [
        {
          "output_type": "stream",
          "name": "stdout",
          "text": [
            "<class 'pandas.core.frame.DataFrame'>\n",
            "RangeIndex: 50 entries, 0 to 49\n",
            "Data columns (total 7 columns):\n",
            " #   Column               Non-Null Count  Dtype \n",
            "---  ------               --------------  ----- \n",
            " 0   Customer_ID          50 non-null     object\n",
            " 1   Nama Pelanggan       50 non-null     object\n",
            " 2   Jenis Kelamin        50 non-null     object\n",
            " 3   Umur                 50 non-null     int64 \n",
            " 4   Profesi              50 non-null     object\n",
            " 5   Tipe Residen         50 non-null     object\n",
            " 6   NilaiBelanjaSetahun  50 non-null     int64 \n",
            "dtypes: int64(2), object(5)\n",
            "memory usage: 2.9+ KB\n"
          ]
        }
      ],
      "source": [
        "import pandas as pd\n",
        "df = pd.read_csv(\"https://storage.googleapis.com/dqlab-dataset/customer_segments.txt\", sep=\"\\t\")\n",
        "\n",
        "# Menampilkan informasi data\n",
        "df.info()"
      ]
    },
    {
      "cell_type": "markdown",
      "source": [
        "##Kesimpulan\n",
        "Setelah melakukan pemanggilan data dan melihat informasi data yang kamu miliki, kamu akhirnya mengetahui bahwa:\n",
        "\n",
        "Data yang akan digunakan terdiri dari 50 baris dan 7 kolom\n",
        "Tidak ada nilai null pada data\n",
        "Dua kolom memiliki tipe data numeric dan lima data bertipe string\n",
        "Tips:\n",
        "\n",
        "Dalam setiap project machine learning, kita harus memahami informasi dasar dari data yang kita miliki sebelum melakukan analisa lebih lanjut. Dengan melakukan hal ini, kita bisa memastikan tipe data dari masing-masing kolom sudah benar, mengetahui apakah ada data null di tiap tiap kolom, dan juga mengetahui nama-nama kolom di dataset yang kita gunakan. Informasi ini nantinya akan menentukan proses apa yang perlu kita lakukan selanjutnya."
      ],
      "metadata": {
        "id": "tyVUZFG1RAcG"
      }
    },
    {
      "cell_type": "markdown",
      "source": [
        "##Melakukan Eksplorasi Data\n",
        "Pada tahap sebelumnya kamu sudah menyiapkan data dan melihat informasi dasar dari data yang kamu miliki.\n",
        "\n",
        "Selanjutnya kamu perlu melakukan eksplorasi data untuk lebih mengenal dataset yang akan digunakan. Kamu akan melakukan eksplorasi untuk data numerik dan juga data kategorikal."
      ],
      "metadata": {
        "id": "avzpjOtfRMIU"
      }
    },
    {
      "cell_type": "markdown",
      "source": [
        "##Eksplorasi Data Numerik\n",
        "Eksplorasi Data Numerik\n",
        "Pertama kamu perlu melihat distribusi data dari data yang berjenis numerik. Disini kamu akan menggunakan boxplot dan juga histogram untuk melihat distribusi datanya. Untuk membuat grafik tersebut, kamu perlu menyiapkan kolom mana yang merupakan kolom numerik. Kemudian menggunakan library seaborn untuk membuat plot masing-masing kolom numerik, yaitu 'Umur' dan 'NilaiBelanjaSetahun'.\n",
        "\n",
        "Tugas:\n",
        "\n",
        "Buatlah boxplot dan histogram untuk kolom Umur dan juga NilaiBelanjaSetahun. Jika kamu melakukan dengan benar, kamu akan mendapatkan hasil sebagai berikut:\n",
        "\n",
        "Note: Untuk melihat keseluruhan grafik dapat dilakukan dengan klik kanan pada grafik dan pilih \"Open image in new tab\"."
      ],
      "metadata": {
        "id": "8HgbYbc3RYr9"
      }
    },
    {
      "cell_type": "code",
      "source": [
        "import matplotlib.pyplot as plt\n",
        "import seaborn as sns\n",
        "sns.set(style='white')\n",
        "import pandas as pd\n",
        "df = pd.read_csv(\"https://storage.googleapis.com/dqlab-dataset/customer_segments.txt\", sep=\"\\t\")\n",
        "plt.clf()\n",
        "\n",
        "# Fungsi untuk membuat plot\n",
        "def observasi_num(features):\n",
        "    fig, axs = plt.subplots(2, 2, figsize=(10, 9))\n",
        "    for i, kol in enumerate(features):\n",
        "\t    sns.boxplot(df[kol], ax = axs[i][0])\n",
        "\t    sns.histplot(df[kol], ax = axs[i][1])\n",
        "\t    axs[i][0].set_title('mean = %.2f\\n median = %.2f\\n std = %.2f'%(df[kol].mean(), df[kol].median(), df[kol].std()))\n",
        "    plt.setp(axs)\n",
        "    plt.tight_layout()\n",
        "    plt.show()\n",
        "\n",
        "# Memanggil fungsi untuk membuat Plot untuk data numerik\n",
        "kolom_numerik = ['Umur','NilaiBelanjaSetahun']\n",
        "observasi_num(kolom_numerik)"
      ],
      "metadata": {
        "colab": {
          "base_uri": "https://localhost:8080/",
          "height": 1000
        },
        "id": "gD0mpbi4RkVf",
        "outputId": "a94638d1-eb41-48df-af4e-fc546f37a653"
      },
      "execution_count": 22,
      "outputs": [
        {
          "output_type": "stream",
          "name": "stdout",
          "text": [
            "  adjustable: {'box', 'datalim'}\n",
            "  agg_filter: a filter function, which takes a (m, n, 3) float array and a dpi value, and returns a (m, n, 3) array and two offsets from the bottom left corner of the image\n",
            "  alpha: scalar or None\n",
            "  anchor: (float, float) or {'C', 'SW', 'S', 'SE', 'E', 'NE', ...}\n",
            "  animated: bool\n",
            "  aspect: {'auto', 'equal'} or float\n",
            "  autoscale_on: bool\n",
            "  autoscalex_on: unknown\n",
            "  autoscaley_on: unknown\n",
            "  axes_locator: Callable[[Axes, Renderer], Bbox]\n",
            "  axisbelow: bool or 'line'\n",
            "  box_aspect: float or None\n",
            "  clip_box: `.Bbox`\n",
            "  clip_on: bool\n",
            "  clip_path: Patch or (Path, Transform) or None\n",
            "  facecolor or fc: color\n",
            "  figure: `.Figure`\n",
            "  frame_on: bool\n",
            "  gid: str\n",
            "  in_layout: bool\n",
            "  label: object\n",
            "  mouseover: bool\n",
            "  navigate: bool\n",
            "  navigate_mode: unknown\n",
            "  path_effects: `.AbstractPathEffect`\n",
            "  picker: None or bool or float or callable\n",
            "  position: [left, bottom, width, height] or `~matplotlib.transforms.Bbox`\n",
            "  prop_cycle: unknown\n",
            "  rasterization_zorder: float or None\n",
            "  rasterized: bool\n",
            "  sketch_params: (scale: float, length: float, randomness: float)\n",
            "  snap: bool or None\n",
            "  subplotspec: unknown\n",
            "  title: str\n",
            "  transform: `.Transform`\n",
            "  url: str\n",
            "  visible: bool\n",
            "  xbound: unknown\n",
            "  xlabel: str\n",
            "  xlim: (bottom: float, top: float)\n",
            "  xmargin: float greater than -0.5\n",
            "  xscale: unknown\n",
            "  xticklabels: unknown\n",
            "  xticks: unknown\n",
            "  ybound: unknown\n",
            "  ylabel: str\n",
            "  ylim: (bottom: float, top: float)\n",
            "  ymargin: float greater than -0.5\n",
            "  yscale: unknown\n",
            "  yticklabels: unknown\n",
            "  yticks: unknown\n",
            "  zorder: float\n"
          ]
        },
        {
          "output_type": "display_data",
          "data": {
            "text/plain": [
              "<Figure size 640x480 with 0 Axes>"
            ]
          },
          "metadata": {}
        },
        {
          "output_type": "display_data",
          "data": {
            "text/plain": [
              "<Figure size 1000x900 with 4 Axes>"
            ],
            "image/png": "[encoded data removed]"
          },
          "metadata": {}
        }
      ]
    },
    {
      "cell_type": "markdown",
      "source": [
        "##Kesimpulan\n",
        "Dari hasil eksplorasi data tersebut kamu dapat mendapatkan informasi:\n",
        "\n",
        "Rata-rata dari umur pelanggan adalah 37.5 tahun\n",
        "Rata-rata dari nilai belanja setahun pelanggan adalah 7,069,874.82\n",
        "Jenis kelamin pelanggan di dominasi oleh wanita sebanyak 41 orang (82%) dan laki-laki sebanyak 9 orang (18%)\n",
        "Profesi terbanyak adalah Wiraswasta (40%) diikuti dengan Professional (36%) dan lainnya sebanyak (24%)\n",
        "Dari seluruh pelanggan 64% dari mereka tinggal di Cluster dan 36% nya tinggal di Sektor\n",
        "Tips:\n",
        "\n",
        "Kita dapat mengenal data kita lebih jauh lagi pada tahapan eksplorasi data ini. Proses eksplorasi data bisa berupa univariate maupun multivariate data eksplorasi. Eksplorasi Data Univariate melihat karakteristik tiap-tiap feature, misalnya dengan melihat statistik deskriptif, membuat histogram, kdeplot, countplot maupun boxplot. Sedangkan untuk Eksplorasi Data Multivariate, kita melihat hubungan tiap variabel dengan variabel lainnya, misal kan dengan membuat korelasi matrix, melihat predictive power, cross tabulasi, dan lainnya."
      ],
      "metadata": {
        "id": "1Dx0lOs4UJ73"
      }
    },
    {
      "cell_type": "markdown",
      "source": [
        "##Mempersiapkan Data Sebelum Permodelan\n",
        "Setiap machine learning model memiliki karakteristik yang berbeda-beda. Hal ini membuat kamu harus mempersiapkan data yang kamu miliki sebelum digunakan untuk melakukan permodelan. Sehingga dapat menyesuaikan dengan karakteristik yang dimiliki oleh tiap model dan mendapatkan hasil yang optimal.\n",
        "\n",
        "Kamu berencana akan melakukan permodelan dengan menggunakan teknik unsupervised clustering. Algoritma yang akan digunakan adalah K-Prototypes. Salah satu faktor utama dalam algoritma ini adalah kamu perlu menggunakan data yang skala antar variabelnya setara. Selain itu kita juga perlu melakukan encoding kolom - kolom kategorikal yang dimiliki menjadi numerik. Kemudian menggabungkan hasil pemrosesan data tersebut menjadi satu dataframe untuk digunakan dalam permodelan.\n",
        "\n",
        "##Standarisasi Kolom Numerik\n",
        "Supaya mendapatkan hasil yang maksimal dalam penerapan algoritma ini, kamu perlu menjadikan data-data numerik yang kamu miliki berada pada satu skala. Hal ini dapat dilakukan dengan melakukan standardisasi data yang kamu miliki. Tujuannya adalah agar variabel yang memiliki skala besar tidak mendominasi bagaimana cluster akan dibentuk dan juga tiap variabel akan dianggap sama pentingnya oleh algoritma yang akan digunakan.\n",
        "\n",
        "Tugas:\n",
        "\n",
        "Lakukan standardisasi kolom-kolom numerik dan tampilkan hasilnya. Selain itu tampilkan deskriptif statistik sebelum dan sesudah standardisasi untuk melihat perbedaannya.\n",
        "\n",
        "Jika dilakukan dengan benar, makan kamu akan mendapatkan hasil sebagai berikut:\n",
        "\n",
        "\n",
        "\n",
        "Kamu dapat melihat setelah dilakukan standardisasi nilai mean dan standard deviasi setiap variabel menjadi 0 dan 1. Hal ini menunjukan bahwa data kita sudah dalam skala yang sama."
      ],
      "metadata": {
        "id": "J6VJ9qjXUOyG"
      }
    },
    {
      "cell_type": "code",
      "source": [
        "import pandas as pd\n",
        "df = pd.read_csv(\"https://storage.googleapis.com/dqlab-dataset/customer_segments.txt\", sep=\"\\t\")\n",
        "\n",
        "from sklearn.preprocessing import StandardScaler\n",
        "\n",
        "kolom_numerik  = ['Umur','NilaiBelanjaSetahun']\n",
        "\n",
        "# Statistik sebelum Standardisasi\n",
        "print('Statistik Sebelum Standardisasi\\n')\n",
        "print(df[kolom_numerik ].describe().round(1))\n",
        "\n",
        "# Standardisasi\n",
        "df_std = StandardScaler().fit_transform(df[kolom_numerik])\n",
        "\n",
        "# Membuat DataFrame\n",
        "df_std = pd.DataFrame(data=df_std, index=df.index, columns=df[kolom_numerik].columns)\n",
        "\n",
        "# Menampilkan contoh isi data dan summary statistic\n",
        "print('Contoh hasil standardisasi\\n')\n",
        "print(df_std.head())\n",
        "\n",
        "print('Statistik hasil standardisasi\\n')\n",
        "print(df_std.describe().round(0))\n"
      ],
      "metadata": {
        "colab": {
          "base_uri": "https://localhost:8080/"
        },
        "id": "Fesm7L-TRsMl",
        "outputId": "94f9949c-1625-4609-c578-ee3ec187f35b"
      },
      "execution_count": 24,
      "outputs": [
        {
          "output_type": "stream",
          "name": "stdout",
          "text": [
            "Statistik Sebelum Standardisasi\n",
            "\n",
            "       Umur  NilaiBelanjaSetahun\n",
            "count  50.0                 50.0\n",
            "mean   37.5            7069874.8\n",
            "std    14.7            2590619.0\n",
            "min    14.0            2722700.0\n",
            "25%    25.0            5257529.8\n",
            "50%    35.0            5980077.0\n",
            "75%    49.8            9739615.0\n",
            "max    64.0           10884508.0\n",
            "Contoh hasil standardisasi\n",
            "\n",
            "       Umur  NilaiBelanjaSetahun\n",
            "0  1.411245             0.946763\n",
            "1 -1.617768            -1.695081\n",
            "2  0.722833            -0.695414\n",
            "3  1.067039            -0.727361\n",
            "4  0.240944             1.382421\n",
            "Statistik hasil standardisasi\n",
            "\n",
            "       Umur  NilaiBelanjaSetahun\n",
            "count  50.0                 50.0\n",
            "mean   -0.0                 -0.0\n",
            "std     1.0                  1.0\n",
            "min    -2.0                 -2.0\n",
            "25%    -1.0                 -1.0\n",
            "50%    -0.0                 -0.0\n",
            "75%     1.0                  1.0\n",
            "max     2.0                  1.0\n"
          ]
        }
      ]
    },
    {
      "cell_type": "markdown",
      "source": [
        "##Konversi Kategorikal Data dengan Label Encoder\n",
        "Selanjutnya kamu perlu merubah kolom-kolom yang berjenis kategorikal menjadi angka. Kita akan menggunakan salah satu fungsi dari sklearn yaitu LabelEncoder. Pada dasarnya fungsi ini akan melakukan konversi data pelanggan dari teks menjadi numerik.\n",
        "\n",
        "Sebagai contoh untuk kolom Jenis Kelamin, teks \"Pria\" akan diubah menjadi angka 0 dan teks \"Wanita\" akan diuubah menjadi angka satu. Perubahan ini perlu kita untuk semua teks sebelum digunakan pada algoritma K-Prototype.\n",
        "\n",
        "Tugas:\n",
        "\n",
        "Ubahlah kolom-kolom kategorikal pada data set kamu menjadi numerik menggunakan LabelEncoder dari sklearn. Kemudian tampilkan hasil lima teratasnya.\n",
        "\n",
        "Jika dilakukan dengan benar maka kamu akan mendapatkan hasil sebagai berikut:\n",
        "\n",
        "\n",
        "\n",
        "Nilai pada tiap kolom merepresentasikan nilai seperti di bawah ini :"
      ],
      "metadata": {
        "id": "372SvVfBU4vV"
      }
    },
    {
      "cell_type": "code",
      "source": [
        "import pandas as pd\n",
        "df = pd.read_csv(\"https://storage.googleapis.com/dqlab-dataset/customer_segments.txt\", sep=\"\\t\")\n",
        "\n",
        "from sklearn.preprocessing import LabelEncoder\n",
        "\n",
        "# Inisiasi nama kolom kategorikal\n",
        "kolom_kategorikal = ['Jenis Kelamin','Profesi','Tipe Residen']\n",
        "\n",
        "# Membuat salinan data frame\n",
        "df_encode = df[kolom_kategorikal].copy()\n",
        "\n",
        "\n",
        "# Melakukan labelEncoder untuk semua kolom kategorikal\n",
        "for col in kolom_kategorikal:\n",
        "    df_encode[col] = LabelEncoder().fit_transform(df_encode[col])\n",
        "\n",
        "# Menampilkan data\n",
        "print(df_encode.head())\n"
      ],
      "metadata": {
        "colab": {
          "base_uri": "https://localhost:8080/"
        },
        "id": "wXSlGNulU9gN",
        "outputId": "0838d0eb-f813-44a4-c68b-a5e9e06463d7"
      },
      "execution_count": 25,
      "outputs": [
        {
          "output_type": "stream",
          "name": "stdout",
          "text": [
            "   Jenis Kelamin  Profesi  Tipe Residen\n",
            "0              0        4             1\n",
            "1              1        2             0\n",
            "2              0        3             0\n",
            "3              0        3             0\n",
            "4              1        4             0\n"
          ]
        }
      ]
    },
    {
      "cell_type": "code",
      "source": [],
      "metadata": {
        "id": "50tbKzokVDWO"
      },
      "execution_count": null,
      "outputs": []
    },
    {
      "cell_type": "markdown",
      "source": [
        "#Menggabungkan Data untuk Permodelan\n",
        "Setelah menyelesaikan dua tahap sebelumnya, kali ini kamu akan menggabungkan kedua hasil pemrosesan tersebut menjadi satu data frame. Data frame ini yang akan digunakan untuk permodelan.\n",
        "\n",
        "Tugas:\n",
        "\n",
        "Gabungkan kedua data frame df_std dan df_encode yang sudah dibuat di tahap sebelumnya menjadi df_model.\n",
        "\n",
        "Jika dilakukan dengan benar maka kamu akan mendapatkan hasil sebagai berikut:"
      ],
      "metadata": {
        "id": "AtA-fW8QVWY0"
      }
    },
    {
      "cell_type": "code",
      "source": [
        "import pandas as pd\n",
        "from sklearn.preprocessing import StandardScaler, LabelEncoder\n",
        "df = pd.read_csv(\"https://storage.googleapis.com/dqlab-dataset/customer_segments.txt\", sep=\"\\t\")\n",
        "\n",
        "kolom_numerik  = ['Umur','NilaiBelanjaSetahun']\n",
        "df_std = StandardScaler().fit_transform(df[kolom_numerik])\n",
        "df_std = pd.DataFrame(data=df_std, index=df.index, columns=df[kolom_numerik].columns)\n",
        "\n",
        "kolom_kategorikal = ['Jenis Kelamin','Profesi','Tipe Residen']\n",
        "df_encode = df[kolom_kategorikal].copy()\n",
        "for col in kolom_kategorikal:\n",
        "    df_encode[col] = LabelEncoder().fit_transform(df_encode[col])\n",
        "\n",
        "# Menggabungkan data frame\n",
        "df_model = df_encode.merge(df_std, left_index=True, right_index=True, how='left')\n",
        "print(df_model.head())"
      ],
      "metadata": {
        "colab": {
          "base_uri": "https://localhost:8080/"
        },
        "id": "tqFId0zUVZPh",
        "outputId": "c88a759b-e1ef-44bb-adfd-50c359ab2572"
      },
      "execution_count": 26,
      "outputs": [
        {
          "output_type": "stream",
          "name": "stdout",
          "text": [
            "   Jenis Kelamin  Profesi  Tipe Residen      Umur  NilaiBelanjaSetahun\n",
            "0              0        4             1  1.411245             0.946763\n",
            "1              1        2             0 -1.617768            -1.695081\n",
            "2              0        3             0  0.722833            -0.695414\n",
            "3              0        3             0  1.067039            -0.727361\n",
            "4              1        4             0  0.240944             1.382421\n"
          ]
        }
      ]
    },
    {
      "cell_type": "code",
      "source": [],
      "metadata": {
        "id": "TFxQVSU0Ve3C"
      },
      "execution_count": null,
      "outputs": []
    },
    {
      "cell_type": "markdown",
      "source": [
        "##Kesimpulan\n",
        "Sampai di sini, kamu sudah menggunakan kemampuan kamu dalam menyiapkan library dan data. Kemudian melakukan data eksplorasi dan pemrosesan data hingga mendapatkan data yang siap digunakan untuk permodelan.\n",
        "\n",
        "Tips:\n",
        "\n",
        "Pada aplikasi di industri, proses pemrosesan data ini termasuk yang paling banyak menghabiskan waktu bagi data scientist. Selain yang sudah kita lakukan masih banyak teknik lain yang perlu dilakukan. Sebagai contoh kadang kita perlu melakukan data imputation ketika ada null data di dataset yang akan kita gunakan. Selain itu kadang kita juga perlu melakukan transformasi variabel, misalnya ketika kita memiliki distribusi data yang condong ke salah satu sisi (skew data). Tambahan contoh lainnya yaitu terkadang kita perlu menangani pencilan yang ada di data kita.\n",
        "\n",
        "##Penutup\n",
        "Congratulation!\n",
        "\n",
        "Kamu sudah berhasil menyelesaikan modul ini. Tapi, perjalan belajarmu tidak berhenti sampai di sini.\n",
        "\n",
        "Masih banyak yang perlu kamu pelajari. Pada bagian selanjutnya kamu akan melakukan segmentasi pelanggan menggunakan K-Prototypes algoritma menggunakan df_model yang sudah kamu pelajari pada modul ini.\n",
        "\n",
        "Jangan pernah bosan dan mudah menyerah mempelajari data science. Tetap berlatih dan asah kemampuan data science mu di DQLab.\n",
        "\n",
        "Terbuka kesempatan besar untuk kamu menjadi talenta data di industri."
      ],
      "metadata": {
        "id": "cn5DvJpiV7cQ"
      }
    },
    {
      "cell_type": "code",
      "source": [],
      "metadata": {
        "id": "9368bezNV9nd"
      },
      "execution_count": null,
      "outputs": []
    }
  ],
  "metadata": {
    "colab": {
      "provenance": [],
      "authorship_tag": "ABX9TyMFwsEL+T1bFbziJn8e+VmJ",
      "include_colab_link": true
    },
    "kernelspec": {
      "display_name": "Python 3",
      "name": "python3"
    },
    "language_info": {
      "name": "python"
    }
  },
  "nbformat": 4,
  "nbformat_minor": 0
}