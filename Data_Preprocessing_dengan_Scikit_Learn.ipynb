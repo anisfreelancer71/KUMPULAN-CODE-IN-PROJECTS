{
  "nbformat": 4,
  "nbformat_minor": 0,
  "metadata": {
    "colab": {
      "provenance": [],
      "authorship_tag": "ABX9TyOz+jJtGPe6Hh92FuuqJLGO",
      "include_colab_link": true
    },
    "kernelspec": {
      "name": "python3",
      "display_name": "Python 3"
    },
    "language_info": {
      "name": "python"
    }
  },
  "cells": [
    {
      "cell_type": "markdown",
      "metadata": {
        "id": "view-in-github",
        "colab_type": "text"
      },
      "source": [
        "<a href=\"https://colab.research.google.com/github/anisfreelancer71/kapal_titanic/blob/main/Data_Preprocessing_dengan_Scikit_Learn.ipynb\" target=\"_parent\"><img src=\"https://colab.research.google.com/assets/colab-badge.svg\" alt=\"Open In Colab\"/></a>"
      ]
    },
    {
      "cell_type": "markdown",
      "source": [
        "#Data Preprocessing dengan Scikit-Learn\n",
        "\n",
        "##Sample Data"
      ],
      "metadata": {
        "id": "wkIfIt87cg5A"
      }
    },
    {
      "cell_type": "code",
      "source": [
        "import numpy as np\n",
        "from sklearn import preprocessing\n",
        "\n",
        "sample_data = np.array([[2.1, -1.9, 5.5],\n",
        "                        [-1.5, 2.4, 3.5],\n",
        "                        [0.5, -7.9, 5.6],\n",
        "                        [5.9, 2.3, -5.8]])\n",
        "sample_data"
      ],
      "metadata": {
        "colab": {
          "base_uri": "https://localhost:8080/"
        },
        "id": "fkVcd1Rlcnrb",
        "outputId": "c8521f4e-e5d4-40f2-cb1f-b13763ec98be"
      },
      "execution_count": 1,
      "outputs": [
        {
          "output_type": "execute_result",
          "data": {
            "text/plain": [
              "array([[ 2.1, -1.9,  5.5],\n",
              "       [-1.5,  2.4,  3.5],\n",
              "       [ 0.5, -7.9,  5.6],\n",
              "       [ 5.9,  2.3, -5.8]])"
            ]
          },
          "metadata": {},
          "execution_count": 1
        }
      ]
    },
    {
      "cell_type": "code",
      "source": [
        "sample_data.shape"
      ],
      "metadata": {
        "colab": {
          "base_uri": "https://localhost:8080/"
        },
        "id": "uKjehF0zdx6D",
        "outputId": "93bbc09d-ab0e-4251-b866-3d0d20f68f9c"
      },
      "execution_count": 2,
      "outputs": [
        {
          "output_type": "execute_result",
          "data": {
            "text/plain": [
              "(4, 3)"
            ]
          },
          "metadata": {},
          "execution_count": 2
        }
      ]
    },
    {
      "cell_type": "markdown",
      "source": [
        "##Binarisatin"
      ],
      "metadata": {
        "id": "Xv5MLfG2d2oS"
      }
    },
    {
      "cell_type": "code",
      "source": [
        "sample_data"
      ],
      "metadata": {
        "colab": {
          "base_uri": "https://localhost:8080/"
        },
        "id": "jz-_hJxId61q",
        "outputId": "a927d9a9-323b-43d6-8c9d-989a56048343"
      },
      "execution_count": 3,
      "outputs": [
        {
          "output_type": "execute_result",
          "data": {
            "text/plain": [
              "array([[ 2.1, -1.9,  5.5],\n",
              "       [-1.5,  2.4,  3.5],\n",
              "       [ 0.5, -7.9,  5.6],\n",
              "       [ 5.9,  2.3, -5.8]])"
            ]
          },
          "metadata": {},
          "execution_count": 3
        }
      ]
    },
    {
      "cell_type": "code",
      "source": [
        "preprocessor = preprocessing.Binarizer(threshold=0.5)\n",
        "binarised_data = preprocessor.transform(sample_data)\n",
        "binarised_data"
      ],
      "metadata": {
        "colab": {
          "base_uri": "https://localhost:8080/"
        },
        "id": "Bw4neTsEeKx1",
        "outputId": "ce863490-7439-4444-9a2b-1102ccc6cc12"
      },
      "execution_count": 4,
      "outputs": [
        {
          "output_type": "execute_result",
          "data": {
            "text/plain": [
              "array([[1., 0., 1.],\n",
              "       [0., 1., 1.],\n",
              "       [0., 0., 1.],\n",
              "       [1., 1., 0.]])"
            ]
          },
          "metadata": {},
          "execution_count": 4
        }
      ]
    },
    {
      "cell_type": "markdown",
      "source": [
        "##Scaling"
      ],
      "metadata": {
        "id": "PcUU81J1gnvb"
      }
    },
    {
      "cell_type": "code",
      "source": [
        "sample_data"
      ],
      "metadata": {
        "colab": {
          "base_uri": "https://localhost:8080/"
        },
        "id": "QNc2HoSgib55",
        "outputId": "05343321-614c-4d91-997e-ab8da290f91d"
      },
      "execution_count": 7,
      "outputs": [
        {
          "output_type": "execute_result",
          "data": {
            "text/plain": [
              "array([[ 2.1, -1.9,  5.5],\n",
              "       [-1.5,  2.4,  3.5],\n",
              "       [ 0.5, -7.9,  5.6],\n",
              "       [ 5.9,  2.3, -5.8]])"
            ]
          },
          "metadata": {},
          "execution_count": 7
        }
      ]
    },
    {
      "cell_type": "code",
      "source": [
        "preprocessor = preprocessing.MinMaxScaler(feature_range=(0, 1))\n",
        "preprocessor.fit(sample_data)\n",
        "scaled_data = preprocessor.transform(sample_data)\n",
        "scaled_data"
      ],
      "metadata": {
        "colab": {
          "base_uri": "https://localhost:8080/"
        },
        "id": "QjjAZNRVgv9C",
        "outputId": "94d16b6c-5c0d-4209-be35-f1d61fc5e012"
      },
      "execution_count": 8,
      "outputs": [
        {
          "output_type": "execute_result",
          "data": {
            "text/plain": [
              "array([[0.48648649, 0.58252427, 0.99122807],\n",
              "       [0.        , 1.        , 0.81578947],\n",
              "       [0.27027027, 0.        , 1.        ],\n",
              "       [1.        , 0.99029126, 0.        ]])"
            ]
          },
          "metadata": {},
          "execution_count": 8
        }
      ]
    },
    {
      "cell_type": "code",
      "source": [
        "scaled_data = preprocessor.fit_transform(sample_data)\n",
        "scaled_data"
      ],
      "metadata": {
        "colab": {
          "base_uri": "https://localhost:8080/"
        },
        "id": "DIEIWTC2h2Nm",
        "outputId": "8cc9c0e1-42d9-4885-bfd8-c0f9b7c5039a"
      },
      "execution_count": 9,
      "outputs": [
        {
          "output_type": "execute_result",
          "data": {
            "text/plain": [
              "array([[0.48648649, 0.58252427, 0.99122807],\n",
              "       [0.        , 1.        , 0.81578947],\n",
              "       [0.27027027, 0.        , 1.        ],\n",
              "       [1.        , 0.99029126, 0.        ]])"
            ]
          },
          "metadata": {},
          "execution_count": 9
        }
      ]
    },
    {
      "cell_type": "markdown",
      "source": [
        "## L1 Normalisation: Least Absolute Deviations\n",
        "\n",
        "Referensi : https://en.wikipedia.org/wiki/Least_absolute_deviations"
      ],
      "metadata": {
        "id": "3awsee5gjgLK"
      }
    },
    {
      "cell_type": "code",
      "source": [
        "sample_data"
      ],
      "metadata": {
        "colab": {
          "base_uri": "https://localhost:8080/"
        },
        "id": "FucxG8s5kc31",
        "outputId": "b8f288c3-ef68-4c07-ad9c-b7910556c641"
      },
      "execution_count": 13,
      "outputs": [
        {
          "output_type": "execute_result",
          "data": {
            "text/plain": [
              "array([[ 2.1, -1.9,  5.5],\n",
              "       [-1.5,  2.4,  3.5],\n",
              "       [ 0.5, -7.9,  5.6],\n",
              "       [ 5.9,  2.3, -5.8]])"
            ]
          },
          "metadata": {},
          "execution_count": 13
        }
      ]
    },
    {
      "cell_type": "code",
      "source": [
        "l1_normalised_data = preprocessing.normalize(sample_data, norm='l1')\n",
        "l1_normalised_data"
      ],
      "metadata": {
        "colab": {
          "base_uri": "https://localhost:8080/"
        },
        "id": "QaUmScvMkXFv",
        "outputId": "3d466117-1f64-4342-bd1e-f85fefb86977"
      },
      "execution_count": 12,
      "outputs": [
        {
          "output_type": "execute_result",
          "data": {
            "text/plain": [
              "array([[ 0.22105263, -0.2       ,  0.57894737],\n",
              "       [-0.2027027 ,  0.32432432,  0.47297297],\n",
              "       [ 0.03571429, -0.56428571,  0.4       ],\n",
              "       [ 0.42142857,  0.16428571, -0.41428571]])"
            ]
          },
          "metadata": {},
          "execution_count": 12
        }
      ]
    },
    {
      "cell_type": "markdown",
      "source": [
        "##L2 Normalisation: Least Squares\n",
        "\n",
        "Referensi : https://en.wikipedia.org/wiki/Least_squares"
      ],
      "metadata": {
        "id": "hS8idOaTl4hR"
      }
    },
    {
      "cell_type": "code",
      "source": [
        "sample_data"
      ],
      "metadata": {
        "colab": {
          "base_uri": "https://localhost:8080/"
        },
        "id": "DdINK_R4mP2m",
        "outputId": "8d8aab7e-bad9-4329-82b5-0dfd37650f0f"
      },
      "execution_count": 14,
      "outputs": [
        {
          "output_type": "execute_result",
          "data": {
            "text/plain": [
              "array([[ 2.1, -1.9,  5.5],\n",
              "       [-1.5,  2.4,  3.5],\n",
              "       [ 0.5, -7.9,  5.6],\n",
              "       [ 5.9,  2.3, -5.8]])"
            ]
          },
          "metadata": {},
          "execution_count": 14
        }
      ]
    },
    {
      "cell_type": "code",
      "source": [
        "l2_normalised_data = preprocessing.normalize(sample_data, norm='l2')\n",
        "l2_normalised_data"
      ],
      "metadata": {
        "colab": {
          "base_uri": "https://localhost:8080/"
        },
        "id": "OWzA9CBxmUHX",
        "outputId": "48815e2b-1d94-48d5-9165-978e41ad6847"
      },
      "execution_count": 15,
      "outputs": [
        {
          "output_type": "execute_result",
          "data": {
            "text/plain": [
              "array([[ 0.33946114, -0.30713151,  0.88906489],\n",
              "       [-0.33325106,  0.53320169,  0.7775858 ],\n",
              "       [ 0.05156558, -0.81473612,  0.57753446],\n",
              "       [ 0.68706914,  0.26784051, -0.6754239 ]])"
            ]
          },
          "metadata": {},
          "execution_count": 15
        }
      ]
    }
  ]
}