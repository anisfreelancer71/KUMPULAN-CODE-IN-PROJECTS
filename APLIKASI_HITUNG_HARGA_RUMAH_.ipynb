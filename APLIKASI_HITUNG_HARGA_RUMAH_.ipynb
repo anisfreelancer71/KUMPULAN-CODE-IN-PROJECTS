{
  "nbformat": 4,
  "nbformat_minor": 0,
  "metadata": {
    "colab": {
      "provenance": [],
      "authorship_tag": "ABX9TyMztY7wVQL+Es+pHvhpkGqy",
      "include_colab_link": true
    },
    "kernelspec": {
      "name": "python3",
      "display_name": "Python 3"
    },
    "language_info": {
      "name": "python"
    }
  },
  "cells": [
    {
      "cell_type": "markdown",
      "metadata": {
        "id": "view-in-github",
        "colab_type": "text"
      },
      "source": [
        "<a href=\"https://colab.research.google.com/github/anisfreelancer71/mycode/blob/main/APLIKASI_HITUNG_HARGA_RUMAH_.ipynb\" target=\"_parent\"><img src=\"https://colab.research.google.com/assets/colab-badge.svg\" alt=\"Open In Colab\"/></a>"
      ]
    },
    {
      "cell_type": "code",
      "execution_count": 6,
      "metadata": {
        "colab": {
          "base_uri": "https://localhost:8080/"
        },
        "id": "TxUz7LWuw35c",
        "outputId": "8c04dba2-997d-42a9-fa7d-50b933b2cb57"
      },
      "outputs": [
        {
          "output_type": "stream",
          "name": "stdout",
          "text": [
            "Masukkan luas bangunan (LB): 180\n",
            "Masukkan jumlah kamar tidur (KT): 4\n",
            "Harga Rumah Yang Anda Pesan Adalah: RP 307140000.00 \n"
          ]
        }
      ],
      "source": [
        "import pandas as pd\n",
        "import numpy as np\n",
        "from sklearn.linear_model import LinearRegression\n",
        "from sklearn.model_selection import train_test_split\n",
        "from sklearn.metrics import r2_score, mean_squared_error\n",
        "\n",
        "a = 100\n",
        "b = 500\n",
        "hrumah = {\n",
        "    'LB': [200,280,60,100,350,250,300,80],\n",
        "    'KT': [2,3,1,2,5,3,4,1],\n",
        "    'HRG': [(200*a)+(2*b),(280*a)+(3*b),(60*a)+(1*b)\n",
        "    ,(100*a)+(2*b),(350*a)+(5*b),(250*a)+(3*b),(300*a)+(4*b),(80*a)+(1*b)]\n",
        "\n",
        "}\n",
        "hrumah_df = pd.DataFrame(hrumah)\n",
        "# Loop untuk menghitung HRG berdasarkan LB dan KT\n",
        "for index, row in hrumah_df.iterrows():\n",
        "    hrumah_df.at[index, 'HRG'] = (row['LB'] * a) + (row['KT'] * b)\n",
        "X_train = np.array(hrumah_df[['LB', 'KT']])\n",
        "y_train = np.array(hrumah_df['HRG'])\n",
        "# Mengambil data dari DataFrame\n",
        "X = np.array(hrumah_df[['LB', 'KT']])\n",
        "y = np.array(hrumah_df['HRG'])\n",
        "# Membagi data menjadi data pelatihan dan pengujian (misalnya, 80% data pelatihan, 20% data pengujian)\n",
        "X_train, X_test, y_train, y_test = train_test_split(X, y, test_size=0.2, random_state=42)\n",
        "# Membuat model Regresi Linier\n",
        "model = LinearRegression()\n",
        "model.fit(X_train, y_train)\n",
        "# Memprediksi target pada data pengujian\n",
        "y_pred = model.predict(X_test)\n",
        "# Input dari pengguna untuk LB dan KT\n",
        "luas_bangunan = float(input(\"Masukkan luas bangunan (LB): \"))\n",
        "kamar_tidur = float(input(\"Masukkan jumlah kamar tidur (KT): \"))\n",
        "# Menghitung LB dan KT\n",
        "LB = luas_bangunan\n",
        "KT = kamar_tidur\n",
        "# Membuat array baru untuk prediksi\n",
        "X_new = np.array([LB, KT]).reshape(1, -1)\n",
        "# Memprediksi harga rumah\n",
        "y_new = model.predict(X_new)\n",
        "# Mengonversi harga rumah dari USD ke RP\n",
        "kurs_usd_to_rp = 15357\n",
        "harga_prediksi_rp = y_new[0] * kurs_usd_to_rp\n",
        "# Menampilkan hasil prediksi dalam RP\n",
        "print(f\"Harga Rumah Yang Anda Pesan Adalah: RP {harga_prediksi_rp:.2f} \")"
      ]
    }
  ]
}