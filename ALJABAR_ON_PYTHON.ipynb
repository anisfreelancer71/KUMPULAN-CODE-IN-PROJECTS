{
  "nbformat": 4,
  "nbformat_minor": 0,
  "metadata": {
    "colab": {
      "provenance": [],
      "authorship_tag": "ABX9TyMvWOFYKidgk3FvaJ9zSccm",
      "include_colab_link": true
    },
    "kernelspec": {
      "name": "python3",
      "display_name": "Python 3"
    },
    "language_info": {
      "name": "python"
    }
  },
  "cells": [
    {
      "cell_type": "markdown",
      "metadata": {
        "id": "view-in-github",
        "colab_type": "text"
      },
      "source": [
        "<a href=\"https://colab.research.google.com/github/anisfreelancer71/mycode/blob/main/ALJABAR_ON_PYTHON.ipynb\" target=\"_parent\"><img src=\"https://colab.research.google.com/assets/colab-badge.svg\" alt=\"Open In Colab\"/></a>"
      ]
    },
    {
      "cell_type": "code",
      "execution_count": 2,
      "metadata": {
        "id": "c5rKqChI7fz2"
      },
      "outputs": [],
      "source": [
        "import sympy as sym"
      ]
    },
    {
      "cell_type": "code",
      "source": [
        "x = sym.symbols('x')"
      ],
      "metadata": {
        "id": "1UeJ5UCy79Ag"
      },
      "execution_count": 13,
      "outputs": []
    },
    {
      "cell_type": "code",
      "source": [
        "x"
      ],
      "metadata": {
        "colab": {
          "base_uri": "https://localhost:8080/",
          "height": 38
        },
        "id": "jik3_WIm8dPu",
        "outputId": "a2c45238-3edf-425c-fddf-ddac277fbaef"
      },
      "execution_count": 14,
      "outputs": [
        {
          "output_type": "execute_result",
          "data": {
            "text/plain": [
              "x"
            ],
            "text/latex": "$\\displaystyle x$"
          },
          "metadata": {},
          "execution_count": 14
        }
      ]
    },
    {
      "cell_type": "code",
      "source": [
        "x + 10"
      ],
      "metadata": {
        "colab": {
          "base_uri": "https://localhost:8080/",
          "height": 38
        },
        "id": "DfKqDGRA8ezC",
        "outputId": "9de20a24-65df-4095-cd6c-d2ddd6550285"
      },
      "execution_count": 15,
      "outputs": [
        {
          "output_type": "execute_result",
          "data": {
            "text/plain": [
              "x + 10"
            ],
            "text/latex": "$\\displaystyle x + 10$"
          },
          "metadata": {},
          "execution_count": 15
        }
      ]
    },
    {
      "cell_type": "code",
      "source": [
        "x**7"
      ],
      "metadata": {
        "colab": {
          "base_uri": "https://localhost:8080/",
          "height": 38
        },
        "id": "NeumUlRk8009",
        "outputId": "a199f670-8d79-4077-d66d-fed059728585"
      },
      "execution_count": 16,
      "outputs": [
        {
          "output_type": "execute_result",
          "data": {
            "text/plain": [
              "x**7"
            ],
            "text/latex": "$\\displaystyle x^{7}$"
          },
          "metadata": {},
          "execution_count": 16
        }
      ]
    },
    {
      "cell_type": "code",
      "source": [
        "display(x**7)"
      ],
      "metadata": {
        "colab": {
          "base_uri": "https://localhost:8080/",
          "height": 38
        },
        "id": "b6Zy2OO39YPa",
        "outputId": "b195a6e3-0ef6-4b77-d4d3-3a9dd67c4d55"
      },
      "execution_count": 17,
      "outputs": [
        {
          "output_type": "display_data",
          "data": {
            "text/plain": [
              "x**7"
            ],
            "text/latex": "$\\displaystyle x^{7}$"
          },
          "metadata": {}
        }
      ]
    },
    {
      "cell_type": "code",
      "source": [
        "display(x + 87)"
      ],
      "metadata": {
        "colab": {
          "base_uri": "https://localhost:8080/",
          "height": 38
        },
        "id": "mdTdDpGw9eGS",
        "outputId": "b64b9f01-6186-432b-949e-f120828caf0a"
      },
      "execution_count": 18,
      "outputs": [
        {
          "output_type": "display_data",
          "data": {
            "text/plain": [
              "x + 87"
            ],
            "text/latex": "$\\displaystyle x + 87$"
          },
          "metadata": {}
        }
      ]
    },
    {
      "cell_type": "code",
      "source": [
        "x +87"
      ],
      "metadata": {
        "colab": {
          "base_uri": "https://localhost:8080/",
          "height": 38
        },
        "id": "cjnxrUpp9m8S",
        "outputId": "7353ebd0-c872-4f4f-b24f-43d73c9a1aa4"
      },
      "execution_count": 19,
      "outputs": [
        {
          "output_type": "execute_result",
          "data": {
            "text/plain": [
              "x + 87"
            ],
            "text/latex": "$\\displaystyle x + 87$"
          },
          "metadata": {},
          "execution_count": 19
        }
      ]
    },
    {
      "cell_type": "code",
      "source": [
        "x, y = sym.symbols('x, y')"
      ],
      "metadata": {
        "id": "bMqByeGC9uUc"
      },
      "execution_count": 20,
      "outputs": []
    },
    {
      "cell_type": "code",
      "source": [
        "x/y"
      ],
      "metadata": {
        "colab": {
          "base_uri": "https://localhost:8080/",
          "height": 51
        },
        "id": "O4DfBnrn9201",
        "outputId": "9aa33d60-b793-4db3-dfcd-7bd74db08621"
      },
      "execution_count": 21,
      "outputs": [
        {
          "output_type": "execute_result",
          "data": {
            "text/plain": [
              "x/y"
            ],
            "text/latex": "$\\displaystyle \\frac{x}{y}$"
          },
          "metadata": {},
          "execution_count": 21
        }
      ]
    },
    {
      "cell_type": "code",
      "source": [
        "from IPython.display import Math\n",
        "display(Math('\\\\frac{x}{y}'))"
      ],
      "metadata": {
        "colab": {
          "base_uri": "https://localhost:8080/",
          "height": 51
        },
        "id": "yvsC-QxZ95dG",
        "outputId": "02edac5c-6b0f-4d59-e708-b063d1fb6a73"
      },
      "execution_count": 25,
      "outputs": [
        {
          "output_type": "display_data",
          "data": {
            "text/plain": [
              "<IPython.core.display.Math object>"
            ],
            "text/latex": "$\\displaystyle \\frac{x}{y}$"
          },
          "metadata": {}
        }
      ]
    },
    {
      "cell_type": "code",
      "source": [
        "display(sym.sqrt(5))"
      ],
      "metadata": {
        "colab": {
          "base_uri": "https://localhost:8080/",
          "height": 39
        },
        "id": "u2DMUE3d-IRo",
        "outputId": "7d31a620-8664-4c92-d30e-1894a4f907df"
      },
      "execution_count": 26,
      "outputs": [
        {
          "output_type": "display_data",
          "data": {
            "text/plain": [
              "sqrt(5)"
            ],
            "text/latex": "$\\displaystyle \\sqrt{5}$"
          },
          "metadata": {}
        }
      ]
    },
    {
      "cell_type": "code",
      "source": [
        "import numpy as np\n",
        "import math\n",
        "np.sqrt(5)"
      ],
      "metadata": {
        "colab": {
          "base_uri": "https://localhost:8080/"
        },
        "id": "K3bSD1cD-SII",
        "outputId": "8a9c3120-c5fe-42dc-f36a-6d78fa311313"
      },
      "execution_count": 28,
      "outputs": [
        {
          "output_type": "execute_result",
          "data": {
            "text/plain": [
              "2.23606797749979"
            ]
          },
          "metadata": {},
          "execution_count": 28
        }
      ]
    },
    {
      "cell_type": "code",
      "source": [
        "math.sqrt(5)"
      ],
      "metadata": {
        "colab": {
          "base_uri": "https://localhost:8080/"
        },
        "id": "rzaKkyEz-2w-",
        "outputId": "3cf609a4-852d-4f08-e89b-81c90136d35d"
      },
      "execution_count": 29,
      "outputs": [
        {
          "output_type": "execute_result",
          "data": {
            "text/plain": [
              "2.23606797749979"
            ]
          },
          "metadata": {},
          "execution_count": 29
        }
      ]
    },
    {
      "cell_type": "code",
      "source": [
        "display(np.sqrt(64))"
      ],
      "metadata": {
        "colab": {
          "base_uri": "https://localhost:8080/",
          "height": 34
        },
        "id": "Egr9Bt0d_How",
        "outputId": "8695ecd8-da0c-43ab-f0af-2645db50f5c9"
      },
      "execution_count": 32,
      "outputs": [
        {
          "output_type": "display_data",
          "data": {
            "text/plain": [
              "8.0"
            ]
          },
          "metadata": {}
        }
      ]
    },
    {
      "cell_type": "code",
      "source": [
        "display(math.sqrt(121))"
      ],
      "metadata": {
        "colab": {
          "base_uri": "https://localhost:8080/",
          "height": 34
        },
        "id": "vOqZTAg3_Tla",
        "outputId": "dc3ff613-5c1e-4eb9-989c-3215998a2581"
      },
      "execution_count": 33,
      "outputs": [
        {
          "output_type": "display_data",
          "data": {
            "text/plain": [
              "11.0"
            ]
          },
          "metadata": {}
        }
      ]
    },
    {
      "cell_type": "code",
      "source": [
        "import sympy as sym\n",
        "from IPython.display import Math"
      ],
      "metadata": {
        "id": "7uqy8Byb_ala"
      },
      "execution_count": 36,
      "outputs": []
    },
    {
      "cell_type": "code",
      "source": [
        "display(Math('\\\\sigma = \\\\frac {\\\\mu}{\\\\sqrt{x+y^{25 \\\\times z}}}'))"
      ],
      "metadata": {
        "colab": {
          "base_uri": "https://localhost:8080/",
          "height": 55
        },
        "id": "1zu6RIOG_6qn",
        "outputId": "1c17861e-dd5f-4048-e87e-978ffcd0e857"
      },
      "execution_count": 39,
      "outputs": [
        {
          "output_type": "display_data",
          "data": {
            "text/plain": [
              "<IPython.core.display.Math object>"
            ],
            "text/latex": "$\\displaystyle \\sigma = \\frac {\\mu}{\\sqrt{x+y^{25 \\times z}}}$"
          },
          "metadata": {}
        }
      ]
    },
    {
      "cell_type": "code",
      "source": [
        "display(Math('\\\\sigma = \\\\frac {\\\\mu}{\\\\sqrt{x + y^{z}}}'))"
      ],
      "metadata": {
        "colab": {
          "base_uri": "https://localhost:8080/",
          "height": 52
        },
        "id": "ZmHg2o8jAp6U",
        "outputId": "8d27d6b7-9d87-4d77-d2a0-2162bae78b8e"
      },
      "execution_count": 43,
      "outputs": [
        {
          "output_type": "display_data",
          "data": {
            "text/plain": [
              "<IPython.core.display.Math object>"
            ],
            "text/latex": "$\\displaystyle \\sigma = \\frac {\\mu}{\\sqrt{x + y^{z}}}$"
          },
          "metadata": {}
        }
      ]
    },
    {
      "cell_type": "code",
      "source": [
        "display(Math('\\\\sqrt{y + z^{10-x}}'))"
      ],
      "metadata": {
        "colab": {
          "base_uri": "https://localhost:8080/",
          "height": 39
        },
        "id": "4RRu5JJ1CWK0",
        "outputId": "7080bedb-539d-44b6-b714-efcfc445d3e0"
      },
      "execution_count": 46,
      "outputs": [
        {
          "output_type": "display_data",
          "data": {
            "text/plain": [
              "<IPython.core.display.Math object>"
            ],
            "text/latex": "$\\displaystyle \\sqrt{y + z^{10-x}}$"
          },
          "metadata": {}
        }
      ]
    },
    {
      "cell_type": "code",
      "source": [
        "display(Math('\\\\sigma = \\\\frac{x}{\\\\sqrt{y + z^{x10}}}'))"
      ],
      "metadata": {
        "colab": {
          "base_uri": "https://localhost:8080/",
          "height": 55
        },
        "id": "BlIBc0YgCvO-",
        "outputId": "ac7e90a4-bd41-4fa2-db7b-515159b48aee"
      },
      "execution_count": 51,
      "outputs": [
        {
          "output_type": "display_data",
          "data": {
            "text/plain": [
              "<IPython.core.display.Math object>"
            ],
            "text/latex": "$\\displaystyle \\sigma = \\frac{x}{\\sqrt{y + z^{x10}}}$"
          },
          "metadata": {}
        }
      ]
    },
    {
      "cell_type": "markdown",
      "source": [
        "$$ \\text{Ini adalah Jawaban dari persamaan ==>   }  \\sigma = \\frac{x}{\\sqrt{y + z^{x10}}} $$"
      ],
      "metadata": {
        "id": "_1kqawqTFRLx"
      }
    },
    {
      "cell_type": "code",
      "source": [
        "display(Math('\\\\sin(3\\\\pi + \\\\theta)'))"
      ],
      "metadata": {
        "colab": {
          "base_uri": "https://localhost:8080/",
          "height": 38
        },
        "id": "uqHp-g0ZEjv0",
        "outputId": "94ee8ef7-2349-4615-cf13-c4ada0b0af77"
      },
      "execution_count": 52,
      "outputs": [
        {
          "output_type": "display_data",
          "data": {
            "text/plain": [
              "<IPython.core.display.Math object>"
            ],
            "text/latex": "$\\displaystyle \\sin(3\\pi + \\theta)$"
          },
          "metadata": {}
        }
      ]
    },
    {
      "cell_type": "code",
      "source": [
        "# E = MC kuadrat\n",
        "display(Math('e = mc^2'))"
      ],
      "metadata": {
        "colab": {
          "base_uri": "https://localhost:8080/",
          "height": 38
        },
        "id": "jrardFofHTKi",
        "outputId": "c904b07f-1503-476d-cd8f-5570ae7f976f"
      },
      "execution_count": 55,
      "outputs": [
        {
          "output_type": "display_data",
          "data": {
            "text/plain": [
              "<IPython.core.display.Math object>"
            ],
            "text/latex": "$\\displaystyle e = mc^2$"
          },
          "metadata": {}
        }
      ]
    },
    {
      "cell_type": "code",
      "source": [
        "mu , alpha, sigma = sym.symbols('mu , alpha, sigma')"
      ],
      "metadata": {
        "id": "cZSO_lARHkBG"
      },
      "execution_count": 56,
      "outputs": []
    },
    {
      "cell_type": "code",
      "source": [
        "p = mu + 2*45 + sym.exp(sigma+alpha)\n",
        "display(p)"
      ],
      "metadata": {
        "colab": {
          "base_uri": "https://localhost:8080/",
          "height": 38
        },
        "id": "JJ7kXe1uIO5q",
        "outputId": "8854fcdb-d01b-4d92-94f6-e81acb1de776"
      },
      "execution_count": 61,
      "outputs": [
        {
          "output_type": "display_data",
          "data": {
            "text/plain": [
              "mu + exp(alpha + sigma) + 90"
            ],
            "text/latex": "$\\displaystyle \\mu + e^{\\alpha + \\sigma} + 90$"
          },
          "metadata": {}
        }
      ]
    },
    {
      "cell_type": "code",
      "source": [
        "p"
      ],
      "metadata": {
        "colab": {
          "base_uri": "https://localhost:8080/",
          "height": 38
        },
        "id": "0MjHjXVVIfZG",
        "outputId": "dcc2ba02-4cb6-4cbb-e179-9c403d1bddfa"
      },
      "execution_count": 62,
      "outputs": [
        {
          "output_type": "execute_result",
          "data": {
            "text/plain": [
              "mu + exp(alpha + sigma) + 90"
            ],
            "text/latex": "$\\displaystyle \\mu + e^{\\alpha + \\sigma} + 90$"
          },
          "metadata": {},
          "execution_count": 62
        }
      ]
    },
    {
      "cell_type": "code",
      "source": [
        "x, y, z = sym.symbols('x, y, z')"
      ],
      "metadata": {
        "id": "J_1rPgzrI0tA"
      },
      "execution_count": 63,
      "outputs": []
    },
    {
      "cell_type": "code",
      "source": [
        "p =  x + 10\n",
        "p"
      ],
      "metadata": {
        "colab": {
          "base_uri": "https://localhost:8080/",
          "height": 38
        },
        "id": "blK6k5_UJKUr",
        "outputId": "4c83c035-aab3-4592-d4e0-006d532c8a17"
      },
      "execution_count": 64,
      "outputs": [
        {
          "output_type": "execute_result",
          "data": {
            "text/plain": [
              "x + 10"
            ],
            "text/latex": "$\\displaystyle x + 10$"
          },
          "metadata": {},
          "execution_count": 64
        }
      ]
    },
    {
      "cell_type": "code",
      "source": [
        "p.subs(x, 2)\n",
        "display(p.subs(x, 2))"
      ],
      "metadata": {
        "colab": {
          "base_uri": "https://localhost:8080/",
          "height": 37
        },
        "id": "C-MFah5jJPjN",
        "outputId": "a0a573ac-b5e4-458e-88df-c9f2d933e792"
      },
      "execution_count": 69,
      "outputs": [
        {
          "output_type": "display_data",
          "data": {
            "text/plain": [
              "12"
            ],
            "text/latex": "$\\displaystyle 12$"
          },
          "metadata": {}
        }
      ]
    },
    {
      "cell_type": "code",
      "source": [
        "p.subs(x, 25)\n",
        "display(p.subs(x, 25))"
      ],
      "metadata": {
        "colab": {
          "base_uri": "https://localhost:8080/",
          "height": 37
        },
        "id": "cG5AxqZbJXFm",
        "outputId": "9719b3a1-1697-4642-e290-13c5d51a1729"
      },
      "execution_count": 71,
      "outputs": [
        {
          "output_type": "display_data",
          "data": {
            "text/plain": [
              "35"
            ],
            "text/latex": "$\\displaystyle 35$"
          },
          "metadata": {}
        }
      ]
    },
    {
      "cell_type": "code",
      "source": [
        "p1 = z ** 5\n",
        "p1.subs(z, 10)"
      ],
      "metadata": {
        "colab": {
          "base_uri": "https://localhost:8080/",
          "height": 37
        },
        "id": "Gl1ZqneTKFtg",
        "outputId": "38a23c65-6a35-459a-ce00-12da7a53dac0"
      },
      "execution_count": 76,
      "outputs": [
        {
          "output_type": "execute_result",
          "data": {
            "text/plain": [
              "100000"
            ],
            "text/latex": "$\\displaystyle 100000$"
          },
          "metadata": {},
          "execution_count": 76
        }
      ]
    },
    {
      "cell_type": "code",
      "source": [
        "p2 = y**(2*y)\n",
        "p2.subs(y, 3)"
      ],
      "metadata": {
        "colab": {
          "base_uri": "https://localhost:8080/",
          "height": 37
        },
        "id": "nuOI9vixKRRF",
        "outputId": "58268abf-29ac-48ff-cefd-c62333396176"
      },
      "execution_count": 78,
      "outputs": [
        {
          "output_type": "execute_result",
          "data": {
            "text/plain": [
              "729"
            ],
            "text/latex": "$\\displaystyle 729$"
          },
          "metadata": {},
          "execution_count": 78
        }
      ]
    },
    {
      "cell_type": "code",
      "source": [
        "p3 = x+10+4**y\n",
        "p3.subs(x, 10)"
      ],
      "metadata": {
        "colab": {
          "base_uri": "https://localhost:8080/",
          "height": 37
        },
        "id": "lTM-J2E5LBLc",
        "outputId": "56aeb531-3132-4dce-bbbc-fe3a69a5f100"
      },
      "execution_count": 81,
      "outputs": [
        {
          "output_type": "execute_result",
          "data": {
            "text/plain": [
              "4**y + 20"
            ],
            "text/latex": "$\\displaystyle 4^{y} + 20$"
          },
          "metadata": {},
          "execution_count": 81
        }
      ]
    },
    {
      "cell_type": "code",
      "source": [
        "p3 = x+10+4**y\n",
        "p3.subs({x:10, y:2})"
      ],
      "metadata": {
        "colab": {
          "base_uri": "https://localhost:8080/",
          "height": 37
        },
        "id": "6rj-vApjNQlR",
        "outputId": "6259d958-4017-403b-f61a-9b7f9f876479"
      },
      "execution_count": 83,
      "outputs": [
        {
          "output_type": "execute_result",
          "data": {
            "text/plain": [
              "36"
            ],
            "text/latex": "$\\displaystyle 36$"
          },
          "metadata": {},
          "execution_count": 83
        }
      ]
    },
    {
      "cell_type": "markdown",
      "source": [
        "#Memecahkan persoalan aljabar\n",
        "#Solve algebra problems"
      ],
      "metadata": {
        "id": "urUZisDVOedF"
      }
    },
    {
      "cell_type": "code",
      "source": [
        "import sympy as sym\n",
        "from IPython.display import Math"
      ],
      "metadata": {
        "id": "hKFr5PC2OGRJ"
      },
      "execution_count": 87,
      "outputs": []
    },
    {
      "cell_type": "code",
      "source": [
        "x = sym.symbols('x')\n",
        "p = 5*x + 5 - 20\n",
        "print(f'This is the solution equation x = ', sym.solve(p))"
      ],
      "metadata": {
        "colab": {
          "base_uri": "https://localhost:8080/"
        },
        "id": "RpCt9P2COxj0",
        "outputId": "c736f652-3384-48d2-ae07-44c9c0b6f273"
      },
      "execution_count": 91,
      "outputs": [
        {
          "output_type": "stream",
          "name": "stdout",
          "text": [
            "This is the solution equation x =  [3]\n"
          ]
        }
      ]
    },
    {
      "cell_type": "markdown",
      "source": [
        "#$$5x + 5 - 20 = 0\n",
        "5x - 15 = 0\n",
        "5x = 15\n",
        "x = 15/5\n",
        "x = 3 #$$"
      ],
      "metadata": {
        "id": "CoqmE74gR3gf"
      }
    },
    {
      "cell_type": "code",
      "source": [
        "display(Math('\\\\text{This is the solution equation }%s \\\\text{ Is x = }%g' %(sym.latex(p), sym.solve(p)[0])))"
      ],
      "metadata": {
        "colab": {
          "base_uri": "https://localhost:8080/",
          "height": 38
        },
        "id": "aPwde-2kPiaI",
        "outputId": "4fa9a471-1689-40d8-f493-2b9eb2b77a3f"
      },
      "execution_count": 98,
      "outputs": [
        {
          "output_type": "display_data",
          "data": {
            "text/plain": [
              "<IPython.core.display.Math object>"
            ],
            "text/latex": "$\\displaystyle \\text{This is the solution equation }5 x - 15 \\text{ Is x = }3$"
          },
          "metadata": {}
        }
      ]
    },
    {
      "cell_type": "code",
      "source": [
        "p2 = x**2 - 4\n",
        "sym.solve(p2)"
      ],
      "metadata": {
        "colab": {
          "base_uri": "https://localhost:8080/"
        },
        "id": "pmeJg1AYWxgN",
        "outputId": "b5d5f539-c5b9-49cb-ce39-5b29fe8b1566"
      },
      "execution_count": 100,
      "outputs": [
        {
          "output_type": "execute_result",
          "data": {
            "text/plain": [
              "[-2, 2]"
            ]
          },
          "metadata": {},
          "execution_count": 100
        }
      ]
    },
    {
      "cell_type": "code",
      "source": [
        "ask = sym.solve(p2)\n",
        "for i in range(0, len(ask)):\n",
        "  print('Solution #' + str(i+1) + ' added up is ' + str(ask[i]))"
      ],
      "metadata": {
        "colab": {
          "base_uri": "https://localhost:8080/"
        },
        "id": "wcEXJRO6W9Dy",
        "outputId": "6fe4033f-136e-4564-eddb-ee7bb3a74a4c"
      },
      "execution_count": 103,
      "outputs": [
        {
          "output_type": "stream",
          "name": "stdout",
          "text": [
            "Solution #1 added up is -2\n",
            "Solution #2 added up is 2\n"
          ]
        }
      ]
    },
    {
      "cell_type": "code",
      "source": [
        "y = sym.symbols('y')"
      ],
      "metadata": {
        "id": "s_tHMFwoZGvX"
      },
      "execution_count": 105,
      "outputs": []
    },
    {
      "cell_type": "code",
      "source": [
        "p3 = x/10 - x*y + 50\n",
        "sym.solve(p3, x)"
      ],
      "metadata": {
        "colab": {
          "base_uri": "https://localhost:8080/"
        },
        "id": "lX7fef7XZYvR",
        "outputId": "8de9f393-6590-463b-8db2-9f82a2739701"
      },
      "execution_count": 106,
      "outputs": [
        {
          "output_type": "execute_result",
          "data": {
            "text/plain": [
              "[500/(10*y - 1)]"
            ]
          },
          "metadata": {},
          "execution_count": 106
        }
      ]
    },
    {
      "cell_type": "markdown",
      "source": [
        "#$$\n",
        "x/10 -x*y + 50\n",
        "50 = -(x/10) + xy\n",
        "50 = x((-1/10) + y)\n",
        "50/((-1/10) + y) = x\n",
        "500 / (-1+10y) = x\n",
        "500 /( 10*y - 1)\n",
        "#$$"
      ],
      "metadata": {
        "id": "DxPdxROXZ94V"
      }
    },
    {
      "cell_type": "code",
      "source": [
        "p3 = x/10 - x*y + 50\n",
        "sym.solve(p3, y)"
      ],
      "metadata": {
        "colab": {
          "base_uri": "https://localhost:8080/"
        },
        "id": "gIueY9T7cNep",
        "outputId": "660a73a7-4c00-4835-f59d-53576f5671d9"
      },
      "execution_count": 107,
      "outputs": [
        {
          "output_type": "execute_result",
          "data": {
            "text/plain": [
              "[(x + 500)/(10*x)]"
            ]
          },
          "metadata": {},
          "execution_count": 107
        }
      ]
    },
    {
      "cell_type": "code",
      "source": [],
      "metadata": {
        "id": "jk8OTVFncCoa"
      },
      "execution_count": null,
      "outputs": []
    }
  ]
}