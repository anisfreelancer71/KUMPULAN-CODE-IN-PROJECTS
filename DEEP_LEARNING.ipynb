{
  "nbformat": 4,
  "nbformat_minor": 0,
  "metadata": {
    "colab": {
      "provenance": [],
      "authorship_tag": "ABX9TyNdqfKhycyZTaAlXnHkrbcl",
      "include_colab_link": true
    },
    "kernelspec": {
      "name": "python3",
      "display_name": "Python 3"
    },
    "language_info": {
      "name": "python"
    }
  },
  "cells": [
    {
      "cell_type": "markdown",
      "metadata": {
        "id": "view-in-github",
        "colab_type": "text"
      },
      "source": [
        "<a href=\"https://colab.research.google.com/github/anisfreelancer71/mycode/blob/main/DEEP_LEARNING.ipynb\" target=\"_parent\"><img src=\"https://colab.research.google.com/assets/colab-badge.svg\" alt=\"Open In Colab\"/></a>"
      ]
    },
    {
      "cell_type": "markdown",
      "source": [
        "Langkah pertama dalam memulai proyek deep learning setelah mengimpor library yang diperlukan adalah mempersiapkan data dan membangun model deep learning. Berikut langkah-langkah selanjutnya yang biasanya diambil:\n",
        "\n",
        "#1. Persiapkan Data:\n",
        "\n",
        "Baca data Anda jika data sudah tersedia dalam format tertentu (misalnya, CSV).\n",
        "Lakukan eksplorasi awal terhadap data untuk memahami karakteristiknya.\n",
        "Bagi data menjadi data pelatihan (train) dan data pengujian (test) menggunakan train_test_split dari scikit-learn.\n",
        "Normalisasi atau standarisasi data jika diperlukan. Biasanya, data numerik akan dinormalisasi ke rentang [0, 1] atau di-standarisasi (z-score) agar memiliki mean 0 dan variansi 1.\n",
        "#2. Buat Model Deep Learning:\n",
        "\n",
        "Tentukan arsitektur model deep learning Anda. Ini termasuk menentukan jumlah lapisan (layers), jumlah neuron dalam setiap lapisan, dan fungsi aktivasi yang akan digunakan.\n",
        "Gunakan TensorFlow atau Keras untuk membuat dan mendefinisikan model. Keras adalah API yang terintegrasi dengan TensorFlow sehingga Anda dapat menggunakannya dengan TensorFlow.\n",
        "Tentukan fungsi kerugian (loss function) yang akan digunakan untuk melatih model Anda. Pilih juga algoritma optimisasi seperti Adam atau SGD.\n",
        "#3. Latih Model:\n",
        "\n",
        "Gunakan data pelatihan yang telah Anda persiapkan untuk melatih model Anda. Ini dilakukan dengan menggunakan metode .fit() pada model Anda.\n",
        "Selama pelatihan, model akan menyesuaikan bobotnya untuk mengurangi nilai fungsi kerugian. Anda perlu menentukan jumlah epoch (siklus pelatihan) dan ukuran batch (jumlah data yang digunakan dalam satu iterasi pelatihan).\n",
        "#4. Evaluasi Model:\n",
        "\n",
        "Setelah pelatihan selesai, gunakan data pengujian untuk mengukur kinerja model. Anda dapat menggunakan metrik seperti akurasi (accuracy), presisi (precision), recall, F1-score, dan lainnya sesuai dengan jenis masalah yang Anda hadapi.\n",
        "Gunakan predict() atau predict_proba() untuk membuat prediksi menggunakan model yang telah dilatih.\n",
        "#5. Tuning dan Evaluasi Lebih Lanjut:\n",
        "\n",
        "Jika kinerja model belum memuaskan, Anda dapat melakukan tuning hyperparameter seperti mengubah tingkat pembelajaran atau mengatur jumlah lapisan dan neuron dalam model.\n",
        "Lakukan evaluasi lebih lanjut dan analisis kesalahan untuk memahami di mana model Anda dapat ditingkatkan.\n",
        "#6. Implementasi:\n",
        "\n",
        "Setelah Anda memiliki model deep learning yang baik, Anda dapat mengimplementasikannya dalam aplikasi atau sistem yang sesuai dengan tujuan Anda.\n",
        "#7. Monitoring dan Pemeliharaan:\n",
        "\n",
        "Proyek deep learning biasanya memerlukan pemeliharaan dan pemantauan terus-menerus, terutama jika model Anda digunakan secara langsung dalam produksi."
      ],
      "metadata": {
        "id": "bieFGnkUqJfP"
      }
    },
    {
      "cell_type": "code",
      "execution_count": null,
      "metadata": {
        "id": "o9BA7NsKImL5"
      },
      "outputs": [],
      "source": [
        "import numpy as np\n",
        "import pandas as pd\n",
        "from sklearn import datasets\n",
        "from sklearn.model_selection import train_test_split\n",
        "from sklearn.preprocessing import StandardScaler\n",
        "from sklearn.metrics import accuracy_score, classification_report\n",
        "import tensorflow as tf\n",
        "from tensorflow import keras\n",
        "from tensorflow.keras import layers"
      ]
    },
    {
      "cell_type": "code",
      "source": [
        "from google.colab import drive\n",
        "drive.mount('/content/drvie')"
      ],
      "metadata": {
        "colab": {
          "base_uri": "https://localhost:8080/"
        },
        "id": "Q6imvxfRI_zb",
        "outputId": "fd5804cf-68d3-48b4-abd7-445de5337c31"
      },
      "execution_count": null,
      "outputs": [
        {
          "output_type": "stream",
          "name": "stdout",
          "text": [
            "Drive already mounted at /content/drvie; to attempt to forcibly remount, call drive.mount(\"/content/drvie\", force_remount=True).\n"
          ]
        }
      ]
    },
    {
      "cell_type": "code",
      "source": [
        "!ls '/content/drvie/My Drive/filecsv'"
      ],
      "metadata": {
        "colab": {
          "base_uri": "https://localhost:8080/"
        },
        "id": "f8XzbE_eJe63",
        "outputId": "72ffd3e3-f5ce-48f1-90f3-38aa510dae9f"
      },
      "execution_count": null,
      "outputs": [
        {
          "output_type": "stream",
          "name": "stdout",
          "text": [
            " creditcard.csv\t\t       'Sales_June_2019 (1).csv'\n",
            " data_harga_rumah.csv\t        Sales_June_2019.csv\n",
            "'Financials (1).csv'\t       'Sales_March_2019 (1).csv'\n",
            "'Financials (2).csv'\t        Sales_March_2019.csv\n",
            "'Financials (3).csv'\t       'Sales_May_2019 (1).csv'\n",
            " Financials.csv\t\t       'Sales_May_2019 (2).csv'\n",
            " lc_2016_2017.csv\t        Sales_May_2019.csv\n",
            " Sales_April_2019.csv\t       'Sales_November_2019 (1).csv'\n",
            " Sales_August_2019.csv\t        Sales_November_2019.csv\n",
            "'Sales_December_2019 (1).csv'  'Sales_October_2019 (1).csv'\n",
            " Sales_December_2019.csv       'Sales_October_2019 (2).csv'\n",
            " Sales_February_2019.csv        Sales_October_2019.csv\n",
            "'Sales_January_2019 (1).csv'    Sales_September_2019.csv\n",
            " Sales_January_2019.csv         shopping_data.csv\n",
            " Sales_July_2019.csv\n"
          ]
        }
      ]
    },
    {
      "cell_type": "code",
      "source": [
        "data1 = pd.read_csv('/content/drvie/My Drive/filecsv/lc_2016_2017.csv')\n",
        "data2 = pd.read_csv('/content/drvie/My Drive/filecsv/creditcard.csv')\n",
        "data_gab = pd.concat([data1, data2], ignore_index=True)\n",
        "dplrn_df = pd.DataFrame(data_gab)\n",
        "\n",
        "print(f'Jumlah data1:', data1.shape)\n",
        "print(f'Jumlah data2:', data2.shape)\n",
        "print(f'Jumlah dplrn_df:', dplrn_df.shape)"
      ],
      "metadata": {
        "colab": {
          "base_uri": "https://localhost:8080/"
        },
        "id": "8bZ2iZVPJxkn",
        "outputId": "9e3c7505-2371-4a74-bde6-d5c51b506999"
      },
      "execution_count": null,
      "outputs": [
        {
          "output_type": "stream",
          "name": "stdout",
          "text": [
            "Jumlah data1: (117587, 72)\n",
            "Jumlah data2: (178374, 31)\n",
            "Jumlah dplrn_df: (295961, 103)\n"
          ]
        }
      ]
    },
    {
      "cell_type": "code",
      "source": [
        "print(f'DataGab :', dplrn_df.describe())"
      ],
      "metadata": {
        "colab": {
          "base_uri": "https://localhost:8080/"
        },
        "id": "GkRV4X98YIAv",
        "outputId": "e0a25d52-5247-47d1-c118-f1f2c109998c"
      },
      "execution_count": null,
      "outputs": [
        {
          "output_type": "stream",
          "name": "stdout",
          "text": [
            "DataGab :                  id  member_id      loan_amnt    funded_amnt  funded_amnt_inv  \\\n",
            "count  1.175870e+05        0.0  117587.000000  117587.000000    117587.000000   \n",
            "mean   1.075454e+08        NaN   14579.725437   14579.725437     14575.849796   \n",
            "std    3.445693e+06        NaN    9469.547007    9469.547007      9466.907125   \n",
            "min    6.871190e+05        NaN    1000.000000    1000.000000      1000.000000   \n",
            "25%    1.051123e+08        NaN    7000.000000    7000.000000      7000.000000   \n",
            "50%    1.076967e+08        NaN   12000.000000   12000.000000     12000.000000   \n",
            "75%    1.100619e+08        NaN   20000.000000   20000.000000     20000.000000   \n",
            "max    1.124413e+08        NaN   40000.000000   40000.000000     40000.000000   \n",
            "\n",
            "            int_rate    installment    annual_inc  desc           dti  ...  \\\n",
            "count  117587.000000  117587.000000  1.175870e+05   0.0  117503.00000  ...   \n",
            "mean       13.263085     436.729773  8.063943e+04   NaN      18.93802  ...   \n",
            "std         5.139135     280.023854  7.683182e+04   NaN      13.97560  ...   \n",
            "min         5.320000      30.120000  0.000000e+00   NaN       0.00000  ...   \n",
            "25%         9.930000     232.640000  4.800000e+04   NaN      12.20000  ...   \n",
            "50%        12.620000     361.380000  6.800000e+04   NaN      18.06000  ...   \n",
            "75%        15.990000     583.890000  9.700000e+04   NaN      24.52000  ...   \n",
            "max        30.990000    1719.830000  9.300086e+06   NaN     999.00000  ...   \n",
            "\n",
            "                 V21            V22            V23            V24  \\\n",
            "count  178373.000000  178373.000000  178373.000000  178373.000000   \n",
            "mean       -0.024244      -0.072637      -0.020634       0.007801   \n",
            "std         0.741218       0.674957       0.594545       0.600559   \n",
            "min       -34.830382     -10.933144     -44.807735      -2.836627   \n",
            "25%        -0.229530      -0.544116      -0.169589      -0.334687   \n",
            "50%        -0.051092      -0.057299      -0.033919       0.057888   \n",
            "75%         0.134883       0.380968       0.103914       0.417750   \n",
            "max        27.202839      10.503090      19.002942       4.022866   \n",
            "\n",
            "                 V25            V26            V27            V28  \\\n",
            "count  178373.000000  178373.000000  178373.000000  178373.000000   \n",
            "mean        0.082971       0.010631       0.002174       0.002370   \n",
            "std         0.472768       0.489890       0.391948       0.307738   \n",
            "min       -10.295397      -2.604551     -22.565679     -11.710896   \n",
            "25%        -0.209855      -0.330669      -0.065601      -0.032665   \n",
            "50%         0.126978      -0.059562       0.007911       0.020421   \n",
            "75%         0.395079       0.269697       0.089554       0.078232   \n",
            "max         7.519589       3.517346      12.152401      33.847808   \n",
            "\n",
            "              Amount          Class  \n",
            "count  178373.000000  178373.000000  \n",
            "mean       88.064438       0.002041  \n",
            "std       247.169522       0.045128  \n",
            "min         0.000000       0.000000  \n",
            "25%         5.600000       0.000000  \n",
            "50%        22.060000       0.000000  \n",
            "75%        77.850000       0.000000  \n",
            "max     19656.530000       1.000000  \n",
            "\n",
            "[8 rows x 82 columns]\n"
          ]
        }
      ]
    },
    {
      "cell_type": "code",
      "source": [
        "print(f'DataHilang :', dplrn_df.isnull().sum())"
      ],
      "metadata": {
        "colab": {
          "base_uri": "https://localhost:8080/"
        },
        "id": "1mzmVx0NYU-3",
        "outputId": "178699fc-dd09-440e-fc7f-57db5832f2c6"
      },
      "execution_count": null,
      "outputs": [
        {
          "output_type": "stream",
          "name": "stdout",
          "text": [
            "DataHilang : id                 178374\n",
            "member_id          295961\n",
            "loan_amnt          178374\n",
            "funded_amnt        178374\n",
            "funded_amnt_inv    178374\n",
            "                    ...  \n",
            "V26                117588\n",
            "V27                117588\n",
            "V28                117588\n",
            "Amount             117588\n",
            "Class              117588\n",
            "Length: 103, dtype: int64\n"
          ]
        }
      ]
    },
    {
      "cell_type": "code",
      "source": [
        "kolom_nan = dplrn_df.columns[dplrn_df.isna().any()].tolist()\n",
        "print(\"Kolom dengan nilai NaN:\")\n",
        "print(kolom_nan)\n"
      ],
      "metadata": {
        "colab": {
          "base_uri": "https://localhost:8080/"
        },
        "id": "XRKrEA9tb0tC",
        "outputId": "1fbcf5e3-bfa5-4b04-878d-8fbc5364d012"
      },
      "execution_count": null,
      "outputs": [
        {
          "output_type": "stream",
          "name": "stdout",
          "text": [
            "Kolom dengan nilai NaN:\n",
            "['id', 'member_id', 'loan_amnt', 'funded_amnt', 'funded_amnt_inv', 'term', 'int_rate', 'installment', 'grade', 'sub_grade', 'emp_title', 'emp_length', 'home_ownership', 'annual_inc', 'verification_status', 'issue_d', 'loan_status', 'pymnt_plan', 'desc', 'purpose', 'title', 'zip_code', 'addr_state', 'dti', 'delinq_2yrs', 'earliest_cr_line', 'inq_last_6mths', 'mths_since_last_delinq', 'mths_since_last_record', 'open_acc', 'pub_rec', 'revol_bal', 'revol_util', 'total_acc', 'initial_list_status', 'out_prncp', 'out_prncp_inv', 'total_pymnt', 'total_pymnt_inv', 'total_rec_prncp', 'total_rec_int', 'total_rec_late_fee', 'recoveries', 'collection_recovery_fee', 'last_pymnt_d', 'last_pymnt_amnt', 'next_pymnt_d', 'last_credit_pull_d', 'collections_12_mths_ex_med', 'mths_since_last_major_derog', 'policy_code', 'application_type', 'annual_inc_joint', 'dti_joint', 'verification_status_joint', 'acc_now_delinq', 'tot_coll_amt', 'tot_cur_bal', 'open_acc_6m', 'open_il_12m', 'open_il_24m', 'mths_since_rcnt_il', 'total_bal_il', 'il_util', 'open_rv_12m', 'open_rv_24m', 'max_bal_bc', 'all_util', 'total_rev_hi_lim', 'inq_fi', 'total_cu_tl', 'inq_last_12m', 'Time', 'V1', 'V2', 'V3', 'V4', 'V5', 'V6', 'V7', 'V8', 'V9', 'V10', 'V11', 'V12', 'V13', 'V14', 'V15', 'V16', 'V17', 'V18', 'V19', 'V20', 'V21', 'V22', 'V23', 'V24', 'V25', 'V26', 'V27', 'V28', 'Amount', 'Class']\n"
          ]
        }
      ]
    },
    {
      "cell_type": "code",
      "source": [
        "# Tentukan ambang batas persentase nilai NaN yang diizinkan\n",
        "threshold = 0.5\n",
        "\n",
        "# Hitung jumlah nilai NaN dalam setiap kolom\n",
        "nan_count = dplrn_df.isna().sum()\n",
        "\n",
        "# Dapatkan daftar kolom yang melebihi ambang batas persentase\n",
        "kolom_nan_lebih_dari_threshold = nan_count[nan_count / len(dplrn_df) > threshold].index.tolist()\n",
        "\n",
        "# Hapus kolom-kolom tersebut dari DataFrame\n",
        "dplrn_df = dplrn_df.drop(columns=kolom_nan_lebih_dari_threshold)\n",
        "\n",
        "# Tampilkan informasi tentang DataFrame setelah penghapusan\n",
        "print(f\"Jumlah kolom setelah penghapusan: {dplrn_df.shape[1]}\")\n"
      ],
      "metadata": {
        "colab": {
          "base_uri": "https://localhost:8080/"
        },
        "id": "gQbXqliLdC36",
        "outputId": "a1529481-0640-45bf-b771-59767f272546"
      },
      "execution_count": null,
      "outputs": [
        {
          "output_type": "stream",
          "name": "stdout",
          "text": [
            "Jumlah kolom setelah penghapusan: 31\n"
          ]
        }
      ]
    },
    {
      "cell_type": "code",
      "source": [
        "print(f'Jumlah kolom setelah penghapusan: 31:' , dplrn_df.describe)"
      ],
      "metadata": {
        "colab": {
          "base_uri": "https://localhost:8080/"
        },
        "id": "zrxWJwgFdfAS",
        "outputId": "975416eb-51c8-4ab1-d00a-a03215ae0b11"
      },
      "execution_count": null,
      "outputs": [
        {
          "output_type": "stream",
          "name": "stdout",
          "text": [
            "Jumlah kolom setelah penghapusan: 31: <bound method NDFrame.describe of             Time        V1        V2        V3        V4        V5        V6  \\\n",
            "0            NaN       NaN       NaN       NaN       NaN       NaN       NaN   \n",
            "1            NaN       NaN       NaN       NaN       NaN       NaN       NaN   \n",
            "2            NaN       NaN       NaN       NaN       NaN       NaN       NaN   \n",
            "3            NaN       NaN       NaN       NaN       NaN       NaN       NaN   \n",
            "4            NaN       NaN       NaN       NaN       NaN       NaN       NaN   \n",
            "...          ...       ...       ...       ...       ...       ...       ...   \n",
            "295956  123600.0 -1.219464  0.962818  1.744757  2.001335  0.734260  0.680222   \n",
            "295957  123601.0  1.850317 -0.317701 -2.150051 -0.035828  1.125086  1.255451   \n",
            "295958  123601.0 -0.862352  0.505851  1.501963 -0.784297 -0.040316  0.745872   \n",
            "295959  123601.0  2.041131  0.026675 -1.779920  0.678691  0.166084 -1.702445   \n",
            "295960  123602.0  1.619240 -1.505770 -0.465645 -0.162395 -1.354889 -0.355964   \n",
            "\n",
            "              V7        V8        V9  ...       V21       V22       V23  \\\n",
            "0            NaN       NaN       NaN  ...       NaN       NaN       NaN   \n",
            "1            NaN       NaN       NaN  ...       NaN       NaN       NaN   \n",
            "2            NaN       NaN       NaN  ...       NaN       NaN       NaN   \n",
            "3            NaN       NaN       NaN  ...       NaN       NaN       NaN   \n",
            "4            NaN       NaN       NaN  ...       NaN       NaN       NaN   \n",
            "...          ...       ...       ...  ...       ...       ...       ...   \n",
            "295956  0.450127  0.250028 -0.617263  ...  0.297167  0.752416 -0.051336   \n",
            "295957 -0.311191  0.466518  0.939169  ... -0.158134 -0.271136  0.193903   \n",
            "295958  0.552312  0.251332  0.181517  ...  0.238647  0.625014 -0.473925   \n",
            "295959  0.695758 -0.512498  0.228892  ...  0.137681  0.537662  0.006331   \n",
            "295960 -0.656058 -0.106467 -0.248431  ...       NaN       NaN       NaN   \n",
            "\n",
            "             V24       V25       V26       V27       V28  Amount  Class  \n",
            "0            NaN       NaN       NaN       NaN       NaN     NaN    NaN  \n",
            "1            NaN       NaN       NaN       NaN       NaN     NaN    NaN  \n",
            "2            NaN       NaN       NaN       NaN       NaN     NaN    NaN  \n",
            "3            NaN       NaN       NaN       NaN       NaN     NaN    NaN  \n",
            "4            NaN       NaN       NaN       NaN       NaN     NaN    NaN  \n",
            "...          ...       ...       ...       ...       ...     ...    ...  \n",
            "295956  0.613711 -0.220732 -0.198314 -0.245416  0.201052   22.69    0.0  \n",
            "295957 -1.086832 -0.242312 -0.007088  0.021299 -0.038926   40.00    0.0  \n",
            "295958  0.261165  0.671294 -0.388472 -0.000378  0.031365  102.00    0.0  \n",
            "295959  0.404544  0.319798  0.513401 -0.104093 -0.077625   19.95    0.0  \n",
            "295960       NaN       NaN       NaN       NaN       NaN     NaN    NaN  \n",
            "\n",
            "[295961 rows x 31 columns]>\n"
          ]
        }
      ]
    },
    {
      "cell_type": "code",
      "source": [
        "# Mengisi nilai NaN dengan nilai rata-rata kolom numerik\n",
        "dplrn_df.fillna(dplrn_df.mean(), inplace=True)\n",
        "\n",
        "# Memeriksa apakah masih ada nilai NaN\n",
        "print(\"Jumlah nilai NaN setelah pengisian:\", dplrn_df.isna().sum().sum())\n"
      ],
      "metadata": {
        "colab": {
          "base_uri": "https://localhost:8080/"
        },
        "id": "gH7pUOFTeuW3",
        "outputId": "115d6323-f1c2-4131-d288-3a2c2a083b53"
      },
      "execution_count": null,
      "outputs": [
        {
          "output_type": "stream",
          "name": "stdout",
          "text": [
            "Jumlah nilai NaN setelah pengisian: 0\n"
          ]
        }
      ]
    },
    {
      "cell_type": "code",
      "source": [
        "from sklearn.preprocessing import StandardScaler\n",
        "\n",
        "scaler = StandardScaler()\n",
        "dplrn_df['Amount'] = scaler.fit_transform(dplrn_df['Amount'].values.reshape(-1, 1))\n"
      ],
      "metadata": {
        "id": "gc9BNKlVe-4v"
      },
      "execution_count": null,
      "outputs": []
    },
    {
      "cell_type": "code",
      "source": [
        "# Menghapus kolom 'Time'\n",
        "dplrn_df = dplrn_df.drop(columns=['Time'])\n",
        "\n",
        "# Memeriksa jumlah kolom setelah penghapusan\n",
        "print(\"Jumlah kolom setelah penghapusan:\", dplrn_df.shape[1])\n"
      ],
      "metadata": {
        "colab": {
          "base_uri": "https://localhost:8080/"
        },
        "id": "sqzYwvtcgwd1",
        "outputId": "cbbed579-56bb-429d-bbf6-5b5729e8bb0a"
      },
      "execution_count": null,
      "outputs": [
        {
          "output_type": "stream",
          "name": "stdout",
          "text": [
            "Jumlah kolom setelah penghapusan: 30\n"
          ]
        }
      ]
    },
    {
      "cell_type": "code",
      "source": [
        "# Memisahkan fitur X dan target y\n",
        "X = dplrn_df.drop(columns=['Class'])  # Menghapus kolom 'Class' dari fitur X\n",
        "y = dplrn_df['Class']  # Menggunakan kolom 'Class' sebagai target y\n",
        "\n",
        "# Memeriksa dimensi dari X dan y\n",
        "print(\"Dimensi X:\", X.shape)\n",
        "print(\"Dimensi y:\", y.shape)\n"
      ],
      "metadata": {
        "colab": {
          "base_uri": "https://localhost:8080/"
        },
        "id": "hkPKkjVeiGba",
        "outputId": "67f762a9-d594-4af1-ee47-b365a5b8fa0e"
      },
      "execution_count": null,
      "outputs": [
        {
          "output_type": "stream",
          "name": "stdout",
          "text": [
            "Dimensi X: (295961, 29)\n",
            "Dimensi y: (295961,)\n"
          ]
        }
      ]
    },
    {
      "cell_type": "code",
      "source": [
        "from sklearn.model_selection import train_test_split\n",
        "\n",
        "# Bagi dataset Anda menjadi data pelatihan dan data uji (test)\n",
        "X_train, X_test, y_train, y_test = train_test_split(X, y, test_size=0.2, random_state=42)\n",
        "\n",
        "# Bagi data pelatihan lagi menjadi data pelatihan dan data validasi\n",
        "X_train, X_val, y_train, y_val = train_test_split(X_train, y_train, test_size=0.2, random_state=42)\n",
        "\n",
        "# Sekarang Anda memiliki X_train, y_train untuk pelatihan,\n",
        "# X_val, y_val untuk validasi, dan X_test, y_test untuk pengujian.\n"
      ],
      "metadata": {
        "id": "M9VC1yCZykVs"
      },
      "execution_count": null,
      "outputs": []
    },
    {
      "cell_type": "code",
      "source": [
        "# Buat model deep learning dengan satu lapisan tambahan\n",
        "model = keras.Sequential([\n",
        "    layers.Dense(64, activation='relu', input_shape=(X_train.shape[1],)),\n",
        "    layers.Dense(32, activation='relu'),  # Lapisan tambahan\n",
        "    layers.Dense(1, activation='sigmoid')\n",
        "])\n",
        "\n",
        "# Kompilasi model\n",
        "model.compile(optimizer='adam', loss='binary_crossentropy', metrics=['accuracy'])\n",
        "\n",
        "# Latih model Anda dan evaluasi hasilnya\n",
        "history = model.fit(X_train, y_train, epochs=10, batch_size=32, validation_data=(X_val, y_val))\n",
        "\n",
        "# Evaluasi akurasi pada data pengujian\n",
        "test_loss, test_accuracy = model.evaluate(X_test, y_test)\n",
        "print(f\"Test accuracy: {test_accuracy}\")\n"
      ],
      "metadata": {
        "colab": {
          "base_uri": "https://localhost:8080/"
        },
        "id": "hmuhnAj_yx7U",
        "outputId": "05862c7e-1923-4713-ae28-257aa6352ea7"
      },
      "execution_count": null,
      "outputs": [
        {
          "output_type": "stream",
          "name": "stdout",
          "text": [
            "Epoch 1/10\n",
            "5920/5920 [==============================] - 31s 5ms/step - loss: 0.0140 - accuracy: 0.6008 - val_loss: 0.0077 - val_accuracy: 0.6045\n",
            "Epoch 2/10\n",
            "5920/5920 [==============================] - 14s 2ms/step - loss: 0.0080 - accuracy: 0.6013 - val_loss: 0.0078 - val_accuracy: 0.6046\n",
            "Epoch 3/10\n",
            "5920/5920 [==============================] - 14s 2ms/step - loss: 0.0077 - accuracy: 0.6014 - val_loss: 0.0075 - val_accuracy: 0.6046\n",
            "Epoch 4/10\n",
            "5920/5920 [==============================] - 14s 2ms/step - loss: 0.0076 - accuracy: 0.6014 - val_loss: 0.0074 - val_accuracy: 0.6047\n",
            "Epoch 5/10\n",
            "5920/5920 [==============================] - 13s 2ms/step - loss: 0.0073 - accuracy: 0.6014 - val_loss: 0.0073 - val_accuracy: 0.6046\n",
            "Epoch 6/10\n",
            "5920/5920 [==============================] - 13s 2ms/step - loss: 0.0072 - accuracy: 0.6014 - val_loss: 0.0079 - val_accuracy: 0.6046\n",
            "Epoch 7/10\n",
            "5920/5920 [==============================] - 15s 3ms/step - loss: 0.0071 - accuracy: 0.6014 - val_loss: 0.0075 - val_accuracy: 0.6047\n",
            "Epoch 8/10\n",
            "5920/5920 [==============================] - 12s 2ms/step - loss: 0.0071 - accuracy: 0.6015 - val_loss: 0.0076 - val_accuracy: 0.6047\n",
            "Epoch 9/10\n",
            "5920/5920 [==============================] - 16s 3ms/step - loss: 0.0070 - accuracy: 0.6015 - val_loss: 0.0078 - val_accuracy: 0.6047\n",
            "Epoch 10/10\n",
            "5920/5920 [==============================] - 13s 2ms/step - loss: 0.0070 - accuracy: 0.6015 - val_loss: 0.0076 - val_accuracy: 0.6048\n",
            "1850/1850 [==============================] - 3s 1ms/step - loss: 0.0086 - accuracy: 0.6033\n",
            "Test accuracy: 0.603280782699585\n"
          ]
        }
      ]
    },
    {
      "cell_type": "markdown",
      "source": [
        "#2. Buat Model Deep Learning:"
      ],
      "metadata": {
        "id": "ZWNRDrNrjGVg"
      }
    },
    {
      "cell_type": "code",
      "source": [
        "# Split data menjadi data pelatihan dan data pengujian\n",
        "X_train, X_test, y_train, y_test = train_test_split(X, y, test_size=0.3, random_state=42)\n",
        "\n",
        "# Buat model deep learning\n",
        "model = keras.Sequential([\n",
        "    layers.Dense(64, activation='relu', input_shape=(X_train.shape[1],)),\n",
        "    layers.Dense(32, activation='relu'),\n",
        "    layers.Dense(1, activation='sigmoid')\n",
        "])\n",
        "\n",
        "# Kompilasi model\n",
        "model.compile(optimizer='adam', loss='binary_crossentropy', metrics=['accuracy'])\n",
        "\n",
        "# Latih model\n",
        "history = model.fit(X_train, y_train, epochs=10, batch_size=32, validation_data=(X_test, y_test))\n",
        "\n",
        "# Evaluasi model\n",
        "test_loss, test_accuracy = model.evaluate(X_test, y_test)\n",
        "print(f'Test accuracy: {test_accuracy:.4f}')"
      ],
      "metadata": {
        "colab": {
          "base_uri": "https://localhost:8080/"
        },
        "id": "5-zuQUKrjKcb",
        "outputId": "bb10da2e-07a6-4502-a7d2-6bc43fb458dd"
      },
      "execution_count": null,
      "outputs": [
        {
          "output_type": "stream",
          "name": "stdout",
          "text": [
            "Epoch 1/10\n",
            "6475/6475 [==============================] - 19s 3ms/step - loss: 0.0121 - accuracy: 0.6017 - val_loss: 0.0080 - val_accuracy: 0.6028\n",
            "Epoch 2/10\n",
            "6475/6475 [==============================] - 17s 3ms/step - loss: 0.0080 - accuracy: 0.6020 - val_loss: 0.0079 - val_accuracy: 0.6028\n",
            "Epoch 3/10\n",
            "6475/6475 [==============================] - 17s 3ms/step - loss: 0.0077 - accuracy: 0.6020 - val_loss: 0.0080 - val_accuracy: 0.6027\n",
            "Epoch 4/10\n",
            "6475/6475 [==============================] - 16s 2ms/step - loss: 0.0075 - accuracy: 0.6021 - val_loss: 0.0080 - val_accuracy: 0.6028\n",
            "Epoch 5/10\n",
            "6475/6475 [==============================] - 17s 3ms/step - loss: 0.0074 - accuracy: 0.6021 - val_loss: 0.0080 - val_accuracy: 0.6027\n",
            "Epoch 6/10\n",
            "6475/6475 [==============================] - 17s 3ms/step - loss: 0.0073 - accuracy: 0.6021 - val_loss: 0.0080 - val_accuracy: 0.6028\n",
            "Epoch 7/10\n",
            "6475/6475 [==============================] - 17s 3ms/step - loss: 0.0072 - accuracy: 0.6021 - val_loss: 0.0086 - val_accuracy: 0.6027\n",
            "Epoch 8/10\n",
            "6475/6475 [==============================] - 15s 2ms/step - loss: 0.0071 - accuracy: 0.6021 - val_loss: 0.0083 - val_accuracy: 0.6029\n",
            "Epoch 9/10\n",
            "6475/6475 [==============================] - 16s 2ms/step - loss: 0.0070 - accuracy: 0.6022 - val_loss: 0.0083 - val_accuracy: 0.6028\n",
            "Epoch 10/10\n",
            "6475/6475 [==============================] - 17s 3ms/step - loss: 0.0069 - accuracy: 0.6022 - val_loss: 0.0083 - val_accuracy: 0.6028\n",
            "2775/2775 [==============================] - 5s 2ms/step - loss: 0.0083 - accuracy: 0.6028\n",
            "Test accuracy: 0.6028\n"
          ]
        }
      ]
    },
    {
      "cell_type": "markdown",
      "source": [
        "#VISUALISASI MODEL"
      ],
      "metadata": {
        "id": "6X-1eAismnYn"
      }
    },
    {
      "cell_type": "code",
      "source": [
        "import matplotlib.pyplot as plt\n",
        "\n",
        "# Dapatkan metrik pelatihan dari objek history\n",
        "train_loss = history.history['loss']\n",
        "val_loss = history.history['val_loss']\n",
        "train_accuracy = history.history['accuracy']\n",
        "val_accuracy = history.history['val_accuracy']\n",
        "epochs = range(1, len(train_loss) + 1)\n",
        "\n",
        "# Plot loss\n",
        "plt.figure(figsize=(12, 5))\n",
        "plt.subplot(1, 2, 1)\n",
        "plt.plot(epochs, train_loss, 'b', label='Training Loss')\n",
        "plt.plot(epochs, val_loss, 'r', label='Validation Loss')\n",
        "plt.title('Training and Validation Loss')\n",
        "plt.xlabel('Epochs')\n",
        "plt.ylabel('Loss')\n",
        "plt.legend()\n",
        "\n",
        "# Plot accuracy\n",
        "plt.subplot(1, 2, 2)\n",
        "plt.plot(epochs, train_accuracy, 'b', label='Training Accuracy')\n",
        "plt.plot(epochs, val_accuracy, 'r', label='Validation Accuracy')\n",
        "plt.title('Training and Validation Accuracy')\n",
        "plt.xlabel('Epochs')\n",
        "plt.ylabel('Accuracy')\n",
        "plt.legend()\n",
        "\n",
        "plt.tight_layout()\n",
        "plt.show()\n"
      ],
      "metadata": {
        "colab": {
          "base_uri": "https://localhost:8080/",
          "height": 507
        },
        "id": "SN3ceZJqmmfJ",
        "outputId": "019cfbdd-dad2-4669-b3cb-28caf0c012dc"
      },
      "execution_count": null,
      "outputs": [
        {
          "output_type": "display_data",
          "data": {
            "text/plain": [
              "<Figure size 1200x500 with 2 Axes>"
            ],
            "image/png": "[encoded data removed]"
          },
          "metadata": {}
        }
      ]
    }
  ]
}