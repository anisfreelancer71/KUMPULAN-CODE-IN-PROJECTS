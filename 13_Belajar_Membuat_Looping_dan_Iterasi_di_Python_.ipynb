{
  "nbformat": 4,
  "nbformat_minor": 0,
  "metadata": {
    "colab": {
      "provenance": [],
      "authorship_tag": "ABX9TyPdcDuV7cbdcSjifeEWr4Ve",
      "include_colab_link": true
    },
    "kernelspec": {
      "name": "python3",
      "display_name": "Python 3"
    },
    "language_info": {
      "name": "python"
    }
  },
  "cells": [
    {
      "cell_type": "markdown",
      "metadata": {
        "id": "view-in-github",
        "colab_type": "text"
      },
      "source": [
        "<a href=\"https://colab.research.google.com/github/anisfreelancer71/kapal_titanic/blob/main/13_Belajar_Membuat_Looping_dan_Iterasi_di_Python_.ipynb\" target=\"_parent\"><img src=\"https://colab.research.google.com/assets/colab-badge.svg\" alt=\"Open In Colab\"/></a>"
      ]
    },
    {
      "cell_type": "markdown",
      "source": [
        "13. Belajar Membuat Looping dan Iterasi di Python"
      ],
      "metadata": {
        "id": "47JoThSrlSH9"
      }
    },
    {
      "cell_type": "code",
      "source": [
        "for i in 'saya belajar python':\n",
        "    print(i, end='')"
      ],
      "metadata": {
        "colab": {
          "base_uri": "https://localhost:8080/"
        },
        "id": "DEEb2VmHlU7j",
        "outputId": "4e59db71-33a8-47eb-dd2a-d2032ddffff6"
      },
      "execution_count": 3,
      "outputs": [
        {
          "output_type": "stream",
          "name": "stdout",
          "text": [
            "saya belajar python"
          ]
        }
      ]
    },
    {
      "cell_type": "code",
      "source": [
        "angka = (1,2,3,4,5,6,7,8,9,10)"
      ],
      "metadata": {
        "id": "jx70nH70lsaP"
      },
      "execution_count": 4,
      "outputs": []
    },
    {
      "cell_type": "code",
      "source": [
        "for isi in angka:\n",
        "    print(isi)"
      ],
      "metadata": {
        "colab": {
          "base_uri": "https://localhost:8080/"
        },
        "id": "mvKVMjqEmlgF",
        "outputId": "44ffa069-a4de-4f00-ef2e-1726de7034ea"
      },
      "execution_count": 5,
      "outputs": [
        {
          "output_type": "stream",
          "name": "stdout",
          "text": [
            "1\n",
            "2\n",
            "3\n",
            "4\n",
            "5\n",
            "6\n",
            "7\n",
            "8\n",
            "9\n",
            "10\n"
          ]
        }
      ]
    },
    {
      "cell_type": "code",
      "source": [
        "jumlah = 0"
      ],
      "metadata": {
        "id": "p28bd-Knmw31"
      },
      "execution_count": 6,
      "outputs": []
    },
    {
      "cell_type": "code",
      "source": [
        "for isi in angka:\n",
        "    jumlah = jumlah + isi\n",
        "    print('Hasil penjumlahan pada iterator ke-{} adalah {}'.format(isi,jumlah))"
      ],
      "metadata": {
        "colab": {
          "base_uri": "https://localhost:8080/"
        },
        "id": "0ecy7nhKnCKK",
        "outputId": "ed0562c2-bd0a-4fc9-e965-b8f2373afca9"
      },
      "execution_count": 8,
      "outputs": [
        {
          "output_type": "stream",
          "name": "stdout",
          "text": [
            "Hasil penjumlahan pada iterator ke-1 adalah 1\n",
            "Hasil penjumlahan pada iterator ke-2 adalah 3\n",
            "Hasil penjumlahan pada iterator ke-3 adalah 6\n",
            "Hasil penjumlahan pada iterator ke-4 adalah 10\n",
            "Hasil penjumlahan pada iterator ke-5 adalah 15\n",
            "Hasil penjumlahan pada iterator ke-6 adalah 21\n",
            "Hasil penjumlahan pada iterator ke-7 adalah 28\n",
            "Hasil penjumlahan pada iterator ke-8 adalah 36\n",
            "Hasil penjumlahan pada iterator ke-9 adalah 45\n",
            "Hasil penjumlahan pada iterator ke-10 adalah 55\n"
          ]
        }
      ]
    },
    {
      "cell_type": "code",
      "source": [
        "for isi in angka:\n",
        "    jumlah = jumlah + isi\n",
        "print('Hasil penjumlahan total adalah' ,jumlah)"
      ],
      "metadata": {
        "colab": {
          "base_uri": "https://localhost:8080/"
        },
        "id": "QLG_HT7gncyB",
        "outputId": "0817fa58-0c91-4340-9e87-fb03c8e1ac7d"
      },
      "execution_count": 9,
      "outputs": [
        {
          "output_type": "stream",
          "name": "stdout",
          "text": [
            "Hasil penjumlahan total adalah 110\n"
          ]
        }
      ]
    },
    {
      "cell_type": "markdown",
      "source": [
        "#penggunaan looping dan conditional"
      ],
      "metadata": {
        "id": "TaT-YYJQpCbw"
      }
    },
    {
      "cell_type": "code",
      "source": [
        "for item in 'Saya belajar Python':\n",
        "    if (item == 'a'):\n",
        "        print('hey kamu berada di hurup A, selamat!')"
      ],
      "metadata": {
        "colab": {
          "base_uri": "https://localhost:8080/"
        },
        "id": "4groZJKLpJqE",
        "outputId": "d1072db6-e5b2-44cd-db78-b0adc977ef0a"
      },
      "execution_count": 10,
      "outputs": [
        {
          "output_type": "stream",
          "name": "stdout",
          "text": [
            "hey kamu berada di hurup A, selamat!\n",
            "hey kamu berada di hurup A, selamat!\n",
            "hey kamu berada di hurup A, selamat!\n",
            "hey kamu berada di hurup A, selamat!\n"
          ]
        }
      ]
    },
    {
      "cell_type": "code",
      "source": [
        "jumlah = 0\n",
        "for item in 'Saya belajar Python':\n",
        "    jumlah += 1\n",
        "    if (item == 'a'):\n",
        "        print('hey kamu berada di hurup A, selamat!',jumlah)"
      ],
      "metadata": {
        "colab": {
          "base_uri": "https://localhost:8080/"
        },
        "id": "gnYYxWj6p0dx",
        "outputId": "d042eb24-017f-4221-953d-9abe3f1a5b0a"
      },
      "execution_count": 11,
      "outputs": [
        {
          "metadata": {
            "tags": null
          },
          "name": "stdout",
          "output_type": "stream",
          "text": [
            "hey kamu berada di hurup A, selamat! 2\n",
            "hey kamu berada di hurup A, selamat! 4\n",
            "hey kamu berada di hurup A, selamat! 9\n",
            "hey kamu berada di hurup A, selamat! 11\n"
          ]
        }
      ]
    },
    {
      "cell_type": "code",
      "source": [
        "angka = [1,2,3,4,5,6,7,8,9,10]\n",
        "for item in angka:\n",
        "    if item%2 == 0:\n",
        "        print('angka {} adalah bilangan genap'.format(item))\n",
        "    else:\n",
        "        print('angka {} adalah bilangan ganjil'.format(item))\n"
      ],
      "metadata": {
        "colab": {
          "base_uri": "https://localhost:8080/"
        },
        "id": "8yNXvH0jqbWR",
        "outputId": "44442f7d-7d04-4cc6-8647-4fdc78b90359"
      },
      "execution_count": 12,
      "outputs": [
        {
          "output_type": "stream",
          "name": "stdout",
          "text": [
            "angka 1 adalah bilangan ganjil\n",
            "angka 2 adalah bilangan genap\n",
            "angka 3 adalah bilangan ganjil\n",
            "angka 4 adalah bilangan genap\n",
            "angka 5 adalah bilangan ganjil\n",
            "angka 6 adalah bilangan genap\n",
            "angka 7 adalah bilangan ganjil\n",
            "angka 8 adalah bilangan genap\n",
            "angka 9 adalah bilangan ganjil\n",
            "angka 10 adalah bilangan genap\n"
          ]
        }
      ]
    },
    {
      "cell_type": "code",
      "source": [
        "angka = [1,2,3,4,5,6,7,8,9,10]\n",
        "for item in angka:\n",
        "    if item%2 == 0:\n",
        "        print('angka', item ,'adalah bilangan genap')\n",
        "    else:\n",
        "        print('angka' +str(item)+ 'adalah bilangan ganjil')"
      ],
      "metadata": {
        "colab": {
          "base_uri": "https://localhost:8080/"
        },
        "id": "x8hVjd5Ls90d",
        "outputId": "643702a0-450a-4d54-f094-6e647eafef10"
      },
      "execution_count": 15,
      "outputs": [
        {
          "output_type": "stream",
          "name": "stdout",
          "text": [
            "angka1adalah bilangan ganjil\n",
            "angka 2 adalah bilangan genap\n",
            "angka3adalah bilangan ganjil\n",
            "angka 4 adalah bilangan genap\n",
            "angka5adalah bilangan ganjil\n",
            "angka 6 adalah bilangan genap\n",
            "angka7adalah bilangan ganjil\n",
            "angka 8 adalah bilangan genap\n",
            "angka9adalah bilangan ganjil\n",
            "angka 10 adalah bilangan genap\n"
          ]
        }
      ]
    },
    {
      "cell_type": "markdown",
      "source": [
        "##For loop dengan tuple dan list multiple items"
      ],
      "metadata": {
        "id": "esViqLQmuPyJ"
      }
    },
    {
      "cell_type": "code",
      "source": [
        "box1 = ((1,2),(3,4),(5,6))"
      ],
      "metadata": {
        "id": "To7o8PE4ubCt"
      },
      "execution_count": 18,
      "outputs": []
    },
    {
      "cell_type": "code",
      "source": [
        "for item in box1:\n",
        "    print(item)"
      ],
      "metadata": {
        "colab": {
          "base_uri": "https://localhost:8080/"
        },
        "id": "SiLsUri4up0X",
        "outputId": "ac51aac8-5200-49c9-e3c1-91d7e4d17e15"
      },
      "execution_count": 19,
      "outputs": [
        {
          "output_type": "stream",
          "name": "stdout",
          "text": [
            "(1, 2)\n",
            "(3, 4)\n",
            "(5, 6)\n"
          ]
        }
      ]
    },
    {
      "cell_type": "code",
      "source": [
        "for a,b in box1:\n",
        "    print(a,b)"
      ],
      "metadata": {
        "colab": {
          "base_uri": "https://localhost:8080/"
        },
        "id": "12YHqG0hu5iR",
        "outputId": "9deff9e0-1bc7-46b9-a631-af04ab5b583d"
      },
      "execution_count": 20,
      "outputs": [
        {
          "output_type": "stream",
          "name": "stdout",
          "text": [
            "1 2\n",
            "3 4\n",
            "5 6\n"
          ]
        }
      ]
    },
    {
      "cell_type": "code",
      "source": [
        "for a,b in box1:\n",
        "    print(a)\n",
        "    print(b)"
      ],
      "metadata": {
        "colab": {
          "base_uri": "https://localhost:8080/"
        },
        "id": "eUSlRbpZvMNb",
        "outputId": "ccf40a41-f832-4333-f8b9-b1626096d8b7"
      },
      "execution_count": 21,
      "outputs": [
        {
          "output_type": "stream",
          "name": "stdout",
          "text": [
            "1\n",
            "2\n",
            "3\n",
            "4\n",
            "5\n",
            "6\n"
          ]
        }
      ]
    },
    {
      "cell_type": "code",
      "source": [
        "box2 = [[1,2],[3,4],[5,6]]"
      ],
      "metadata": {
        "id": "8yOzrxQtvZxd"
      },
      "execution_count": 22,
      "outputs": []
    },
    {
      "cell_type": "code",
      "source": [
        "for a,b in box2:\n",
        "    print(a)\n",
        "    print(b)"
      ],
      "metadata": {
        "colab": {
          "base_uri": "https://localhost:8080/"
        },
        "id": "C_hAHrkZv2jp",
        "outputId": "30b04552-7c20-42c7-fdb6-ecefd1174f77"
      },
      "execution_count": 23,
      "outputs": [
        {
          "output_type": "stream",
          "name": "stdout",
          "text": [
            "1\n",
            "2\n",
            "3\n",
            "4\n",
            "5\n",
            "6\n"
          ]
        }
      ]
    },
    {
      "cell_type": "code",
      "source": [
        "box3 = [[1,2,'a'],[3,4,'b'],[5,6,'c']]"
      ],
      "metadata": {
        "id": "bFzUXgLjwSX1"
      },
      "execution_count": 24,
      "outputs": []
    },
    {
      "cell_type": "code",
      "source": [
        "for i,j,k in box3:\n",
        "    print(i)\n",
        "    print(j)\n",
        "    print(k)"
      ],
      "metadata": {
        "colab": {
          "base_uri": "https://localhost:8080/"
        },
        "id": "AqL4VmXGwjtH",
        "outputId": "ed63c7a3-b26d-4df0-a978-870efc7e0564"
      },
      "execution_count": 26,
      "outputs": [
        {
          "output_type": "stream",
          "name": "stdout",
          "text": [
            "1\n",
            "2\n",
            "a\n",
            "3\n",
            "4\n",
            "b\n",
            "5\n",
            "6\n",
            "c\n"
          ]
        }
      ]
    },
    {
      "cell_type": "code",
      "source": [
        "for i,j,k in box3:\n",
        "    print(i)\n",
        ""
      ],
      "metadata": {
        "colab": {
          "base_uri": "https://localhost:8080/"
        },
        "id": "rScFuvKawo_f",
        "outputId": "3355f328-05c1-4229-adac-2958d14a8810"
      },
      "execution_count": 27,
      "outputs": [
        {
          "output_type": "stream",
          "name": "stdout",
          "text": [
            "1\n",
            "3\n",
            "5\n"
          ]
        }
      ]
    },
    {
      "cell_type": "code",
      "source": [
        "for i,j,k in box3:\n",
        "\n",
        "    print(j)\n",
        ""
      ],
      "metadata": {
        "colab": {
          "base_uri": "https://localhost:8080/"
        },
        "id": "x2TlnyLExT1N",
        "outputId": "d57098d3-70d3-477b-8de0-d6780912c26d"
      },
      "execution_count": 28,
      "outputs": [
        {
          "output_type": "stream",
          "name": "stdout",
          "text": [
            "2\n",
            "4\n",
            "6\n"
          ]
        }
      ]
    },
    {
      "cell_type": "code",
      "source": [
        "for i,j,k in box3:\n",
        "\n",
        "    print(k)"
      ],
      "metadata": {
        "colab": {
          "base_uri": "https://localhost:8080/"
        },
        "id": "jU5POjTXxXx2",
        "outputId": "d43d6f4f-f147-44ab-c1b3-9507737d4aa0"
      },
      "execution_count": 29,
      "outputs": [
        {
          "output_type": "stream",
          "name": "stdout",
          "text": [
            "a\n",
            "b\n",
            "c\n"
          ]
        }
      ]
    },
    {
      "cell_type": "markdown",
      "source": [
        "##While loop"
      ],
      "metadata": {
        "id": "aTJf1aPExiDV"
      }
    },
    {
      "cell_type": "code",
      "source": [
        "index = 0\n",
        "while True:\n",
        "    print('Saya berhasil menjalankan while loop')\n",
        "    index += 1\n",
        "    if index == 10:\n",
        "        break\n"
      ],
      "metadata": {
        "colab": {
          "base_uri": "https://localhost:8080/"
        },
        "id": "kSKCdB4jxmFn",
        "outputId": "6d70f134-da5b-45bb-8106-c6e90896e58a"
      },
      "execution_count": 30,
      "outputs": [
        {
          "output_type": "stream",
          "name": "stdout",
          "text": [
            "Saya berhasil menjalankan while loop\n",
            "Saya berhasil menjalankan while loop\n",
            "Saya berhasil menjalankan while loop\n",
            "Saya berhasil menjalankan while loop\n",
            "Saya berhasil menjalankan while loop\n",
            "Saya berhasil menjalankan while loop\n",
            "Saya berhasil menjalankan while loop\n",
            "Saya berhasil menjalankan while loop\n",
            "Saya berhasil menjalankan while loop\n",
            "Saya berhasil menjalankan while loop\n"
          ]
        }
      ]
    },
    {
      "cell_type": "code",
      "source": [
        "x = 0"
      ],
      "metadata": {
        "id": "bkaHp30QybpI"
      },
      "execution_count": 31,
      "outputs": []
    },
    {
      "cell_type": "code",
      "source": [
        "while x < 50:\n",
        "    print('Bilangan x saat ini adalah:',x)\n",
        "    x += 2"
      ],
      "metadata": {
        "colab": {
          "base_uri": "https://localhost:8080/"
        },
        "id": "EgjsgJ8wyyTi",
        "outputId": "67d6c076-c1b4-4646-dd53-4cd6134a8d4b"
      },
      "execution_count": 32,
      "outputs": [
        {
          "output_type": "stream",
          "name": "stdout",
          "text": [
            "Bilangan x saat ini adalah: 0\n",
            "Bilangan x saat ini adalah: 2\n",
            "Bilangan x saat ini adalah: 4\n",
            "Bilangan x saat ini adalah: 6\n",
            "Bilangan x saat ini adalah: 8\n",
            "Bilangan x saat ini adalah: 10\n",
            "Bilangan x saat ini adalah: 12\n",
            "Bilangan x saat ini adalah: 14\n",
            "Bilangan x saat ini adalah: 16\n",
            "Bilangan x saat ini adalah: 18\n",
            "Bilangan x saat ini adalah: 20\n",
            "Bilangan x saat ini adalah: 22\n",
            "Bilangan x saat ini adalah: 24\n",
            "Bilangan x saat ini adalah: 26\n",
            "Bilangan x saat ini adalah: 28\n",
            "Bilangan x saat ini adalah: 30\n",
            "Bilangan x saat ini adalah: 32\n",
            "Bilangan x saat ini adalah: 34\n",
            "Bilangan x saat ini adalah: 36\n",
            "Bilangan x saat ini adalah: 38\n",
            "Bilangan x saat ini adalah: 40\n",
            "Bilangan x saat ini adalah: 42\n",
            "Bilangan x saat ini adalah: 44\n",
            "Bilangan x saat ini adalah: 46\n",
            "Bilangan x saat ini adalah: 48\n"
          ]
        }
      ]
    },
    {
      "cell_type": "code",
      "source": [
        "angka = (1,2,3,4,5,6,7,8,9,10)"
      ],
      "metadata": {
        "id": "I1llFuTlzamP"
      },
      "execution_count": 33,
      "outputs": []
    },
    {
      "cell_type": "code",
      "source": [
        "for item in angka:\n",
        "    if item%2 == 0:\n",
        "        continue\n",
        "    else:\n",
        "        print('Anda berada di angka ganjil =' ,item)"
      ],
      "metadata": {
        "colab": {
          "base_uri": "https://localhost:8080/"
        },
        "id": "ABM6UnnEzuGK",
        "outputId": "98961c96-4100-4fc0-9a1f-ee1bff8799b0"
      },
      "execution_count": 34,
      "outputs": [
        {
          "output_type": "stream",
          "name": "stdout",
          "text": [
            "Anda berada di angka ganjil = 1\n",
            "Anda berada di angka ganjil = 3\n",
            "Anda berada di angka ganjil = 5\n",
            "Anda berada di angka ganjil = 7\n",
            "Anda berada di angka ganjil = 9\n"
          ]
        }
      ]
    },
    {
      "cell_type": "code",
      "source": [
        "for i in 'saya sudah mulai mahir di Python':\n",
        "    if i == 'a':\n",
        "        pass\n",
        "    else:\n",
        "          continue"
      ],
      "metadata": {
        "id": "KX6LqF5O0TDW"
      },
      "execution_count": 35,
      "outputs": []
    },
    {
      "cell_type": "code",
      "source": [
        "for i in 'abcd':\n",
        "        pass"
      ],
      "metadata": {
        "id": "xowhZhY-07UD"
      },
      "execution_count": 36,
      "outputs": []
    },
    {
      "cell_type": "code",
      "source": [],
      "metadata": {
        "id": "tsuozs9Z1UYH"
      },
      "execution_count": null,
      "outputs": []
    }
  ]
}