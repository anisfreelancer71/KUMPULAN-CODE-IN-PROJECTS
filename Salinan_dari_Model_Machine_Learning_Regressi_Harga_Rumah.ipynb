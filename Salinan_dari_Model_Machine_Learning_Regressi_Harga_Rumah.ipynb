{
  "nbformat": 4,
  "nbformat_minor": 0,
  "metadata": {
    "colab": {
      "provenance": [],
      "authorship_tag": "ABX9TyOePoX7Rll3gxjOIg9bG/gf",
      "include_colab_link": true
    },
    "kernelspec": {
      "name": "python3",
      "display_name": "Python 3"
    },
    "language_info": {
      "name": "python"
    }
  },
  "cells": [
    {
      "cell_type": "markdown",
      "metadata": {
        "id": "view-in-github",
        "colab_type": "text"
      },
      "source": [
        "<a href=\"https://colab.research.google.com/github/anisfreelancer71/mycode/blob/main/Salinan_dari_Model_Machine_Learning_Regressi_Harga_Rumah.ipynb\" target=\"_parent\"><img src=\"https://colab.research.google.com/assets/colab-badge.svg\" alt=\"Open In Colab\"/></a>"
      ]
    },
    {
      "cell_type": "markdown",
      "source": [
        "#lamun aya nu ngaganggu nga heack iye komputer HP , Jaringan ,jeng pagawean aing ,muga muga eta jalma lengena sing potong sungutna bengo , matana pecak lolong jeng celina tuli conge"
      ],
      "metadata": {
        "id": "ngaQCTyFLJup"
      }
    },
    {
      "cell_type": "markdown",
      "source": [
        "#Sample Dataset\n",
        "\n"
      ],
      "metadata": {
        "id": "6fzFHeoFeG5I"
      }
    },
    {
      "cell_type": "code",
      "execution_count": 72,
      "metadata": {
        "colab": {
          "base_uri": "https://localhost:8080/",
          "height": 300
        },
        "id": "IQBxzYgDdyZS",
        "outputId": "ac66fc05-f1f4-4789-82b4-ef43fff65a17"
      },
      "outputs": [
        {
          "output_type": "execute_result",
          "data": {
            "text/plain": [
              "    LB  KT    HRG\n",
              "0  200   2  21000\n",
              "1  280   3  29500\n",
              "2   60   1   6500\n",
              "3  100   2  11000\n",
              "4  350   5  37500\n",
              "5  250   3  26500\n",
              "6  300   4  32000\n",
              "7   80   1   8500"
            ],
            "text/html": [
              "\n",
              "  <div id=\"df-e95c1dd6-c590-4cae-9238-4032df10ab1b\" class=\"colab-df-container\">\n",
              "    <div>\n",
              "<style scoped>\n",
              "    .dataframe tbody tr th:only-of-type {\n",
              "        vertical-align: middle;\n",
              "    }\n",
              "\n",
              "    .dataframe tbody tr th {\n",
              "        vertical-align: top;\n",
              "    }\n",
              "\n",
              "    .dataframe thead th {\n",
              "        text-align: right;\n",
              "    }\n",
              "</style>\n",
              "<table border=\"1\" class=\"dataframe\">\n",
              "  <thead>\n",
              "    <tr style=\"text-align: right;\">\n",
              "      <th></th>\n",
              "      <th>LB</th>\n",
              "      <th>KT</th>\n",
              "      <th>HRG</th>\n",
              "    </tr>\n",
              "  </thead>\n",
              "  <tbody>\n",
              "    <tr>\n",
              "      <th>0</th>\n",
              "      <td>200</td>\n",
              "      <td>2</td>\n",
              "      <td>21000</td>\n",
              "    </tr>\n",
              "    <tr>\n",
              "      <th>1</th>\n",
              "      <td>280</td>\n",
              "      <td>3</td>\n",
              "      <td>29500</td>\n",
              "    </tr>\n",
              "    <tr>\n",
              "      <th>2</th>\n",
              "      <td>60</td>\n",
              "      <td>1</td>\n",
              "      <td>6500</td>\n",
              "    </tr>\n",
              "    <tr>\n",
              "      <th>3</th>\n",
              "      <td>100</td>\n",
              "      <td>2</td>\n",
              "      <td>11000</td>\n",
              "    </tr>\n",
              "    <tr>\n",
              "      <th>4</th>\n",
              "      <td>350</td>\n",
              "      <td>5</td>\n",
              "      <td>37500</td>\n",
              "    </tr>\n",
              "    <tr>\n",
              "      <th>5</th>\n",
              "      <td>250</td>\n",
              "      <td>3</td>\n",
              "      <td>26500</td>\n",
              "    </tr>\n",
              "    <tr>\n",
              "      <th>6</th>\n",
              "      <td>300</td>\n",
              "      <td>4</td>\n",
              "      <td>32000</td>\n",
              "    </tr>\n",
              "    <tr>\n",
              "      <th>7</th>\n",
              "      <td>80</td>\n",
              "      <td>1</td>\n",
              "      <td>8500</td>\n",
              "    </tr>\n",
              "  </tbody>\n",
              "</table>\n",
              "</div>\n",
              "    <div class=\"colab-df-buttons\">\n",
              "\n",
              "  <div class=\"colab-df-container\">\n",
              "    <button class=\"colab-df-convert\" onclick=\"convertToInteractive('df-e95c1dd6-c590-4cae-9238-4032df10ab1b')\"\n",
              "            title=\"Convert this dataframe to an interactive table.\"\n",
              "            style=\"display:none;\">\n",
              "\n",
              "  <svg xmlns=\"http://www.w3.org/2000/svg\" height=\"24px\" viewBox=\"0 -960 960 960\">\n",
              "    <path d=\"M120-120v-720h720v720H120Zm60-500h600v-160H180v160Zm220 220h160v-160H400v160Zm0 220h160v-160H400v160ZM180-400h160v-160H180v160Zm440 0h160v-160H620v160ZM180-180h160v-160H180v160Zm440 0h160v-160H620v160Z\"/>\n",
              "  </svg>\n",
              "    </button>\n",
              "\n",
              "  <style>\n",
              "    .colab-df-container {\n",
              "      display:flex;\n",
              "      gap: 12px;\n",
              "    }\n",
              "\n",
              "    .colab-df-convert {\n",
              "      background-color: #E8F0FE;\n",
              "      border: none;\n",
              "      border-radius: 50%;\n",
              "      cursor: pointer;\n",
              "      display: none;\n",
              "      fill: #1967D2;\n",
              "      height: 32px;\n",
              "      padding: 0 0 0 0;\n",
              "      width: 32px;\n",
              "    }\n",
              "\n",
              "    .colab-df-convert:hover {\n",
              "      background-color: #E2EBFA;\n",
              "      box-shadow: 0px 1px 2px rgba(60, 64, 67, 0.3), 0px 1px 3px 1px rgba(60, 64, 67, 0.15);\n",
              "      fill: #174EA6;\n",
              "    }\n",
              "\n",
              "    .colab-df-buttons div {\n",
              "      margin-bottom: 4px;\n",
              "    }\n",
              "\n",
              "    [theme=dark] .colab-df-convert {\n",
              "      background-color: #3B4455;\n",
              "      fill: #D2E3FC;\n",
              "    }\n",
              "\n",
              "    [theme=dark] .colab-df-convert:hover {\n",
              "      background-color: #434B5C;\n",
              "      box-shadow: 0px 1px 3px 1px rgba(0, 0, 0, 0.15);\n",
              "      filter: drop-shadow(0px 1px 2px rgba(0, 0, 0, 0.3));\n",
              "      fill: #FFFFFF;\n",
              "    }\n",
              "  </style>\n",
              "\n",
              "    <script>\n",
              "      const buttonEl =\n",
              "        document.querySelector('#df-e95c1dd6-c590-4cae-9238-4032df10ab1b button.colab-df-convert');\n",
              "      buttonEl.style.display =\n",
              "        google.colab.kernel.accessAllowed ? 'block' : 'none';\n",
              "\n",
              "      async function convertToInteractive(key) {\n",
              "        const element = document.querySelector('#df-e95c1dd6-c590-4cae-9238-4032df10ab1b');\n",
              "        const dataTable =\n",
              "          await google.colab.kernel.invokeFunction('convertToInteractive',\n",
              "                                                    [key], {});\n",
              "        if (!dataTable) return;\n",
              "\n",
              "        const docLinkHtml = 'Like what you see? Visit the ' +\n",
              "          '<a target=\"_blank\" href=https://colab.research.google.com/notebooks/data_table.ipynb>data table notebook</a>'\n",
              "          + ' to learn more about interactive tables.';\n",
              "        element.innerHTML = '';\n",
              "        dataTable['output_type'] = 'display_data';\n",
              "        await google.colab.output.renderOutput(dataTable, element);\n",
              "        const docLink = document.createElement('div');\n",
              "        docLink.innerHTML = docLinkHtml;\n",
              "        element.appendChild(docLink);\n",
              "      }\n",
              "    </script>\n",
              "  </div>\n",
              "\n",
              "\n",
              "<div id=\"df-38d8369d-41bc-4990-9c3c-ca5b8eddd35b\">\n",
              "  <button class=\"colab-df-quickchart\" onclick=\"quickchart('df-38d8369d-41bc-4990-9c3c-ca5b8eddd35b')\"\n",
              "            title=\"Suggest charts.\"\n",
              "            style=\"display:none;\">\n",
              "\n",
              "<svg xmlns=\"http://www.w3.org/2000/svg\" height=\"24px\"viewBox=\"0 0 24 24\"\n",
              "     width=\"24px\">\n",
              "    <g>\n",
              "        <path d=\"M19 3H5c-1.1 0-2 .9-2 2v14c0 1.1.9 2 2 2h14c1.1 0 2-.9 2-2V5c0-1.1-.9-2-2-2zM9 17H7v-7h2v7zm4 0h-2V7h2v10zm4 0h-2v-4h2v4z\"/>\n",
              "    </g>\n",
              "</svg>\n",
              "  </button>\n",
              "\n",
              "<style>\n",
              "  .colab-df-quickchart {\n",
              "      --bg-color: #E8F0FE;\n",
              "      --fill-color: #1967D2;\n",
              "      --hover-bg-color: #E2EBFA;\n",
              "      --hover-fill-color: #174EA6;\n",
              "      --disabled-fill-color: #AAA;\n",
              "      --disabled-bg-color: #DDD;\n",
              "  }\n",
              "\n",
              "  [theme=dark] .colab-df-quickchart {\n",
              "      --bg-color: #3B4455;\n",
              "      --fill-color: #D2E3FC;\n",
              "      --hover-bg-color: #434B5C;\n",
              "      --hover-fill-color: #FFFFFF;\n",
              "      --disabled-bg-color: #3B4455;\n",
              "      --disabled-fill-color: #666;\n",
              "  }\n",
              "\n",
              "  .colab-df-quickchart {\n",
              "    background-color: var(--bg-color);\n",
              "    border: none;\n",
              "    border-radius: 50%;\n",
              "    cursor: pointer;\n",
              "    display: none;\n",
              "    fill: var(--fill-color);\n",
              "    height: 32px;\n",
              "    padding: 0;\n",
              "    width: 32px;\n",
              "  }\n",
              "\n",
              "  .colab-df-quickchart:hover {\n",
              "    background-color: var(--hover-bg-color);\n",
              "    box-shadow: 0 1px 2px rgba(60, 64, 67, 0.3), 0 1px 3px 1px rgba(60, 64, 67, 0.15);\n",
              "    fill: var(--button-hover-fill-color);\n",
              "  }\n",
              "\n",
              "  .colab-df-quickchart-complete:disabled,\n",
              "  .colab-df-quickchart-complete:disabled:hover {\n",
              "    background-color: var(--disabled-bg-color);\n",
              "    fill: var(--disabled-fill-color);\n",
              "    box-shadow: none;\n",
              "  }\n",
              "\n",
              "  .colab-df-spinner {\n",
              "    border: 2px solid var(--fill-color);\n",
              "    border-color: transparent;\n",
              "    border-bottom-color: var(--fill-color);\n",
              "    animation:\n",
              "      spin 1s steps(1) infinite;\n",
              "  }\n",
              "\n",
              "  @keyframes spin {\n",
              "    0% {\n",
              "      border-color: transparent;\n",
              "      border-bottom-color: var(--fill-color);\n",
              "      border-left-color: var(--fill-color);\n",
              "    }\n",
              "    20% {\n",
              "      border-color: transparent;\n",
              "      border-left-color: var(--fill-color);\n",
              "      border-top-color: var(--fill-color);\n",
              "    }\n",
              "    30% {\n",
              "      border-color: transparent;\n",
              "      border-left-color: var(--fill-color);\n",
              "      border-top-color: var(--fill-color);\n",
              "      border-right-color: var(--fill-color);\n",
              "    }\n",
              "    40% {\n",
              "      border-color: transparent;\n",
              "      border-right-color: var(--fill-color);\n",
              "      border-top-color: var(--fill-color);\n",
              "    }\n",
              "    60% {\n",
              "      border-color: transparent;\n",
              "      border-right-color: var(--fill-color);\n",
              "    }\n",
              "    80% {\n",
              "      border-color: transparent;\n",
              "      border-right-color: var(--fill-color);\n",
              "      border-bottom-color: var(--fill-color);\n",
              "    }\n",
              "    90% {\n",
              "      border-color: transparent;\n",
              "      border-bottom-color: var(--fill-color);\n",
              "    }\n",
              "  }\n",
              "</style>\n",
              "\n",
              "  <script>\n",
              "    async function quickchart(key) {\n",
              "      const quickchartButtonEl =\n",
              "        document.querySelector('#' + key + ' button');\n",
              "      quickchartButtonEl.disabled = true;  // To prevent multiple clicks.\n",
              "      quickchartButtonEl.classList.add('colab-df-spinner');\n",
              "      try {\n",
              "        const charts = await google.colab.kernel.invokeFunction(\n",
              "            'suggestCharts', [key], {});\n",
              "      } catch (error) {\n",
              "        console.error('Error during call to suggestCharts:', error);\n",
              "      }\n",
              "      quickchartButtonEl.classList.remove('colab-df-spinner');\n",
              "      quickchartButtonEl.classList.add('colab-df-quickchart-complete');\n",
              "    }\n",
              "    (() => {\n",
              "      let quickchartButtonEl =\n",
              "        document.querySelector('#df-38d8369d-41bc-4990-9c3c-ca5b8eddd35b button');\n",
              "      quickchartButtonEl.style.display =\n",
              "        google.colab.kernel.accessAllowed ? 'block' : 'none';\n",
              "    })();\n",
              "  </script>\n",
              "</div>\n",
              "    </div>\n",
              "  </div>\n"
            ]
          },
          "metadata": {},
          "execution_count": 72
        }
      ],
      "source": [
        "import pandas as pd\n",
        "a = 100\n",
        "b = 500\n",
        "hrumah = {\n",
        "    'LB': [200,280,60,100,350,250,300,80],\n",
        "    'KT': [2,3,1,2,5,3,4,1],\n",
        "    'HRG': [(200*a)+(2*b),(280*a)+(3*b),(60*a)+(1*b)\n",
        "    ,(100*a)+(2*b),(350*a)+(5*b),(250*a)+(3*b),(300*a)+(4*b),(80*a)+(1*b)]\n",
        "\n",
        "}\n",
        "\n",
        "hrumah_df = pd.DataFrame(hrumah)\n",
        "hrumah_df"
      ]
    },
    {
      "cell_type": "code",
      "source": [
        "import pandas as pd\n",
        "\n",
        "a = 100\n",
        "b = 500\n",
        "\n",
        "hrumah = {\n",
        "    'LB': [200, 280, 60, 100, 350, 250, 300, 80],\n",
        "    'KT': [2, 3, 1, 2, 5, 3, 4, 1],\n",
        "    'HRG': [(200 * a) + (2 * b), (280 * a) + (3 * b), (60 * a) + (1 * b),\n",
        "            (100 * a) + (2 * b), (350 * a) + (5 * b), (250 * a) + (3 * b), (300 * a) + (4 * b), (80 * a) + (1 * b)]\n",
        "}\n",
        "\n",
        "hrumah_df = pd.DataFrame(hrumah)\n",
        "\n",
        "# Loop untuk menghitung HRG berdasarkan LB dan KT\n",
        "for index, row in hrumah_df.iterrows():\n",
        "    hrumah_df.at[index, 'HRG'] = (row['LB'] * a) + (row['KT'] * b)\n",
        "\n",
        "print(hrumah_df)\n"
      ],
      "metadata": {
        "colab": {
          "base_uri": "https://localhost:8080/"
        },
        "id": "XE0YKBgW5Awi",
        "outputId": "959ae6c4-6f28-464c-95bf-55f0b6d41069"
      },
      "execution_count": 73,
      "outputs": [
        {
          "output_type": "stream",
          "name": "stdout",
          "text": [
            "    LB  KT    HRG\n",
            "0  200   2  21000\n",
            "1  280   3  29500\n",
            "2   60   1   6500\n",
            "3  100   2  11000\n",
            "4  350   5  37500\n",
            "5  250   3  26500\n",
            "6  300   4  32000\n",
            "7   80   1   8500\n"
          ]
        }
      ]
    },
    {
      "cell_type": "markdown",
      "source": [
        "#Visualisasi Data"
      ],
      "metadata": {
        "id": "Ji_UQGF7lTtT"
      }
    },
    {
      "cell_type": "code",
      "source": [
        "import pandas as pd\n",
        "import matplotlib.pyplot as plt\n",
        "\n",
        "a = 100\n",
        "b = 500\n",
        "\n",
        "hrumah = {\n",
        "    'LB': [200, 280, 60, 100, 350, 250, 300, 80],\n",
        "    'KT': [2, 3, 1, 2, 5, 3, 4, 1],\n",
        "    'HRG': [(200 * a) + (2 * b), (280 * a) + (3 * b), (60 * a) + (1 * b),\n",
        "            (100 * a) + (2 * b), (350 * a) + (5 * b), (250 * a) + (3 * b), (300 * a) + (4 * b), (80 * a) + (1 * b)]\n",
        "}\n",
        "\n",
        "hrumah_df = pd.DataFrame(hrumah)\n",
        "\n",
        "# Loop untuk menghitung HRG berdasarkan LB dan KT\n",
        "for index, row in hrumah_df.iterrows():\n",
        "    hrumah_df.at[index, 'HRG'] = (row['LB'] * a) + (row['KT'] * b)\n",
        "\n",
        "# Visualisasi data dengan scatter plot\n",
        "plt.figure(figsize=(10, 6))\n",
        "plt.scatter(hrumah_df['LB'], hrumah_df['HRG'], c='blue', marker='o', label='Data')\n",
        "plt.xlabel('Luas Bangunan (LB)')\n",
        "plt.ylabel('Harga (HRG)')\n",
        "plt.title('Hubungan antara Luas Bangunan dan Harga')\n",
        "plt.legend()\n",
        "plt.grid(True)\n",
        "plt.show()\n"
      ],
      "metadata": {
        "colab": {
          "base_uri": "https://localhost:8080/",
          "height": 413
        },
        "id": "SJzRBoJC7fSk",
        "outputId": "9688e8bd-1b98-4e01-b3ee-4cf4a9ea2365"
      },
      "execution_count": 74,
      "outputs": [
        {
          "output_type": "display_data",
          "data": {
            "text/plain": [
              "<Figure size 1000x600 with 1 Axes>"
            ],
            "image/png": "[encoded data removed]"
          },
          "metadata": {}
        }
      ]
    },
    {
      "cell_type": "code",
      "source": [
        "import pandas as pd\n",
        "import matplotlib.pyplot as plt\n",
        "\n",
        "a = 100\n",
        "b = 500\n",
        "\n",
        "hrumah = {\n",
        "    'LB': [200, 280, 60, 100, 350, 250, 300, 80],\n",
        "    'KT': [2, 3, 1, 2, 5, 3, 4, 1],\n",
        "    'HRG': [(200 * a) + (2 * b), (280 * a) + (3 * b), (60 * a) + (1 * b),\n",
        "            (100 * a) + (2 * b), (350 * a) + (5 * b), (250 * a) + (3 * b), (300 * a) + (4 * b), (80 * a) + (1 * b)]\n",
        "}\n",
        "\n",
        "hrumah_df = pd.DataFrame(hrumah)\n",
        "\n",
        "# Loop untuk menghitung HRG berdasarkan LB dan KT\n",
        "for index, row in hrumah_df.iterrows():\n",
        "    hrumah_df.at[index, 'HRG'] = (row['LB'] * a) + (row['KT'] * b)\n",
        "\n",
        "# Visualisasi data dengan scatter plot dan garis merah\n",
        "plt.figure(figsize=(10, 6))\n",
        "plt.scatter(hrumah_df['LB'], hrumah_df['HRG'], c='blue', marker='o', label='Data')\n",
        "plt.plot(hrumah_df['LB'], hrumah_df['HRG'], c='red', linewidth=2, label='Garis Merah')\n",
        "plt.xlabel('Luas Bangunan (LB)')\n",
        "plt.ylabel('Harga (HRG)')\n",
        "plt.title('Hubungan antara Luas Bangunan dan Harga')\n",
        "plt.legend()\n",
        "plt.grid(True)\n",
        "plt.show()\n"
      ],
      "metadata": {
        "colab": {
          "base_uri": "https://localhost:8080/",
          "height": 413
        },
        "id": "nlEvUw7C9qTh",
        "outputId": "6f825f62-4b01-47ec-8d00-ac96f0b5c274"
      },
      "execution_count": 76,
      "outputs": [
        {
          "output_type": "display_data",
          "data": {
            "text/plain": [
              "<Figure size 1000x600 with 1 Axes>"
            ],
            "image/png": "[encoded data removed]"
          },
          "metadata": {}
        }
      ]
    },
    {
      "cell_type": "markdown",
      "source": [
        "#Preprocessing Dataset"
      ],
      "metadata": {
        "id": "0zh_4YbblsTI"
      }
    },
    {
      "cell_type": "code",
      "source": [
        "import numpy as np\n",
        "\n",
        "X_train = np.array(hrumah_df[['LB', 'KT']])\n",
        "y_train = np.array(hrumah_df['HRG'])\n",
        "\n",
        "print(f'X_train:\\n{X_train}\\n')\n",
        "print(f'y_train: {y_train}')"
      ],
      "metadata": {
        "colab": {
          "base_uri": "https://localhost:8080/"
        },
        "id": "gV1safs1ltQX",
        "outputId": "e1d68f79-9b24-4b2d-d40f-d519e9c0f48f"
      },
      "execution_count": 77,
      "outputs": [
        {
          "output_type": "stream",
          "name": "stdout",
          "text": [
            "X_train:\n",
            "[[200   2]\n",
            " [280   3]\n",
            " [ 60   1]\n",
            " [100   2]\n",
            " [350   5]\n",
            " [250   3]\n",
            " [300   4]\n",
            " [ 80   1]]\n",
            "\n",
            "y_train: [21000 29500  6500 11000 37500 26500 32000  8500]\n"
          ]
        }
      ]
    },
    {
      "cell_type": "markdown",
      "source": [
        "#Model Training KNN classification KNeighborsClassifier"
      ],
      "metadata": {
        "id": "R8A771WbnpQy"
      }
    },
    {
      "cell_type": "code",
      "source": [
        "import numpy as np\n",
        "from sklearn.linear_model import LinearRegression\n",
        "from sklearn.model_selection import train_test_split\n",
        "from sklearn.metrics import r2_score, mean_squared_error\n",
        "\n",
        "# Mengambil data dari DataFrame\n",
        "X = np.array(hrumah_df[['LB', 'KT']])\n",
        "y = np.array(hrumah_df['HRG'])\n",
        "\n",
        "# Membagi data menjadi data pelatihan dan pengujian (misalnya, 80% data pelatihan, 20% data pengujian)\n",
        "X_train, X_test, y_train, y_test = train_test_split(X, y, test_size=0.2, random_state=42)\n",
        "\n",
        "# Membuat model Regresi Linier\n",
        "model = LinearRegression()\n",
        "model.fit(X_train, y_train)\n"
      ],
      "metadata": {
        "colab": {
          "base_uri": "https://localhost:8080/",
          "height": 75
        },
        "id": "_uiFCkv-ny9Z",
        "outputId": "f8fede6b-4703-4804-fe55-1ce3ad7bce60"
      },
      "execution_count": 78,
      "outputs": [
        {
          "output_type": "execute_result",
          "data": {
            "text/plain": [
              "LinearRegression()"
            ],
            "text/html": [
              "<style>#sk-container-id-9 {color: black;background-color: white;}#sk-container-id-9 pre{padding: 0;}#sk-container-id-9 div.sk-toggleable {background-color: white;}#sk-container-id-9 label.sk-toggleable__label {cursor: pointer;display: block;width: 100%;margin-bottom: 0;padding: 0.3em;box-sizing: border-box;text-align: center;}#sk-container-id-9 label.sk-toggleable__label-arrow:before {content: \"▸\";float: left;margin-right: 0.25em;color: #696969;}#sk-container-id-9 label.sk-toggleable__label-arrow:hover:before {color: black;}#sk-container-id-9 div.sk-estimator:hover label.sk-toggleable__label-arrow:before {color: black;}#sk-container-id-9 div.sk-toggleable__content {max-height: 0;max-width: 0;overflow: hidden;text-align: left;background-color: #f0f8ff;}#sk-container-id-9 div.sk-toggleable__content pre {margin: 0.2em;color: black;border-radius: 0.25em;background-color: #f0f8ff;}#sk-container-id-9 input.sk-toggleable__control:checked~div.sk-toggleable__content {max-height: 200px;max-width: 100%;overflow: auto;}#sk-container-id-9 input.sk-toggleable__control:checked~label.sk-toggleable__label-arrow:before {content: \"▾\";}#sk-container-id-9 div.sk-estimator input.sk-toggleable__control:checked~label.sk-toggleable__label {background-color: #d4ebff;}#sk-container-id-9 div.sk-label input.sk-toggleable__control:checked~label.sk-toggleable__label {background-color: #d4ebff;}#sk-container-id-9 input.sk-hidden--visually {border: 0;clip: rect(1px 1px 1px 1px);clip: rect(1px, 1px, 1px, 1px);height: 1px;margin: -1px;overflow: hidden;padding: 0;position: absolute;width: 1px;}#sk-container-id-9 div.sk-estimator {font-family: monospace;background-color: #f0f8ff;border: 1px dotted black;border-radius: 0.25em;box-sizing: border-box;margin-bottom: 0.5em;}#sk-container-id-9 div.sk-estimator:hover {background-color: #d4ebff;}#sk-container-id-9 div.sk-parallel-item::after {content: \"\";width: 100%;border-bottom: 1px solid gray;flex-grow: 1;}#sk-container-id-9 div.sk-label:hover label.sk-toggleable__label {background-color: #d4ebff;}#sk-container-id-9 div.sk-serial::before {content: \"\";position: absolute;border-left: 1px solid gray;box-sizing: border-box;top: 0;bottom: 0;left: 50%;z-index: 0;}#sk-container-id-9 div.sk-serial {display: flex;flex-direction: column;align-items: center;background-color: white;padding-right: 0.2em;padding-left: 0.2em;position: relative;}#sk-container-id-9 div.sk-item {position: relative;z-index: 1;}#sk-container-id-9 div.sk-parallel {display: flex;align-items: stretch;justify-content: center;background-color: white;position: relative;}#sk-container-id-9 div.sk-item::before, #sk-container-id-9 div.sk-parallel-item::before {content: \"\";position: absolute;border-left: 1px solid gray;box-sizing: border-box;top: 0;bottom: 0;left: 50%;z-index: -1;}#sk-container-id-9 div.sk-parallel-item {display: flex;flex-direction: column;z-index: 1;position: relative;background-color: white;}#sk-container-id-9 div.sk-parallel-item:first-child::after {align-self: flex-end;width: 50%;}#sk-container-id-9 div.sk-parallel-item:last-child::after {align-self: flex-start;width: 50%;}#sk-container-id-9 div.sk-parallel-item:only-child::after {width: 0;}#sk-container-id-9 div.sk-dashed-wrapped {border: 1px dashed gray;margin: 0 0.4em 0.5em 0.4em;box-sizing: border-box;padding-bottom: 0.4em;background-color: white;}#sk-container-id-9 div.sk-label label {font-family: monospace;font-weight: bold;display: inline-block;line-height: 1.2em;}#sk-container-id-9 div.sk-label-container {text-align: center;}#sk-container-id-9 div.sk-container {/* jupyter's `normalize.less` sets `[hidden] { display: none; }` but bootstrap.min.css set `[hidden] { display: none !important; }` so we also need the `!important` here to be able to override the default hidden behavior on the sphinx rendered scikit-learn.org. See: https://github.com/scikit-learn/scikit-learn/issues/21755 */display: inline-block !important;position: relative;}#sk-container-id-9 div.sk-text-repr-fallback {display: none;}</style><div id=\"sk-container-id-9\" class=\"sk-top-container\"><div class=\"sk-text-repr-fallback\"><pre>LinearRegression()</pre><b>In a Jupyter environment, please rerun this cell to show the HTML representation or trust the notebook. <br />On GitHub, the HTML representation is unable to render, please try loading this page with nbviewer.org.</b></div><div class=\"sk-container\" hidden><div class=\"sk-item\"><div class=\"sk-estimator sk-toggleable\"><input class=\"sk-toggleable__control sk-hidden--visually\" id=\"sk-estimator-id-9\" type=\"checkbox\" checked><label for=\"sk-estimator-id-9\" class=\"sk-toggleable__label sk-toggleable__label-arrow\">LinearRegression</label><div class=\"sk-toggleable__content\"><pre>LinearRegression()</pre></div></div></div></div></div>"
            ]
          },
          "metadata": {},
          "execution_count": 78
        }
      ]
    },
    {
      "cell_type": "code",
      "source": [
        "# Memprediksi target pada data pengujian\n",
        "y_pred = model.predict(X_test)\n",
        "\n",
        "# Menghitung R-squared (R2)\n",
        "r2 = r2_score(y_test, y_pred)\n",
        "print(f'R-squared (R2): {r2:.2f}')\n",
        "\n",
        "# Menghitung Mean Squared Error (MSE)\n",
        "mse = mean_squared_error(y_test, y_pred)\n",
        "print(f'Mean Squared Error (MSE): {mse:.2f}')"
      ],
      "metadata": {
        "colab": {
          "base_uri": "https://localhost:8080/"
        },
        "id": "5Hx1zOQkGZl6",
        "outputId": "40561205-5a9b-43f4-eb69-f25947aef08a"
      },
      "execution_count": 79,
      "outputs": [
        {
          "output_type": "stream",
          "name": "stdout",
          "text": [
            "R-squared (R2): 1.00\n",
            "Mean Squared Error (MSE): 0.00\n"
          ]
        }
      ]
    },
    {
      "cell_type": "markdown",
      "source": [
        "#Prediksi Harga Rumah"
      ],
      "metadata": {
        "id": "rYLdUsV9oo7J"
      }
    },
    {
      "cell_type": "code",
      "source": [
        "luas_bangunan = 400\n",
        "kamar_tidur = 4\n",
        "\n",
        "# Menghitung luas bangunan (LB) dan jumlah kamar tidur (KT)\n",
        "LB = luas_bangunan\n",
        "KT = kamar_tidur\n",
        "\n",
        "# Membuat array baru untuk prediksi\n",
        "X_new = np.array([LB, KT]).reshape(1, -1)\n",
        "\n",
        "# Memprediksi harga rumah\n",
        "y_new = model.predict(X_new)\n",
        "\n",
        "# Mengambil nilai sebenarnya dari hasil prediksi\n",
        "harga_prediksi = y_new[0]\n",
        "harga_prediksi"
      ],
      "metadata": {
        "colab": {
          "base_uri": "https://localhost:8080/"
        },
        "id": "QB5usUDNoru6",
        "outputId": "ef46f0fc-7cdb-4550-d5a0-68e1aefe3801"
      },
      "execution_count": 80,
      "outputs": [
        {
          "output_type": "execute_result",
          "data": {
            "text/plain": [
              "41999.99999999998"
            ]
          },
          "metadata": {},
          "execution_count": 80
        }
      ]
    },
    {
      "cell_type": "code",
      "source": [
        "# Harga sebenarnya\n",
        "harga_asli = 41999.99999999998\n",
        "\n",
        "# Error relatif\n",
        "error_relatif = abs(harga_prediksi - harga_asli) / harga_asli * 100\n",
        "\n",
        "# Akurasi relatif\n",
        "akurasi_relatif = 100 - error_relatif\n",
        "akurasi_relatif\n"
      ],
      "metadata": {
        "colab": {
          "base_uri": "https://localhost:8080/"
        },
        "id": "uR-la7AVNfmc",
        "outputId": "08216399-d6a5-4c3d-dd7e-b01e06868445"
      },
      "execution_count": 83,
      "outputs": [
        {
          "output_type": "execute_result",
          "data": {
            "text/plain": [
              "100.0"
            ]
          },
          "metadata": {},
          "execution_count": 83
        }
      ]
    },
    {
      "cell_type": "markdown",
      "source": [
        "#Visualisasi Nearest Neighbours"
      ],
      "metadata": {
        "id": "Bci-vTNowpNE"
      }
    },
    {
      "cell_type": "code",
      "source": [
        "import numpy as np\n",
        "import matplotlib.pyplot as plt\n",
        "\n",
        "# Data input\n",
        "luas_bangunan = 400\n",
        "kamar_tidur = 4\n",
        "\n",
        "# Menghitung luas bangunan (LB) dan jumlah kamar tidur (KT)\n",
        "LB = luas_bangunan\n",
        "KT = kamar_tidur\n",
        "\n",
        "# Membuat array baru untuk prediksi\n",
        "X_new = np.array([LB, KT]).reshape(1, -1)\n",
        "\n",
        "# Memprediksi harga rumah\n",
        "y_new = model.predict(X_new)\n",
        "\n",
        "# Mengambil nilai sebenarnya dari hasil prediksi\n",
        "harga_prediksi = y_new[0]\n",
        "\n",
        "# Visualisasi\n",
        "plt.figure(figsize=(8, 6))\n",
        "plt.scatter(hrumah_df['LB'], hrumah_df['HRG'], c='blue', marker='o', label='Data Pelatihan')\n",
        "plt.scatter(LB, harga_prediksi, c='red', marker='x', s=100, label='Prediksi Harga')\n",
        "plt.xlabel('Luas Bangunan (LB)')\n",
        "plt.ylabel('Harga (HRG)')\n",
        "plt.title('Prediksi Harga Rumah')\n",
        "plt.legend()\n",
        "plt.grid(True)\n",
        "plt.show()\n"
      ],
      "metadata": {
        "colab": {
          "base_uri": "https://localhost:8080/",
          "height": 500
        },
        "id": "YvInrOg-wxPF",
        "outputId": "137314e8-ab1c-4933-b8c8-2d44f658d325"
      },
      "execution_count": 82,
      "outputs": [
        {
          "output_type": "display_data",
          "data": {
            "text/plain": [
              "<Figure size 800x600 with 1 Axes>"
            ],
            "image/png": "[encoded data removed]"
          },
          "metadata": {}
        }
      ]
    },
    {
      "cell_type": "code",
      "source": [
        "# Luas bangunan baru\n",
        "luas_bangunan_baru = 300\n",
        "\n",
        "# Menghitung LB berdasarkan luas_bangunan baru\n",
        "LB_baru = luas_bangunan_baru\n",
        "\n",
        "# Membuat array baru untuk prediksi\n",
        "X_new_baru = np.array([LB_baru, KT]).reshape(1, -1)\n",
        "\n",
        "# Memprediksi harga rumah berdasarkan LB baru\n",
        "y_new_baru = model.predict(X_new_baru)\n",
        "\n",
        "# Mengambil nilai sebenarnya dari hasil prediksi\n",
        "harga_prediksi_baru = y_new_baru[0]\n",
        "\n",
        "harga_prediksi_baru\n"
      ],
      "metadata": {
        "colab": {
          "base_uri": "https://localhost:8080/"
        },
        "id": "qPpSEp7AOCOH",
        "outputId": "72db82f5-fad8-4657-8ff2-1f6c9a2a9bdf"
      },
      "execution_count": 84,
      "outputs": [
        {
          "output_type": "execute_result",
          "data": {
            "text/plain": [
              "31999.999999999996"
            ]
          },
          "metadata": {},
          "execution_count": 84
        }
      ]
    },
    {
      "cell_type": "code",
      "source": [
        "import numpy as np\n",
        "\n",
        "# Input dari pengguna untuk LB dan KT\n",
        "luas_bangunan = float(input(\"Masukkan luas bangunan (LB): \"))\n",
        "kamar_tidur = float(input(\"Masukkan jumlah kamar tidur (KT): \"))\n",
        "\n",
        "# Menghitung LB dan KT\n",
        "LB = luas_bangunan\n",
        "KT = kamar_tidur\n",
        "\n",
        "# Membuat array baru untuk prediksi\n",
        "X_new = np.array([LB, KT]).reshape(1, -1)\n",
        "\n",
        "# Memprediksi harga rumah\n",
        "y_new = model.predict(X_new)\n",
        "\n",
        "# Mengonversi harga rumah dari USD ke RP\n",
        "kurs_usd_to_rp = 15357\n",
        "harga_prediksi_rp = y_new[0] * kurs_usd_to_rp\n",
        "\n",
        "# Menampilkan hasil prediksi dalam RP\n",
        "print(f\"Harga Rumah Yang Anda Pesan Adalah: RP {harga_prediksi_rp:.2f} \")\n"
      ],
      "metadata": {
        "colab": {
          "base_uri": "https://localhost:8080/"
        },
        "id": "Q7Mopu6lOt8M",
        "outputId": "370bf701-1305-4381-9f8d-df5ef4d8c029"
      },
      "execution_count": 88,
      "outputs": [
        {
          "output_type": "stream",
          "name": "stdout",
          "text": [
            "Masukkan luas bangunan (LB): 450\n",
            "Masukkan jumlah kamar tidur (KT): 5\n",
            "Harga Rumah Yang Anda Pesan Adalah: RP 729457500.00 \n"
          ]
        }
      ]
    }
  ]
}