{
  "nbformat": 4,
  "nbformat_minor": 0,
  "metadata": {
    "colab": {
      "provenance": [],
      "authorship_tag": "ABX9TyOFQDt4WUEVoJl+PfP2qv62",
      "include_colab_link": true
    },
    "kernelspec": {
      "name": "python3",
      "display_name": "Python 3"
    },
    "language_info": {
      "name": "python"
    }
  },
  "cells": [
    {
      "cell_type": "markdown",
      "metadata": {
        "id": "view-in-github",
        "colab_type": "text"
      },
      "source": [
        "<a href=\"https://colab.research.google.com/github/anisfreelancer71/mycode/blob/main/Model_Machine_Learning_Regressi_Linear_Polynominal.ipynb\" target=\"_parent\"><img src=\"https://colab.research.google.com/assets/colab-badge.svg\" alt=\"Open In Colab\"/></a>"
      ]
    },
    {
      "cell_type": "markdown",
      "source": [
        "#Membuat model Machine Learning Regresi Linear Polinomial melibatkan beberapa tahapan. Berikut adalah langkah-langkah umum yang harus Anda ikuti:"
      ],
      "metadata": {
        "id": "sqklJ16nLW9U"
      }
    },
    {
      "cell_type": "markdown",
      "source": [
        "##1. Pengumpulan Data:\n",
        "Tahap pertama adalah mengumpulkan data yang diperlukan untuk melatih dan menguji model Anda. Pastikan data tersebut mencakup variabel dependen (target) dan variabel independen (fitur).\n",
        "\n",
        "##2. Pemisahan Data:\n",
        "Bagi dataset Anda menjadi dua bagian: data pelatihan (training data) dan data pengujian (testing data). Data pelatihan akan digunakan untuk melatih model, sementara data pengujian akan digunakan untuk menguji kinerja model.\n",
        "\n",
        "##3. Ekplorasi Data:\n",
        "Analisis data eksploratif membantu Anda memahami karakteristik data Anda, termasuk statistik deskriptif, visualisasi, dan identifikasi anomali atau kekurangan dalam data.\n",
        "\n",
        "##4. Pemrosesan Data:\n",
        "Lakukan pra-pemrosesan data jika diperlukan, seperti pengisian nilai yang hilang, normalisasi, atau penskalaan fitur.\n",
        "\n",
        "##5. Pemilihan Fitur:\n",
        "Identifikasi fitur-fitur yang paling relevan untuk model Regresi Linear Polinomial Anda. Ini dapat melibatkan teknik pemilihan fitur seperti analisis korelasi atau metode lainnya.\n",
        "\n",
        "##6. Pembuatan Model:\n",
        "Buat model Regresi Linear Polinomial dengan menggunakan data pelatihan. Model ini akan mencoba untuk menemukan polinomial terbaik yang sesuai dengan hubungan antara variabel independen dan dependen. Polinomial ini dapat berupa derajat yang lebih tinggi daripada model Regresi Linear biasa.\n",
        "\n",
        "##7. Pelatihan Model:\n",
        "Latih model Anda dengan menggunakan data pelatihan. Proses ini melibatkan menemukan parameter terbaik untuk model Polinomial, seperti koefisien polinomial.\n",
        "\n",
        "##8. Evaluasi Model:\n",
        "Gunakan data pengujian untuk mengukur kinerja model Anda. Metrik evaluasi yang umum digunakan untuk model Regresi Linear Polinomial termasuk Mean Squared Error (MSE), R-squared (R^2), dan lainnya.\n",
        "\n",
        "##9. Penyetelan Hyperparameter:\n",
        "Jika hasil evaluasi tidak memuaskan, Anda dapat melakukan penyetelan hyperparameter, seperti mengubah derajat polinomial atau menggunakan metode regularisasi seperti Lasso atau Ridge.\n",
        "\n",
        "##10. Prediksi:\n",
        "Setelah Anda puas dengan kinerja model, Anda dapat menggunakannya untuk membuat prediksi pada data baru atau situasi dunia nyata.\n",
        "\n",
        "##11. Validasi dan Deployment:\n",
        "Validasi lebih lanjut mungkin diperlukan untuk memastikan model bekerja dengan baik di lingkungan produksi. Setelah itu, Anda dapat mendeploy model Anda untuk digunakan dalam aplikasi atau sistem yang sesungguhnya.\n",
        "\n",
        "##12. Pemeliharaan dan Pemantauan:\n",
        "Model ML harus dipelihara dan dimonitor secara berkala untuk memastikan kinerjanya tetap optimal seiring waktu. Ini dapat melibatkan pemantauan data masukan, penyesuaian model, atau pembaruan data pelatihan."
      ],
      "metadata": {
        "id": "nY7Fb4V5LrIK"
      }
    },
    {
      "cell_type": "markdown",
      "source": [],
      "metadata": {
        "id": "Uql0gLCduVXx"
      }
    },
    {
      "cell_type": "code",
      "source": [
        "from google.colab import drive\n",
        "drive.mount('/content/drive')"
      ],
      "metadata": {
        "colab": {
          "base_uri": "https://localhost:8080/"
        },
        "id": "IfyQTD5eMZs7",
        "outputId": "ecf8a370-29f3-48af-cd6f-86f871d93bfb"
      },
      "execution_count": 24,
      "outputs": [
        {
          "output_type": "stream",
          "name": "stdout",
          "text": [
            "Drive already mounted at /content/drive; to attempt to forcibly remount, call drive.mount(\"/content/drive\", force_remount=True).\n"
          ]
        }
      ]
    },
    {
      "cell_type": "markdown",
      "source": [
        "##1. Pengumpulan Data:\n",
        "Tahap pertama adalah mengumpulkan data yang diperlukan untuk melatih dan menguji model Anda. Pastikan data tersebut mencakup variabel dependen (target) dan variabel independen (fitur)."
      ],
      "metadata": {
        "id": "sx_sBLyJMwcy"
      }
    },
    {
      "cell_type": "code",
      "source": [
        "import pandas as pd\n",
        "import numpy as np\n",
        "import matplotlib.pyplot as plt\n",
        "import seaborn as sns\n",
        "sns.set()\n",
        "\n",
        "data1 = pd.read_csv('/content/drive/My Drive/filecsv/Sales_January_2019.csv')\n",
        "data2 = pd.read_csv('/content/drive/My Drive/filecsv/Sales_February_2019.csv')\n",
        "data3 = pd.read_csv('/content/drive/My Drive/filecsv/Sales_March_2019.csv')\n",
        "data4 = pd.read_csv('/content/drive/My Drive/filecsv/Sales_April_2019.csv')\n",
        "data5 = pd.read_csv('/content/drive/My Drive/filecsv/Sales_May_2019.csv')\n",
        "data6 = pd.read_csv('/content/drive/My Drive/filecsv/Sales_June_2019.csv')\n",
        "data7 = pd.read_csv('/content/drive/My Drive/filecsv/Sales_July_2019.csv')\n",
        "data8 = pd.read_csv('/content/drive/My Drive/filecsv/Sales_August_2019.csv')\n",
        "data9 = pd.read_csv('/content/drive/My Drive/filecsv/Sales_September_2019.csv')\n",
        "data10 = pd.read_csv('/content/drive/My Drive/filecsv/Sales_October_2019.csv')\n",
        "data11 = pd.read_csv('/content/drive/My Drive/filecsv/Sales_November_2019.csv')\n",
        "data12= pd.read_csv('/content/drive/My Drive/filecsv/Sales_December_2019.csv')\n",
        "\n",
        "# Gabungkan keduabelas DataFrame menjadi satu\n",
        "data_sales = pd.concat([data1, data2, data3, data4, data5, data6, data7, data8, data9, data10, data11, data12], ignore_index=True)\n",
        "data_sales"
      ],
      "metadata": {
        "colab": {
          "base_uri": "https://localhost:8080/",
          "height": 424
        },
        "id": "RD-Neh3oMyjM",
        "outputId": "f8fd5cd2-95b2-4be2-b010-1362dfc2efc2"
      },
      "execution_count": 25,
      "outputs": [
        {
          "output_type": "execute_result",
          "data": {
            "text/plain": [
              "       Order ID                     Product Quantity Ordered Price Each  \\\n",
              "0        141234                      iPhone                1        700   \n",
              "1        141235    Lightning Charging Cable                1      14.95   \n",
              "2        141236            Wired Headphones                2      11.99   \n",
              "3        141237            27in FHD Monitor                1     149.99   \n",
              "4        141238            Wired Headphones                1      11.99   \n",
              "...         ...                         ...              ...        ...   \n",
              "186845   319666    Lightning Charging Cable                1      14.95   \n",
              "186846   319667       AA Batteries (4-pack)                2       3.84   \n",
              "186847   319668             Vareebadd Phone                1        400   \n",
              "186848   319669            Wired Headphones                1      11.99   \n",
              "186849   319670  Bose SoundSport Headphones                1      99.99   \n",
              "\n",
              "            Order Date                        Purchase Address  \n",
              "0       01/22/19 21:25         944 Walnut St, Boston, MA 02215  \n",
              "1       01/28/19 14:15        185 Maple St, Portland, OR 97035  \n",
              "2       01/17/19 13:33   538 Adams St, San Francisco, CA 94016  \n",
              "3       01/05/19 20:33      738 10th St, Los Angeles, CA 90001  \n",
              "4       01/25/19 11:59           387 10th St, Austin, TX 73301  \n",
              "...                ...                                     ...  \n",
              "186845  12/11/19 20:58  14 Madison St, San Francisco, CA 94016  \n",
              "186846  12/01/19 12:01    549 Willow St, Los Angeles, CA 90001  \n",
              "186847   12/09/19 6:43        273 Wilson St, Seattle, WA 98101  \n",
              "186848  12/03/19 10:39          778 River St, Dallas, TX 75001  \n",
              "186849  12/21/19 21:45  747 Chestnut St, Los Angeles, CA 90001  \n",
              "\n",
              "[186850 rows x 6 columns]"
            ],
            "text/html": [
              "\n",
              "  <div id=\"df-b0dbf601-2d8a-4dd0-a28e-0f6af96006d5\" class=\"colab-df-container\">\n",
              "    <div>\n",
              "<style scoped>\n",
              "    .dataframe tbody tr th:only-of-type {\n",
              "        vertical-align: middle;\n",
              "    }\n",
              "\n",
              "    .dataframe tbody tr th {\n",
              "        vertical-align: top;\n",
              "    }\n",
              "\n",
              "    .dataframe thead th {\n",
              "        text-align: right;\n",
              "    }\n",
              "</style>\n",
              "<table border=\"1\" class=\"dataframe\">\n",
              "  <thead>\n",
              "    <tr style=\"text-align: right;\">\n",
              "      <th></th>\n",
              "      <th>Order ID</th>\n",
              "      <th>Product</th>\n",
              "      <th>Quantity Ordered</th>\n",
              "      <th>Price Each</th>\n",
              "      <th>Order Date</th>\n",
              "      <th>Purchase Address</th>\n",
              "    </tr>\n",
              "  </thead>\n",
              "  <tbody>\n",
              "    <tr>\n",
              "      <th>0</th>\n",
              "      <td>141234</td>\n",
              "      <td>iPhone</td>\n",
              "      <td>1</td>\n",
              "      <td>700</td>\n",
              "      <td>01/22/19 21:25</td>\n",
              "      <td>944 Walnut St, Boston, MA 02215</td>\n",
              "    </tr>\n",
              "    <tr>\n",
              "      <th>1</th>\n",
              "      <td>141235</td>\n",
              "      <td>Lightning Charging Cable</td>\n",
              "      <td>1</td>\n",
              "      <td>14.95</td>\n",
              "      <td>01/28/19 14:15</td>\n",
              "      <td>185 Maple St, Portland, OR 97035</td>\n",
              "    </tr>\n",
              "    <tr>\n",
              "      <th>2</th>\n",
              "      <td>141236</td>\n",
              "      <td>Wired Headphones</td>\n",
              "      <td>2</td>\n",
              "      <td>11.99</td>\n",
              "      <td>01/17/19 13:33</td>\n",
              "      <td>538 Adams St, San Francisco, CA 94016</td>\n",
              "    </tr>\n",
              "    <tr>\n",
              "      <th>3</th>\n",
              "      <td>141237</td>\n",
              "      <td>27in FHD Monitor</td>\n",
              "      <td>1</td>\n",
              "      <td>149.99</td>\n",
              "      <td>01/05/19 20:33</td>\n",
              "      <td>738 10th St, Los Angeles, CA 90001</td>\n",
              "    </tr>\n",
              "    <tr>\n",
              "      <th>4</th>\n",
              "      <td>141238</td>\n",
              "      <td>Wired Headphones</td>\n",
              "      <td>1</td>\n",
              "      <td>11.99</td>\n",
              "      <td>01/25/19 11:59</td>\n",
              "      <td>387 10th St, Austin, TX 73301</td>\n",
              "    </tr>\n",
              "    <tr>\n",
              "      <th>...</th>\n",
              "      <td>...</td>\n",
              "      <td>...</td>\n",
              "      <td>...</td>\n",
              "      <td>...</td>\n",
              "      <td>...</td>\n",
              "      <td>...</td>\n",
              "    </tr>\n",
              "    <tr>\n",
              "      <th>186845</th>\n",
              "      <td>319666</td>\n",
              "      <td>Lightning Charging Cable</td>\n",
              "      <td>1</td>\n",
              "      <td>14.95</td>\n",
              "      <td>12/11/19 20:58</td>\n",
              "      <td>14 Madison St, San Francisco, CA 94016</td>\n",
              "    </tr>\n",
              "    <tr>\n",
              "      <th>186846</th>\n",
              "      <td>319667</td>\n",
              "      <td>AA Batteries (4-pack)</td>\n",
              "      <td>2</td>\n",
              "      <td>3.84</td>\n",
              "      <td>12/01/19 12:01</td>\n",
              "      <td>549 Willow St, Los Angeles, CA 90001</td>\n",
              "    </tr>\n",
              "    <tr>\n",
              "      <th>186847</th>\n",
              "      <td>319668</td>\n",
              "      <td>Vareebadd Phone</td>\n",
              "      <td>1</td>\n",
              "      <td>400</td>\n",
              "      <td>12/09/19 6:43</td>\n",
              "      <td>273 Wilson St, Seattle, WA 98101</td>\n",
              "    </tr>\n",
              "    <tr>\n",
              "      <th>186848</th>\n",
              "      <td>319669</td>\n",
              "      <td>Wired Headphones</td>\n",
              "      <td>1</td>\n",
              "      <td>11.99</td>\n",
              "      <td>12/03/19 10:39</td>\n",
              "      <td>778 River St, Dallas, TX 75001</td>\n",
              "    </tr>\n",
              "    <tr>\n",
              "      <th>186849</th>\n",
              "      <td>319670</td>\n",
              "      <td>Bose SoundSport Headphones</td>\n",
              "      <td>1</td>\n",
              "      <td>99.99</td>\n",
              "      <td>12/21/19 21:45</td>\n",
              "      <td>747 Chestnut St, Los Angeles, CA 90001</td>\n",
              "    </tr>\n",
              "  </tbody>\n",
              "</table>\n",
              "<p>186850 rows × 6 columns</p>\n",
              "</div>\n",
              "    <div class=\"colab-df-buttons\">\n",
              "\n",
              "  <div class=\"colab-df-container\">\n",
              "    <button class=\"colab-df-convert\" onclick=\"convertToInteractive('df-b0dbf601-2d8a-4dd0-a28e-0f6af96006d5')\"\n",
              "            title=\"Convert this dataframe to an interactive table.\"\n",
              "            style=\"display:none;\">\n",
              "\n",
              "  <svg xmlns=\"http://www.w3.org/2000/svg\" height=\"24px\" viewBox=\"0 -960 960 960\">\n",
              "    <path d=\"M120-120v-720h720v720H120Zm60-500h600v-160H180v160Zm220 220h160v-160H400v160Zm0 220h160v-160H400v160ZM180-400h160v-160H180v160Zm440 0h160v-160H620v160ZM180-180h160v-160H180v160Zm440 0h160v-160H620v160Z\"/>\n",
              "  </svg>\n",
              "    </button>\n",
              "\n",
              "  <style>\n",
              "    .colab-df-container {\n",
              "      display:flex;\n",
              "      gap: 12px;\n",
              "    }\n",
              "\n",
              "    .colab-df-convert {\n",
              "      background-color: #E8F0FE;\n",
              "      border: none;\n",
              "      border-radius: 50%;\n",
              "      cursor: pointer;\n",
              "      display: none;\n",
              "      fill: #1967D2;\n",
              "      height: 32px;\n",
              "      padding: 0 0 0 0;\n",
              "      width: 32px;\n",
              "    }\n",
              "\n",
              "    .colab-df-convert:hover {\n",
              "      background-color: #E2EBFA;\n",
              "      box-shadow: 0px 1px 2px rgba(60, 64, 67, 0.3), 0px 1px 3px 1px rgba(60, 64, 67, 0.15);\n",
              "      fill: #174EA6;\n",
              "    }\n",
              "\n",
              "    .colab-df-buttons div {\n",
              "      margin-bottom: 4px;\n",
              "    }\n",
              "\n",
              "    [theme=dark] .colab-df-convert {\n",
              "      background-color: #3B4455;\n",
              "      fill: #D2E3FC;\n",
              "    }\n",
              "\n",
              "    [theme=dark] .colab-df-convert:hover {\n",
              "      background-color: #434B5C;\n",
              "      box-shadow: 0px 1px 3px 1px rgba(0, 0, 0, 0.15);\n",
              "      filter: drop-shadow(0px 1px 2px rgba(0, 0, 0, 0.3));\n",
              "      fill: #FFFFFF;\n",
              "    }\n",
              "  </style>\n",
              "\n",
              "    <script>\n",
              "      const buttonEl =\n",
              "        document.querySelector('#df-b0dbf601-2d8a-4dd0-a28e-0f6af96006d5 button.colab-df-convert');\n",
              "      buttonEl.style.display =\n",
              "        google.colab.kernel.accessAllowed ? 'block' : 'none';\n",
              "\n",
              "      async function convertToInteractive(key) {\n",
              "        const element = document.querySelector('#df-b0dbf601-2d8a-4dd0-a28e-0f6af96006d5');\n",
              "        const dataTable =\n",
              "          await google.colab.kernel.invokeFunction('convertToInteractive',\n",
              "                                                    [key], {});\n",
              "        if (!dataTable) return;\n",
              "\n",
              "        const docLinkHtml = 'Like what you see? Visit the ' +\n",
              "          '<a target=\"_blank\" href=https://colab.research.google.com/notebooks/data_table.ipynb>data table notebook</a>'\n",
              "          + ' to learn more about interactive tables.';\n",
              "        element.innerHTML = '';\n",
              "        dataTable['output_type'] = 'display_data';\n",
              "        await google.colab.output.renderOutput(dataTable, element);\n",
              "        const docLink = document.createElement('div');\n",
              "        docLink.innerHTML = docLinkHtml;\n",
              "        element.appendChild(docLink);\n",
              "      }\n",
              "    </script>\n",
              "  </div>\n",
              "\n",
              "\n",
              "<div id=\"df-95ce966e-a840-49af-b792-e751db4a93a5\">\n",
              "  <button class=\"colab-df-quickchart\" onclick=\"quickchart('df-95ce966e-a840-49af-b792-e751db4a93a5')\"\n",
              "            title=\"Suggest charts.\"\n",
              "            style=\"display:none;\">\n",
              "\n",
              "<svg xmlns=\"http://www.w3.org/2000/svg\" height=\"24px\"viewBox=\"0 0 24 24\"\n",
              "     width=\"24px\">\n",
              "    <g>\n",
              "        <path d=\"M19 3H5c-1.1 0-2 .9-2 2v14c0 1.1.9 2 2 2h14c1.1 0 2-.9 2-2V5c0-1.1-.9-2-2-2zM9 17H7v-7h2v7zm4 0h-2V7h2v10zm4 0h-2v-4h2v4z\"/>\n",
              "    </g>\n",
              "</svg>\n",
              "  </button>\n",
              "\n",
              "<style>\n",
              "  .colab-df-quickchart {\n",
              "      --bg-color: #E8F0FE;\n",
              "      --fill-color: #1967D2;\n",
              "      --hover-bg-color: #E2EBFA;\n",
              "      --hover-fill-color: #174EA6;\n",
              "      --disabled-fill-color: #AAA;\n",
              "      --disabled-bg-color: #DDD;\n",
              "  }\n",
              "\n",
              "  [theme=dark] .colab-df-quickchart {\n",
              "      --bg-color: #3B4455;\n",
              "      --fill-color: #D2E3FC;\n",
              "      --hover-bg-color: #434B5C;\n",
              "      --hover-fill-color: #FFFFFF;\n",
              "      --disabled-bg-color: #3B4455;\n",
              "      --disabled-fill-color: #666;\n",
              "  }\n",
              "\n",
              "  .colab-df-quickchart {\n",
              "    background-color: var(--bg-color);\n",
              "    border: none;\n",
              "    border-radius: 50%;\n",
              "    cursor: pointer;\n",
              "    display: none;\n",
              "    fill: var(--fill-color);\n",
              "    height: 32px;\n",
              "    padding: 0;\n",
              "    width: 32px;\n",
              "  }\n",
              "\n",
              "  .colab-df-quickchart:hover {\n",
              "    background-color: var(--hover-bg-color);\n",
              "    box-shadow: 0 1px 2px rgba(60, 64, 67, 0.3), 0 1px 3px 1px rgba(60, 64, 67, 0.15);\n",
              "    fill: var(--button-hover-fill-color);\n",
              "  }\n",
              "\n",
              "  .colab-df-quickchart-complete:disabled,\n",
              "  .colab-df-quickchart-complete:disabled:hover {\n",
              "    background-color: var(--disabled-bg-color);\n",
              "    fill: var(--disabled-fill-color);\n",
              "    box-shadow: none;\n",
              "  }\n",
              "\n",
              "  .colab-df-spinner {\n",
              "    border: 2px solid var(--fill-color);\n",
              "    border-color: transparent;\n",
              "    border-bottom-color: var(--fill-color);\n",
              "    animation:\n",
              "      spin 1s steps(1) infinite;\n",
              "  }\n",
              "\n",
              "  @keyframes spin {\n",
              "    0% {\n",
              "      border-color: transparent;\n",
              "      border-bottom-color: var(--fill-color);\n",
              "      border-left-color: var(--fill-color);\n",
              "    }\n",
              "    20% {\n",
              "      border-color: transparent;\n",
              "      border-left-color: var(--fill-color);\n",
              "      border-top-color: var(--fill-color);\n",
              "    }\n",
              "    30% {\n",
              "      border-color: transparent;\n",
              "      border-left-color: var(--fill-color);\n",
              "      border-top-color: var(--fill-color);\n",
              "      border-right-color: var(--fill-color);\n",
              "    }\n",
              "    40% {\n",
              "      border-color: transparent;\n",
              "      border-right-color: var(--fill-color);\n",
              "      border-top-color: var(--fill-color);\n",
              "    }\n",
              "    60% {\n",
              "      border-color: transparent;\n",
              "      border-right-color: var(--fill-color);\n",
              "    }\n",
              "    80% {\n",
              "      border-color: transparent;\n",
              "      border-right-color: var(--fill-color);\n",
              "      border-bottom-color: var(--fill-color);\n",
              "    }\n",
              "    90% {\n",
              "      border-color: transparent;\n",
              "      border-bottom-color: var(--fill-color);\n",
              "    }\n",
              "  }\n",
              "</style>\n",
              "\n",
              "  <script>\n",
              "    async function quickchart(key) {\n",
              "      const quickchartButtonEl =\n",
              "        document.querySelector('#' + key + ' button');\n",
              "      quickchartButtonEl.disabled = true;  // To prevent multiple clicks.\n",
              "      quickchartButtonEl.classList.add('colab-df-spinner');\n",
              "      try {\n",
              "        const charts = await google.colab.kernel.invokeFunction(\n",
              "            'suggestCharts', [key], {});\n",
              "      } catch (error) {\n",
              "        console.error('Error during call to suggestCharts:', error);\n",
              "      }\n",
              "      quickchartButtonEl.classList.remove('colab-df-spinner');\n",
              "      quickchartButtonEl.classList.add('colab-df-quickchart-complete');\n",
              "    }\n",
              "    (() => {\n",
              "      let quickchartButtonEl =\n",
              "        document.querySelector('#df-95ce966e-a840-49af-b792-e751db4a93a5 button');\n",
              "      quickchartButtonEl.style.display =\n",
              "        google.colab.kernel.accessAllowed ? 'block' : 'none';\n",
              "    })();\n",
              "  </script>\n",
              "</div>\n",
              "    </div>\n",
              "  </div>\n"
            ]
          },
          "metadata": {},
          "execution_count": 25
        }
      ]
    },
    {
      "cell_type": "markdown",
      "source": [
        "####1. Pemeriksaan Missing Values:\n"
      ],
      "metadata": {
        "id": "oNdgwbpwUnjA"
      }
    },
    {
      "cell_type": "code",
      "source": [
        "# Cek missing values\n",
        "missing_values = data_sales.isnull().sum()\n",
        "print(missing_values)\n"
      ],
      "metadata": {
        "colab": {
          "base_uri": "https://localhost:8080/"
        },
        "id": "pqYlrx72UvjY",
        "outputId": "0fe8fa2b-8fc0-4289-a4f5-4518d0f573d4"
      },
      "execution_count": 26,
      "outputs": [
        {
          "output_type": "stream",
          "name": "stdout",
          "text": [
            "Order ID            545\n",
            "Product             545\n",
            "Quantity Ordered    545\n",
            "Price Each          545\n",
            "Order Date          545\n",
            "Purchase Address    545\n",
            "dtype: int64\n"
          ]
        }
      ]
    },
    {
      "cell_type": "code",
      "source": [
        "data_sales2 = data_sales.copy()  # Membuat salinan independen dari DataFrame\n",
        "data_sales2.dropna(inplace=True)  # Melakukan operasi pada salinan ini"
      ],
      "metadata": {
        "id": "mqtqV6AtWrH7"
      },
      "execution_count": 38,
      "outputs": []
    },
    {
      "cell_type": "markdown",
      "source": [
        "####2. Eksplorasi Data:"
      ],
      "metadata": {
        "id": "5wHut64_U9uF"
      }
    },
    {
      "cell_type": "code",
      "source": [
        "import matplotlib.pyplot as plt\n",
        "import seaborn as sns\n",
        "\n",
        "# Statistik deskriptif\n",
        "data_sales2.describe()\n",
        "\n",
        "# Visualisasi\n",
        "# Misalnya, histogram Quantity Ordered dan Price Each\n",
        "plt.figure(figsize=(12, 6))\n",
        "sns.histplot(data_sales2['Quantity Ordered'], bins=20, kde=True)\n",
        "plt.title('Distribution of Quantity Ordered')\n",
        "plt.xlabel('Quantity Ordered')\n",
        "plt.ylabel('Frequency')\n",
        "plt.show()\n",
        "\n"
      ],
      "metadata": {
        "colab": {
          "base_uri": "https://localhost:8080/",
          "height": 628
        },
        "id": "l1c7tkzYVDN6",
        "outputId": "c224b559-ae94-4a33-a0db-021434e6a2f8"
      },
      "execution_count": 39,
      "outputs": [
        {
          "output_type": "stream",
          "name": "stderr",
          "text": [
            "<ipython-input-39-d990bcb4040f>:5: FutureWarning: Treating datetime data as categorical rather than numeric in `.describe` is deprecated and will be removed in a future version of pandas. Specify `datetime_is_numeric=True` to silence this warning and adopt the future behavior now.\n",
            "  data_sales2.describe()\n"
          ]
        },
        {
          "output_type": "display_data",
          "data": {
            "text/plain": [
              "<Figure size 1200x600 with 1 Axes>"
            ],
            "image/png": "[encoded data removed]"
          },
          "metadata": {}
        }
      ]
    },
    {
      "cell_type": "code",
      "source": [
        "plt.figure(figsize=(12, 6))\n",
        "sns.histplot(data_sales['Price Each'], bins=20, kde=True)\n",
        "plt.title('Distribution of Price Each')\n",
        "plt.xlabel('Price Each')\n",
        "plt.ylabel('Frequency')\n",
        "plt.show()"
      ],
      "metadata": {
        "colab": {
          "base_uri": "https://localhost:8080/",
          "height": 573
        },
        "id": "Vdvqz1_DV0nS",
        "outputId": "76e6cdb9-19da-4632-e4a3-4b117a28da0b"
      },
      "execution_count": 40,
      "outputs": [
        {
          "output_type": "display_data",
          "data": {
            "text/plain": [
              "<Figure size 1200x600 with 1 Axes>"
            ],
            "image/png": "[encoded data removed]"
          },
          "metadata": {}
        }
      ]
    },
    {
      "cell_type": "markdown",
      "source": [
        "####3. Preprocessing Data Tambahan:"
      ],
      "metadata": {
        "id": "Oajvq8eeWEWN"
      }
    },
    {
      "cell_type": "code",
      "source": [
        "# Hapus baris yang memiliki nilai \"Order Date\" dalam kolom \"Order Date\"\n",
        "data_sales = data_sales[data_sales['Order Date'] != 'Order Date']\n",
        "\n",
        "# Mengubah tipe data kolom Order Date menjadi datetime\n",
        "data_sales.loc[:, 'Order Date'] = pd.to_datetime(data_sales['Order Date'], format='%m/%d/%y %H:%M')\n"
      ],
      "metadata": {
        "colab": {
          "base_uri": "https://localhost:8080/"
        },
        "id": "9ub3EgmwWKEd",
        "outputId": "9829a9c8-642a-42eb-de32-5c0df2be0fd6"
      },
      "execution_count": 41,
      "outputs": [
        {
          "output_type": "stream",
          "name": "stderr",
          "text": [
            "<ipython-input-41-bb950d2bd5de>:5: DeprecationWarning: In a future version, `df.iloc[:, i] = newvals` will attempt to set the values inplace instead of always setting a new array. To retain the old behavior, use either `df[df.columns[i]] = newvals` or, if columns are non-unique, `df.isetitem(i, newvals)`\n",
            "  data_sales.loc[:, 'Order Date'] = pd.to_datetime(data_sales['Order Date'], format='%m/%d/%y %H:%M')\n"
          ]
        }
      ]
    },
    {
      "cell_type": "code",
      "source": [
        "# Mengonversi kolom 'Quantity Ordered' dan 'Price Each' ke tipe data float\n",
        "data_sales['Quantity Ordered'] = data_sales['Quantity Ordered'].astype(float)\n",
        "data_sales['Price Each'] = data_sales['Price Each'].astype(float)\n",
        "\n",
        "# Menggabungkan kolom 'Quantity Ordered' dan 'Price Each' menjadi kolom baru 'Product'\n",
        "data_sales['Product'] = data_sales['Quantity Ordered'] * data_sales['Price Each']\n"
      ],
      "metadata": {
        "id": "Z3gGik2UnssV"
      },
      "execution_count": 42,
      "outputs": []
    },
    {
      "cell_type": "code",
      "source": [
        "# Menggabungkan kolom 'Quantity Ordered' dan 'Price Each' menjadi kolom baru 'Product'\n",
        "data_sales['Product'] = data_sales['Quantity Ordered'] * data_sales['Price Each']\n"
      ],
      "metadata": {
        "id": "0SPcs2whmrz3"
      },
      "execution_count": 43,
      "outputs": []
    },
    {
      "cell_type": "markdown",
      "source": [
        "####4. Seleksi Fitur:"
      ],
      "metadata": {
        "id": "Rr5mah-oXfAX"
      }
    },
    {
      "cell_type": "code",
      "source": [
        "# Menghitung korelasi antara 'Quantity Ordered' dan 'Price Each' dengan 'Product' sebagai target\n",
        "correlation_matrix = data_sales[['Quantity Ordered', 'Price Each', 'Product']].corr()\n",
        "\n",
        "# Mengambil korelasi antara 'Product' dengan 'Quantity Ordered' dan 'Price Each'\n",
        "correlation_with_product = correlation_matrix['Product'].sort_values(ascending=False)\n",
        "\n",
        "# Menampilkan korelasi\n",
        "print(correlation_with_product)\n",
        "\n",
        "# Anda dapat memilih fitur-fitur dengan korelasi tertinggi (positif atau negatif) sebagai fitur yang signifikan.\n",
        "# Misalnya, Anda ingin memilih 5 fitur teratas yang berkorelasi positif dengan \"Product\"\n",
        "top_positive_features = correlation_with_product.index[1:6]\n",
        "print(top_positive_features)\n",
        "\n",
        "# Atau, Anda ingin memilih 5 fitur teratas yang berkorelasi negatif dengan \"Product\"\n",
        "top_negative_features = correlation_with_product.index[-5:]\n",
        "print(top_negative_features)\n",
        "\n",
        "\n"
      ],
      "metadata": {
        "colab": {
          "base_uri": "https://localhost:8080/"
        },
        "id": "xf2mQ2BDXjc_",
        "outputId": "602aaee5-189a-440b-b541-114ea2f03fb8"
      },
      "execution_count": 46,
      "outputs": [
        {
          "output_type": "stream",
          "name": "stdout",
          "text": [
            "Product             1.000000\n",
            "Price Each          0.999203\n",
            "Quantity Ordered   -0.139417\n",
            "Name: Product, dtype: float64\n",
            "Index(['Price Each', 'Quantity Ordered'], dtype='object')\n",
            "Index(['Product', 'Price Each', 'Quantity Ordered'], dtype='object')\n"
          ]
        }
      ]
    },
    {
      "cell_type": "code",
      "source": [
        "# Mengakses kolom \"Product\" dengan indeks numerik\n",
        "product_column = data_sales.iloc[:, 1]  # Menggunakan indeks 1 karena kolom \"Product\" adalah kolom kedua (indeks 0-based)\n",
        "product_column"
      ],
      "metadata": {
        "colab": {
          "base_uri": "https://localhost:8080/"
        },
        "id": "bKEea0febKJN",
        "outputId": "b1a842d2-64c4-4315-8aae-8ebb379d966e"
      },
      "execution_count": 47,
      "outputs": [
        {
          "output_type": "execute_result",
          "data": {
            "text/plain": [
              "0         700.00\n",
              "1          14.95\n",
              "2          23.98\n",
              "3         149.99\n",
              "4          11.99\n",
              "           ...  \n",
              "186845     14.95\n",
              "186846      7.68\n",
              "186847    400.00\n",
              "186848     11.99\n",
              "186849     99.99\n",
              "Name: Product, Length: 185950, dtype: float64"
            ]
          },
          "metadata": {},
          "execution_count": 47
        }
      ]
    },
    {
      "cell_type": "markdown",
      "source": [
        "##2. Pemisahan Data:\n",
        "Bagi dataset Anda menjadi dua bagian: data pelatihan (training data) dan data pengujian (testing data). Data pelatihan akan digunakan untuk melatih model, sementara data pengujian akan digunakan untuk menguji kinerja model."
      ],
      "metadata": {
        "id": "OTvuTz-COBQU"
      }
    },
    {
      "cell_type": "markdown",
      "source": [
        "####Import library yang diperlukan:"
      ],
      "metadata": {
        "id": "eWS-rVJ2qrdr"
      }
    },
    {
      "cell_type": "code",
      "source": [
        "from sklearn.model_selection import train_test_split\n"
      ],
      "metadata": {
        "id": "gSXgkh17ODnd"
      },
      "execution_count": 48,
      "outputs": []
    },
    {
      "cell_type": "markdown",
      "source": [
        "####Pisahkan kolom target (variabel yang ingin diprediksi, yaitu 'Product') dari fitur-fitur lainnya:"
      ],
      "metadata": {
        "id": "gtXG_XEnqyNa"
      }
    },
    {
      "cell_type": "code",
      "source": [
        "X = data_sales[['Quantity Ordered', 'Price Each']]\n",
        "y = data_sales['Product']\n"
      ],
      "metadata": {
        "id": "STSkKVj_q2yS"
      },
      "execution_count": 49,
      "outputs": []
    },
    {
      "cell_type": "markdown",
      "source": [
        "####Lakukan pemisahan data menjadi data pelatihan (training data) dan data pengujian (testing data). Anda dapat menentukan persentase data yang akan digunakan untuk pengujian, misalnya, 80% untuk pelatihan dan 20% untuk pengujian:"
      ],
      "metadata": {
        "id": "QVuqMzppq6nl"
      }
    },
    {
      "cell_type": "code",
      "source": [
        "X_train, X_test, y_train, y_test = train_test_split(X, y, test_size=0.2, random_state=42)\n"
      ],
      "metadata": {
        "id": "Cr0y14OJq-vL"
      },
      "execution_count": 50,
      "outputs": []
    },
    {
      "cell_type": "markdown",
      "source": [
        "#3. Ekplorasi Data:\n",
        "Analisis data eksploratif membantu Anda memahami karakteristik data Anda, termasuk statistik deskriptif, visualisasi, dan identifikasi anomali atau kekurangan dalam data."
      ],
      "metadata": {
        "id": "O4OwycJMrV0i"
      }
    },
    {
      "cell_type": "markdown",
      "source": [
        "####Statistik Deskriptif:\n",
        "Hitung statistik deskriptif untuk setiap fitur dalam dataset. Anda dapat menggunakan describe() dari pandas untuk melihat statistik seperti rata-rata, median, kuartil, dan lainnya."
      ],
      "metadata": {
        "id": "5HmFyCbAr078"
      }
    },
    {
      "cell_type": "code",
      "source": [
        "# Statistik deskriptif\n",
        "data_sales.describe()\n"
      ],
      "metadata": {
        "colab": {
          "base_uri": "https://localhost:8080/",
          "height": 300
        },
        "id": "14ZLsvPMrUpy",
        "outputId": "49e406c4-9a06-4976-e7dc-238d9c67ed26"
      },
      "execution_count": 51,
      "outputs": [
        {
          "output_type": "execute_result",
          "data": {
            "text/plain": [
              "             Product  Quantity Ordered     Price Each\n",
              "count  185950.000000     185950.000000  185950.000000\n",
              "mean      185.490917          1.124383     184.399735\n",
              "std       332.919771          0.442793     332.731330\n",
              "min         2.990000          1.000000       2.990000\n",
              "25%        11.950000          1.000000      11.950000\n",
              "50%        14.950000          1.000000      14.950000\n",
              "75%       150.000000          1.000000     150.000000\n",
              "max      3400.000000          9.000000    1700.000000"
            ],
            "text/html": [
              "\n",
              "  <div id=\"df-424c9073-b4d8-44ca-bcf2-ecb1ffc05b2b\" class=\"colab-df-container\">\n",
              "    <div>\n",
              "<style scoped>\n",
              "    .dataframe tbody tr th:only-of-type {\n",
              "        vertical-align: middle;\n",
              "    }\n",
              "\n",
              "    .dataframe tbody tr th {\n",
              "        vertical-align: top;\n",
              "    }\n",
              "\n",
              "    .dataframe thead th {\n",
              "        text-align: right;\n",
              "    }\n",
              "</style>\n",
              "<table border=\"1\" class=\"dataframe\">\n",
              "  <thead>\n",
              "    <tr style=\"text-align: right;\">\n",
              "      <th></th>\n",
              "      <th>Product</th>\n",
              "      <th>Quantity Ordered</th>\n",
              "      <th>Price Each</th>\n",
              "    </tr>\n",
              "  </thead>\n",
              "  <tbody>\n",
              "    <tr>\n",
              "      <th>count</th>\n",
              "      <td>185950.000000</td>\n",
              "      <td>185950.000000</td>\n",
              "      <td>185950.000000</td>\n",
              "    </tr>\n",
              "    <tr>\n",
              "      <th>mean</th>\n",
              "      <td>185.490917</td>\n",
              "      <td>1.124383</td>\n",
              "      <td>184.399735</td>\n",
              "    </tr>\n",
              "    <tr>\n",
              "      <th>std</th>\n",
              "      <td>332.919771</td>\n",
              "      <td>0.442793</td>\n",
              "      <td>332.731330</td>\n",
              "    </tr>\n",
              "    <tr>\n",
              "      <th>min</th>\n",
              "      <td>2.990000</td>\n",
              "      <td>1.000000</td>\n",
              "      <td>2.990000</td>\n",
              "    </tr>\n",
              "    <tr>\n",
              "      <th>25%</th>\n",
              "      <td>11.950000</td>\n",
              "      <td>1.000000</td>\n",
              "      <td>11.950000</td>\n",
              "    </tr>\n",
              "    <tr>\n",
              "      <th>50%</th>\n",
              "      <td>14.950000</td>\n",
              "      <td>1.000000</td>\n",
              "      <td>14.950000</td>\n",
              "    </tr>\n",
              "    <tr>\n",
              "      <th>75%</th>\n",
              "      <td>150.000000</td>\n",
              "      <td>1.000000</td>\n",
              "      <td>150.000000</td>\n",
              "    </tr>\n",
              "    <tr>\n",
              "      <th>max</th>\n",
              "      <td>3400.000000</td>\n",
              "      <td>9.000000</td>\n",
              "      <td>1700.000000</td>\n",
              "    </tr>\n",
              "  </tbody>\n",
              "</table>\n",
              "</div>\n",
              "    <div class=\"colab-df-buttons\">\n",
              "\n",
              "  <div class=\"colab-df-container\">\n",
              "    <button class=\"colab-df-convert\" onclick=\"convertToInteractive('df-424c9073-b4d8-44ca-bcf2-ecb1ffc05b2b')\"\n",
              "            title=\"Convert this dataframe to an interactive table.\"\n",
              "            style=\"display:none;\">\n",
              "\n",
              "  <svg xmlns=\"http://www.w3.org/2000/svg\" height=\"24px\" viewBox=\"0 -960 960 960\">\n",
              "    <path d=\"M120-120v-720h720v720H120Zm60-500h600v-160H180v160Zm220 220h160v-160H400v160Zm0 220h160v-160H400v160ZM180-400h160v-160H180v160Zm440 0h160v-160H620v160ZM180-180h160v-160H180v160Zm440 0h160v-160H620v160Z\"/>\n",
              "  </svg>\n",
              "    </button>\n",
              "\n",
              "  <style>\n",
              "    .colab-df-container {\n",
              "      display:flex;\n",
              "      gap: 12px;\n",
              "    }\n",
              "\n",
              "    .colab-df-convert {\n",
              "      background-color: #E8F0FE;\n",
              "      border: none;\n",
              "      border-radius: 50%;\n",
              "      cursor: pointer;\n",
              "      display: none;\n",
              "      fill: #1967D2;\n",
              "      height: 32px;\n",
              "      padding: 0 0 0 0;\n",
              "      width: 32px;\n",
              "    }\n",
              "\n",
              "    .colab-df-convert:hover {\n",
              "      background-color: #E2EBFA;\n",
              "      box-shadow: 0px 1px 2px rgba(60, 64, 67, 0.3), 0px 1px 3px 1px rgba(60, 64, 67, 0.15);\n",
              "      fill: #174EA6;\n",
              "    }\n",
              "\n",
              "    .colab-df-buttons div {\n",
              "      margin-bottom: 4px;\n",
              "    }\n",
              "\n",
              "    [theme=dark] .colab-df-convert {\n",
              "      background-color: #3B4455;\n",
              "      fill: #D2E3FC;\n",
              "    }\n",
              "\n",
              "    [theme=dark] .colab-df-convert:hover {\n",
              "      background-color: #434B5C;\n",
              "      box-shadow: 0px 1px 3px 1px rgba(0, 0, 0, 0.15);\n",
              "      filter: drop-shadow(0px 1px 2px rgba(0, 0, 0, 0.3));\n",
              "      fill: #FFFFFF;\n",
              "    }\n",
              "  </style>\n",
              "\n",
              "    <script>\n",
              "      const buttonEl =\n",
              "        document.querySelector('#df-424c9073-b4d8-44ca-bcf2-ecb1ffc05b2b button.colab-df-convert');\n",
              "      buttonEl.style.display =\n",
              "        google.colab.kernel.accessAllowed ? 'block' : 'none';\n",
              "\n",
              "      async function convertToInteractive(key) {\n",
              "        const element = document.querySelector('#df-424c9073-b4d8-44ca-bcf2-ecb1ffc05b2b');\n",
              "        const dataTable =\n",
              "          await google.colab.kernel.invokeFunction('convertToInteractive',\n",
              "                                                    [key], {});\n",
              "        if (!dataTable) return;\n",
              "\n",
              "        const docLinkHtml = 'Like what you see? Visit the ' +\n",
              "          '<a target=\"_blank\" href=https://colab.research.google.com/notebooks/data_table.ipynb>data table notebook</a>'\n",
              "          + ' to learn more about interactive tables.';\n",
              "        element.innerHTML = '';\n",
              "        dataTable['output_type'] = 'display_data';\n",
              "        await google.colab.output.renderOutput(dataTable, element);\n",
              "        const docLink = document.createElement('div');\n",
              "        docLink.innerHTML = docLinkHtml;\n",
              "        element.appendChild(docLink);\n",
              "      }\n",
              "    </script>\n",
              "  </div>\n",
              "\n",
              "\n",
              "<div id=\"df-d3492a7b-03af-4f19-af29-5ae39ca9713f\">\n",
              "  <button class=\"colab-df-quickchart\" onclick=\"quickchart('df-d3492a7b-03af-4f19-af29-5ae39ca9713f')\"\n",
              "            title=\"Suggest charts.\"\n",
              "            style=\"display:none;\">\n",
              "\n",
              "<svg xmlns=\"http://www.w3.org/2000/svg\" height=\"24px\"viewBox=\"0 0 24 24\"\n",
              "     width=\"24px\">\n",
              "    <g>\n",
              "        <path d=\"M19 3H5c-1.1 0-2 .9-2 2v14c0 1.1.9 2 2 2h14c1.1 0 2-.9 2-2V5c0-1.1-.9-2-2-2zM9 17H7v-7h2v7zm4 0h-2V7h2v10zm4 0h-2v-4h2v4z\"/>\n",
              "    </g>\n",
              "</svg>\n",
              "  </button>\n",
              "\n",
              "<style>\n",
              "  .colab-df-quickchart {\n",
              "      --bg-color: #E8F0FE;\n",
              "      --fill-color: #1967D2;\n",
              "      --hover-bg-color: #E2EBFA;\n",
              "      --hover-fill-color: #174EA6;\n",
              "      --disabled-fill-color: #AAA;\n",
              "      --disabled-bg-color: #DDD;\n",
              "  }\n",
              "\n",
              "  [theme=dark] .colab-df-quickchart {\n",
              "      --bg-color: #3B4455;\n",
              "      --fill-color: #D2E3FC;\n",
              "      --hover-bg-color: #434B5C;\n",
              "      --hover-fill-color: #FFFFFF;\n",
              "      --disabled-bg-color: #3B4455;\n",
              "      --disabled-fill-color: #666;\n",
              "  }\n",
              "\n",
              "  .colab-df-quickchart {\n",
              "    background-color: var(--bg-color);\n",
              "    border: none;\n",
              "    border-radius: 50%;\n",
              "    cursor: pointer;\n",
              "    display: none;\n",
              "    fill: var(--fill-color);\n",
              "    height: 32px;\n",
              "    padding: 0;\n",
              "    width: 32px;\n",
              "  }\n",
              "\n",
              "  .colab-df-quickchart:hover {\n",
              "    background-color: var(--hover-bg-color);\n",
              "    box-shadow: 0 1px 2px rgba(60, 64, 67, 0.3), 0 1px 3px 1px rgba(60, 64, 67, 0.15);\n",
              "    fill: var(--button-hover-fill-color);\n",
              "  }\n",
              "\n",
              "  .colab-df-quickchart-complete:disabled,\n",
              "  .colab-df-quickchart-complete:disabled:hover {\n",
              "    background-color: var(--disabled-bg-color);\n",
              "    fill: var(--disabled-fill-color);\n",
              "    box-shadow: none;\n",
              "  }\n",
              "\n",
              "  .colab-df-spinner {\n",
              "    border: 2px solid var(--fill-color);\n",
              "    border-color: transparent;\n",
              "    border-bottom-color: var(--fill-color);\n",
              "    animation:\n",
              "      spin 1s steps(1) infinite;\n",
              "  }\n",
              "\n",
              "  @keyframes spin {\n",
              "    0% {\n",
              "      border-color: transparent;\n",
              "      border-bottom-color: var(--fill-color);\n",
              "      border-left-color: var(--fill-color);\n",
              "    }\n",
              "    20% {\n",
              "      border-color: transparent;\n",
              "      border-left-color: var(--fill-color);\n",
              "      border-top-color: var(--fill-color);\n",
              "    }\n",
              "    30% {\n",
              "      border-color: transparent;\n",
              "      border-left-color: var(--fill-color);\n",
              "      border-top-color: var(--fill-color);\n",
              "      border-right-color: var(--fill-color);\n",
              "    }\n",
              "    40% {\n",
              "      border-color: transparent;\n",
              "      border-right-color: var(--fill-color);\n",
              "      border-top-color: var(--fill-color);\n",
              "    }\n",
              "    60% {\n",
              "      border-color: transparent;\n",
              "      border-right-color: var(--fill-color);\n",
              "    }\n",
              "    80% {\n",
              "      border-color: transparent;\n",
              "      border-right-color: var(--fill-color);\n",
              "      border-bottom-color: var(--fill-color);\n",
              "    }\n",
              "    90% {\n",
              "      border-color: transparent;\n",
              "      border-bottom-color: var(--fill-color);\n",
              "    }\n",
              "  }\n",
              "</style>\n",
              "\n",
              "  <script>\n",
              "    async function quickchart(key) {\n",
              "      const quickchartButtonEl =\n",
              "        document.querySelector('#' + key + ' button');\n",
              "      quickchartButtonEl.disabled = true;  // To prevent multiple clicks.\n",
              "      quickchartButtonEl.classList.add('colab-df-spinner');\n",
              "      try {\n",
              "        const charts = await google.colab.kernel.invokeFunction(\n",
              "            'suggestCharts', [key], {});\n",
              "      } catch (error) {\n",
              "        console.error('Error during call to suggestCharts:', error);\n",
              "      }\n",
              "      quickchartButtonEl.classList.remove('colab-df-spinner');\n",
              "      quickchartButtonEl.classList.add('colab-df-quickchart-complete');\n",
              "    }\n",
              "    (() => {\n",
              "      let quickchartButtonEl =\n",
              "        document.querySelector('#df-d3492a7b-03af-4f19-af29-5ae39ca9713f button');\n",
              "      quickchartButtonEl.style.display =\n",
              "        google.colab.kernel.accessAllowed ? 'block' : 'none';\n",
              "    })();\n",
              "  </script>\n",
              "</div>\n",
              "    </div>\n",
              "  </div>\n"
            ]
          },
          "metadata": {},
          "execution_count": 51
        }
      ]
    },
    {
      "cell_type": "markdown",
      "source": [
        "####Visualisasi:\n",
        "Gunakan visualisasi untuk memahami distribusi dan hubungan antar fitur. Beberapa plot yang berguna termasuk histogram, scatter plot, box plot, dan lainnya. Sebagai contoh:"
      ],
      "metadata": {
        "id": "jaxhjNc3sAx4"
      }
    },
    {
      "cell_type": "code",
      "source": [
        "import matplotlib.pyplot as plt\n",
        "import seaborn as sns\n",
        "\n",
        "# Histogram Quantity Ordered\n",
        "plt.figure(figsize=(12, 6))\n",
        "sns.histplot(data_sales['Quantity Ordered'], bins=20, kde=True)\n",
        "plt.title('Distribution of Quantity Ordered')\n",
        "plt.xlabel('Quantity Ordered')\n",
        "plt.ylabel('Frequency')\n",
        "plt.show()\n",
        "\n",
        "# Scatter plot Price Each vs. Quantity Ordered\n",
        "plt.figure(figsize=(12, 6))\n",
        "sns.scatterplot(data=data_sales, x='Price Each', y='Quantity Ordered')\n",
        "plt.title('Scatter plot of Price Each vs. Quantity Ordered')\n",
        "plt.xlabel('Price Each')\n",
        "plt.ylabel('Quantity Ordered')\n",
        "plt.show()\n"
      ],
      "metadata": {
        "colab": {
          "base_uri": "https://localhost:8080/",
          "height": 1000
        },
        "id": "7C02PFiRrBnN",
        "outputId": "50291d42-e03b-44a4-a2b1-e0bb2294a60d"
      },
      "execution_count": 52,
      "outputs": [
        {
          "output_type": "display_data",
          "data": {
            "text/plain": [
              "<Figure size 1200x600 with 1 Axes>"
            ],
            "image/png": "[encoded data removed]"
          },
          "metadata": {}
        },
        {
          "output_type": "display_data",
          "data": {
            "text/plain": [
              "<Figure size 1200x600 with 1 Axes>"
            ],
            "image/png": "[encoded data removed]"
          },
          "metadata": {}
        }
      ]
    },
    {
      "cell_type": "markdown",
      "source": [
        "####Korelasi:\n",
        "Anda juga dapat menghitung korelasi antara fitur-fitur dalam dataset untuk melihat hubungan antar mereka."
      ],
      "metadata": {
        "id": "TAGbV7qFsQhW"
      }
    },
    {
      "cell_type": "code",
      "source": [
        "# Korelasi antara fitur-fitur\n",
        "correlation_matrix = data_sales.corr()\n"
      ],
      "metadata": {
        "colab": {
          "base_uri": "https://localhost:8080/"
        },
        "id": "VF1D3-wHsdhe",
        "outputId": "7542f9a4-6f7e-4b37-c20a-0dafdc9a160b"
      },
      "execution_count": 56,
      "outputs": [
        {
          "output_type": "stream",
          "name": "stderr",
          "text": [
            "<ipython-input-56-4adc8d6f8550>:2: FutureWarning: The default value of numeric_only in DataFrame.corr is deprecated. In a future version, it will default to False. Select only valid columns or specify the value of numeric_only to silence this warning.\n",
            "  correlation_matrix = data_sales.corr()\n"
          ]
        }
      ]
    },
    {
      "cell_type": "markdown",
      "source": [
        "####Visualisasi Korelasi:\n",
        "Anda bisa membuat heatmap untuk visualisasi korelasi antar fitur."
      ],
      "metadata": {
        "id": "K2b-k9HOsnuO"
      }
    },
    {
      "cell_type": "code",
      "source": [
        "plt.figure(figsize=(10, 8))\n",
        "sns.heatmap(correlation_matrix, annot=True, cmap='coolwarm')\n",
        "plt.title('Correlation Heatmap')\n",
        "plt.show()\n"
      ],
      "metadata": {
        "colab": {
          "base_uri": "https://localhost:8080/",
          "height": 703
        },
        "id": "2hpjSi3istos",
        "outputId": "6e5bde7c-13bd-4450-c4ae-46dfddb3f9c1"
      },
      "execution_count": 57,
      "outputs": [
        {
          "output_type": "display_data",
          "data": {
            "text/plain": [
              "<Figure size 1000x800 with 2 Axes>"
            ],
            "image/png": "[encoded data removed]"
          },
          "metadata": {}
        }
      ]
    },
    {
      "cell_type": "markdown",
      "source": [
        "##4. Pemrosesan Data:\n",
        "Lakukan pra-pemrosesan data jika diperlukan, seperti pengisian nilai yang hilang, normalisasi, atau penskalaan fitur.\n",
        "Product , \tQuantity Ordered\t, Price Each"
      ],
      "metadata": {
        "id": "ouDN0rhWTYuX"
      }
    },
    {
      "cell_type": "markdown",
      "source": [
        "####Normalisasi atau Penskalaan Fitur:\n",
        "Terkadang, fitur-fitur dalam dataset memiliki skala yang berbeda. Normalisasi atau penskalaan fitur dapat membantu menghindari dominasi satu fitur terhadap yang lain. Contoh sintaks untuk penskalaan min-max adalah:"
      ],
      "metadata": {
        "id": "LOnR73L7UjZo"
      }
    },
    {
      "cell_type": "code",
      "source": [],
      "metadata": {
        "id": "ytGUH99CZ67t"
      },
      "execution_count": null,
      "outputs": []
    },
    {
      "cell_type": "code",
      "source": [
        "from sklearn.preprocessing import MinMaxScaler\n",
        "\n",
        "scaler = MinMaxScaler()\n",
        "data_sales[['Product', 'Quantity Ordered', 'Price Each']] = scaler.fit_transform(data_sales[['Product', 'Quantity Ordered', 'Price Each']])\n"
      ],
      "metadata": {
        "id": "-zVAuqtRTda5"
      },
      "execution_count": 59,
      "outputs": []
    },
    {
      "cell_type": "markdown",
      "source": [
        "####Encoding Kategori:\n",
        "Jika Anda memiliki variabel kategori dalam dataset Anda, Anda perlu mengubahnya menjadi bentuk numerik agar dapat digunakan dalam pemodelan. Salah satu metode yang umum digunakan adalah one-hot encoding. Contoh sintaks untuk one-hot encoding adalah:"
      ],
      "metadata": {
        "id": "hSqD66hjaw04"
      }
    },
    {
      "cell_type": "code",
      "source": [
        "data_sales_encoded = pd.get_dummies(data_sales, columns=['Product'], prefix='Product')\n"
      ],
      "metadata": {
        "id": "nVGRxmqva0Kl"
      },
      "execution_count": 60,
      "outputs": []
    },
    {
      "cell_type": "markdown",
      "source": [
        "####Pemilihan Fitur:\n",
        "Anda juga dapat memilih fitur-fitur yang paling relevan atau signifikan untuk digunakan dalam pemodelan. Ini dapat membantu mengurangi dimensi data dan meningkatkan kinerja model. Anda bisa menggunakan metode seperti analisis korelasi atau pemilihan fitur berbasis model."
      ],
      "metadata": {
        "id": "9warUTiLbHNg"
      }
    },
    {
      "cell_type": "code",
      "source": [
        "# Pilih fitur \"Price Each\" sebagai fitur yang signifikan\n",
        "selected_features = ['Price Each']\n",
        "\n",
        "# Buat DataFrame baru hanya dengan fitur yang terpilih\n",
        "data_selected_features = data_sales_encoded[selected_features]\n",
        "\n",
        "# Hasilnya, DataFrame data_selected_features akan hanya berisi satu kolom yaitu \"Price Each\"\n",
        "# Anda dapat menggunakannya untuk pemodelan lebih lanjut\n"
      ],
      "metadata": {
        "id": "L6I-us_0bNcF"
      },
      "execution_count": 63,
      "outputs": []
    },
    {
      "cell_type": "markdown",
      "source": [
        "#6. Pembuatan Model:\n",
        "Buat model Regresi Linear Polinomial dengan menggunakan data pelatihan. Model ini akan mencoba untuk menemukan polinomial terbaik yang sesuai dengan hubungan antara variabel independen dan dependen. Polinomial ini dapat berupa derajat yang lebih tinggi daripada model Regresi Linear biasa."
      ],
      "metadata": {
        "id": "NLgbjvpUe--H"
      }
    },
    {
      "cell_type": "code",
      "source": [
        "from sklearn.model_selection import train_test_split\n",
        "\n",
        "# Split the data into training and testing sets\n",
        "X_train, X_test, y_train, y_test = train_test_split(X, y, test_size=0.2, random_state=42)\n"
      ],
      "metadata": {
        "id": "JQFUZXnZhV7q"
      },
      "execution_count": 82,
      "outputs": []
    },
    {
      "cell_type": "code",
      "source": [
        "import numpy as np\n",
        "import matplotlib.pyplot as plt\n",
        "from sklearn.preprocessing import PolynomialFeatures\n",
        "from sklearn.linear_model import LinearRegression\n",
        "from sklearn.model_selection import train_test_split\n",
        "from sklearn.metrics import mean_squared_error, r2_score\n",
        "\n",
        "# Splitting the data into training and testing sets (70% training, 30% testing)\n",
        "X = data_sales[['Price Each']]\n",
        "y = data_sales['Product']\n",
        "X_train, X_test, y_train, y_test = train_test_split(X, y, test_size=0.3, random_state=42)\n",
        "\n",
        "# Specify the degree of the polynomial\n",
        "degree = 2  # You can change this to the degree you want\n",
        "\n",
        "# Create polynomial features\n",
        "poly_features = PolynomialFeatures(degree=degree)\n",
        "X_train_poly = poly_features.fit_transform(X_train)\n",
        "X_test_poly = poly_features.transform(X_test)\n",
        "\n",
        "# Create and train the Polynomial Regression model\n",
        "poly_regression = LinearRegression()\n",
        "poly_regression.fit(X_train_poly, y_train)\n",
        "\n",
        "# Predictions on the test set\n",
        "y_pred = poly_regression.predict(X_test_poly)\n",
        "\n",
        "# Calculate performance metrics\n",
        "mse = mean_squared_error(y_test, y_pred)\n",
        "r2 = r2_score(y_test, y_pred)\n",
        "\n",
        "# Visualize the results\n",
        "plt.scatter(X_test, y_test, label='Actual Data')\n",
        "plt.plot(X_test, y_pred, color='red', label='Polynomial Regression')\n",
        "plt.xlabel('Price Each')\n",
        "plt.ylabel('Product')\n",
        "plt.title('Polynomial Regression')\n",
        "plt.legend()\n",
        "plt.show()\n",
        "\n",
        "print(f'Mean Squared Error: {mse}')\n",
        "print(f'R-squared: {r2}')\n"
      ],
      "metadata": {
        "colab": {
          "base_uri": "https://localhost:8080/",
          "height": 515
        },
        "id": "96e4wPdPj5f_",
        "outputId": "037a8962-d185-4e25-ffb8-4f3299bfdf55"
      },
      "execution_count": 83,
      "outputs": [
        {
          "output_type": "display_data",
          "data": {
            "text/plain": [
              "<Figure size 640x480 with 1 Axes>"
            ],
            "image/png": "[encoded data removed]"
          },
          "metadata": {}
        },
        {
          "output_type": "stream",
          "name": "stdout",
          "text": [
            "Mean Squared Error: 1.542678015574982e-05\n",
            "R-squared: 0.998382232269472\n"
          ]
        }
      ]
    },
    {
      "cell_type": "markdown",
      "source": [
        "#7. Pelatihan Model:\n",
        "Latih model Anda dengan menggunakan data pelatihan. Proses ini melibatkan menemukan parameter terbaik untuk model Polinomial, seperti koefisien polinomial."
      ],
      "metadata": {
        "id": "F8EaDVmLnAez"
      }
    },
    {
      "cell_type": "code",
      "source": [
        "from sklearn.model_selection import train_test_split\n",
        "from sklearn.preprocessing import PolynomialFeatures\n",
        "from sklearn.linear_model import LinearRegression\n",
        "from sklearn.metrics import mean_squared_error, r2_score\n",
        "\n",
        "# Bagi data menjadi data pelatihan dan data pengujian\n",
        "X_train, X_test, y_train, y_test = train_test_split(data_sales[['Price Each']], data_sales['Product'], test_size=0.2, random_state=42)\n",
        "\n",
        "# Pilih derajat polinomial (contoh: derajat 2)\n",
        "degree = 2\n",
        "\n",
        "# Transformasi fitur sesuai dengan derajat polinomial yang dipilih\n",
        "poly = PolynomialFeatures(degree=degree)\n",
        "X_train_poly = poly.fit_transform(X_train)\n",
        "X_test_poly = poly.transform(X_test)\n",
        "\n",
        "# Latih model Regresi Linear Polinomial\n",
        "model = LinearRegression()\n",
        "model.fit(X_train_poly, y_train)\n",
        "\n",
        "# Prediksi pada data pengujian\n",
        "y_pred = model.predict(X_test_poly)\n",
        "\n",
        "# Evaluasi model\n",
        "mse = mean_squared_error(y_test, y_pred)\n",
        "r2 = r2_score(y_test, y_pred)\n",
        "\n",
        "print(\"Mean Squared Error:\", mse)\n",
        "print(\"R-squared:\", r2)\n",
        "\n"
      ],
      "metadata": {
        "colab": {
          "base_uri": "https://localhost:8080/"
        },
        "id": "HqC8DAInfHGY",
        "outputId": "e738080e-89fe-4efa-8213-f90af29dc718"
      },
      "execution_count": 80,
      "outputs": [
        {
          "output_type": "stream",
          "name": "stdout",
          "text": [
            "Mean Squared Error: 1.950662202764588e-05\n",
            "R-squared: 0.9979728565549844\n"
          ]
        }
      ]
    },
    {
      "cell_type": "markdown",
      "source": [
        "#8. Evaluasi Model:\n",
        "Gunakan data pengujian untuk mengukur kinerja model Anda. Metrik evaluasi yang umum digunakan untuk model Regresi Linear Polinomial termasuk Mean Squared Error (MSE), R-squared (R^2), dan lainnya"
      ],
      "metadata": {
        "id": "YtzZxyWMo7n0"
      }
    },
    {
      "cell_type": "code",
      "source": [
        "import numpy as np\n",
        "import matplotlib.pyplot as plt\n",
        "from sklearn.preprocessing import PolynomialFeatures\n",
        "from sklearn.linear_model import LinearRegression\n",
        "from sklearn.model_selection import train_test_split\n",
        "from sklearn.metrics import mean_squared_error, r2_score\n",
        "\n",
        "# Splitting the data into training and testing sets (70% training, 30% testing)\n",
        "X = data_sales[['Price Each']]\n",
        "y = data_sales['Product']\n",
        "X_train, X_test, y_train, y_test = train_test_split(X, y, test_size=0.3, random_state=42)\n",
        "\n",
        "# Specify the degree of the polynomial\n",
        "degree = 2  # You can change this to the degree you want\n",
        "\n",
        "# Create polynomial features\n",
        "poly_features = PolynomialFeatures(degree=degree)\n",
        "X_train_poly = poly_features.fit_transform(X_train)\n",
        "X_test_poly = poly_features.transform(X_test)\n",
        "\n",
        "# Create and train the Polynomial Regression model\n",
        "poly_regression = LinearRegression()\n",
        "poly_regression.fit(X_train_poly, y_train)\n",
        "\n",
        "# Predictions on the test set\n",
        "y_pred = poly_regression.predict(X_test_poly)\n",
        "\n",
        "# Calculate performance metrics\n",
        "mse = mean_squared_error(y_test, y_pred)\n",
        "r2 = r2_score(y_test, y_pred)\n",
        "\n",
        "# Print performance metrics\n",
        "print(f\"Mean Squared Error: {mse}\")\n",
        "print(f\"R-squared: {r2}\")\n"
      ],
      "metadata": {
        "colab": {
          "base_uri": "https://localhost:8080/"
        },
        "id": "SvJPv7inpCPE",
        "outputId": "4a1c8629-1dee-45ca-c2e9-8f45bdfb340a"
      },
      "execution_count": 87,
      "outputs": [
        {
          "output_type": "stream",
          "name": "stdout",
          "text": [
            "Mean Squared Error: 1.542678015574982e-05\n",
            "R-squared: 0.998382232269472\n"
          ]
        }
      ]
    },
    {
      "cell_type": "markdown",
      "source": [
        "#9. Penyetelan Hyperparameter:\n",
        "Jika hasil evaluasi tidak memuaskan, Anda dapat melakukan penyetelan hyperparameter, seperti mengubah derajat polinomial atau menggunakan metode regularisasi seperti Lasso atau Ridge."
      ],
      "metadata": {
        "id": "RktF6zPMuZu3"
      }
    },
    {
      "cell_type": "markdown",
      "source": [
        "Itu adalah hasil evaluasi model Regresi Linear Polinomial yang telah Anda buat. Nilai Mean Squared Error (MSE) yang rendah dan nilai R-squared (R^2) yang tinggi menunjukkan bahwa model tersebut memiliki kinerja yang sangat baik dalam memodelkan hubungan antara variabel independen (Price Each) dan variabel dependen (Product). Semakin mendekati 1, nilai R^2 yang semakin tinggi mengindikasikan bahwa model dapat menjelaskan variasi yang signifikan dalam data.\n",
        "\n",
        "Dengan nilai MSE yang rendah, model Anda juga memiliki tingkat kesalahan yang kecil ketika melakukan prediksi terhadap data pengujian. Ini adalah tanda yang baik bahwa model Anda cocok dengan data pelatihan dan mampu menggeneralisasi dengan baik pada data baru."
      ],
      "metadata": {
        "id": "2hUOYHDYufpG"
      }
    },
    {
      "cell_type": "markdown",
      "source": [
        "#10. Prediksi:\n",
        "Setelah Anda puas dengan kinerja model, Anda dapat menggunakannya untuk membuat prediksi pada data baru atau situasi dunia nyata."
      ],
      "metadata": {
        "id": "_dxPqvlfwkd5"
      }
    },
    {
      "cell_type": "code",
      "source": [
        "import numpy as np\n",
        "from sklearn.linear_model import LinearRegression\n",
        "\n",
        "# Data pelatihan (contoh)\n",
        "X_train = np.array([[1400], [1600], [1800], [2000], [2200]])\n",
        "y_train = np.array([245000, 312000, 279000, 308000, 199000])\n",
        "\n",
        "# Latih model\n",
        "model = LinearRegression()\n",
        "model.fit(X_train, y_train)\n",
        "\n",
        "# Data baru yang akan diprediksi\n",
        "X_new = np.array([[1850]])\n",
        "\n",
        "# Membuat prediksi\n",
        "predicted_price = model.predict(X_new)\n",
        "\n",
        "print(\"Predicted Price:\", predicted_price)\n"
      ],
      "metadata": {
        "colab": {
          "base_uri": "https://localhost:8080/"
        },
        "id": "is0nwQ2uubQs",
        "outputId": "549ff58b-99a2-482c-9625-48e25817a82d"
      },
      "execution_count": 88,
      "outputs": [
        {
          "output_type": "stream",
          "name": "stdout",
          "text": [
            "Predicted Price: [266200.]\n"
          ]
        }
      ]
    },
    {
      "cell_type": "code",
      "source": [
        "import numpy as np\n",
        "from sklearn.preprocessing import PolynomialFeatures\n",
        "from sklearn.linear_model import LinearRegression\n",
        "\n",
        "# Data pelatihan (contoh)\n",
        "X_train = np.array([[2, 2, 1500], [3, 2, 1800], [3, 3, 2100], [4, 3, 2400]])\n",
        "y_train = np.array([250000, 320000, 400000, 450000])\n",
        "\n",
        "# Membuat fitur-fitur polinomial\n",
        "poly_features = PolynomialFeatures(degree=2)\n",
        "X_train_poly = poly_features.fit_transform(X_train)\n",
        "\n",
        "# Latih model regresi linear\n",
        "model = LinearRegression()\n",
        "model.fit(X_train_poly, y_train)\n",
        "\n",
        "# Data input baru untuk prediksi\n",
        "X_new = np.array([[3, 2, 1700]])\n",
        "\n",
        "# Membuat fitur-fitur polinomial dari data input baru\n",
        "X_new_poly = poly_features.transform(X_new)\n",
        "\n",
        "# Membuat prediksi\n",
        "predicted_price = model.predict(X_new_poly)\n",
        "\n",
        "print(\"Predicted Price:\", predicted_price)\n"
      ],
      "metadata": {
        "colab": {
          "base_uri": "https://localhost:8080/"
        },
        "id": "tMwh5Y_Zy_EH",
        "outputId": "678b629c-ab1a-401e-9aa5-a55a4cae0d75"
      },
      "execution_count": 90,
      "outputs": [
        {
          "output_type": "stream",
          "name": "stdout",
          "text": [
            "Predicted Price: [215855.27095404]\n"
          ]
        }
      ]
    },
    {
      "cell_type": "markdown",
      "source": [
        "#11. Validasi dan Deployment:\n",
        "Validasi lebih lanjut mungkin diperlukan untuk memastikan model bekerja dengan baik di lingkungan produksi. Setelah itu, Anda dapat mendeploy model Anda untuk digunakan dalam aplikasi atau sistem yang sesungguhnya."
      ],
      "metadata": {
        "id": "o5HvmSXL0wQQ"
      }
    },
    {
      "cell_type": "markdown",
      "source": [
        "#12. Pemeliharaan dan Pemantauan:\n",
        "Model ML harus dipelihara dan dimonitor secara berkala untuk memastikan kinerjanya tetap optimal seiring waktu. Ini dapat melibatkan pemantauan data masukan, penyesuaian model, atau pembaruan data pelatihan."
      ],
      "metadata": {
        "id": "jaYCWzip2ZWf"
      }
    },
    {
      "cell_type": "code",
      "source": [],
      "metadata": {
        "id": "_DJ4XR6D0-n0"
      },
      "execution_count": null,
      "outputs": []
    }
  ]
}