{
  "cells": [
    {
      "cell_type": "markdown",
      "metadata": {
        "id": "view-in-github",
        "colab_type": "text"
      },
      "source": [
        "<a href=\"https://colab.research.google.com/github/anisfreelancer71/kapal_titanic/blob/main/Cost_Function.ipynb\" target=\"_parent\"><img src=\"https://colab.research.google.com/assets/colab-badge.svg\" alt=\"Open In Colab\"/></a>"
      ]
    },
    {
      "cell_type": "code",
      "execution_count": null,
      "metadata": {
        "id": "sOQfXqYDPpn3"
      },
      "outputs": [],
      "source": [
        "import pandas as pd\n",
        "import numpy as np\n",
        "import matplotlib.pyplot as plt"
      ]
    },
    {
      "cell_type": "code",
      "execution_count": 57,
      "metadata": {
        "id": "I1EC63r_QKtj"
      },
      "outputs": [],
      "source": [
        "X_train = np.array([1.0, 2.0 ,4.0 ])\n",
        "y_train = np.array([300.0,500.0,800.0])"
      ]
    },
    {
      "cell_type": "code",
      "execution_count": 58,
      "metadata": {
        "colab": {
          "base_uri": "https://localhost:8080/",
          "height": 480
        },
        "id": "ruAxFEkXRCgJ",
        "outputId": "637123cb-2f1c-487a-d088-9bc5d4375b28"
      },
      "outputs": [
        {
          "output_type": "display_data",
          "data": {
            "text/plain": [
              "<Figure size 640x480 with 1 Axes>"
            ],
            "image/png": "[encoded data removed]"
          },
          "metadata": {}
        }
      ],
      "source": [
        "plt.scatter(X_train, y_train)\n",
        "plt.grid()\n",
        "plt.xlabel('Sumbu X_train')\n",
        "plt.ylabel('Sumbu y_train')\n",
        "plt.title('Regression Linear')\n",
        "plt.show()"
      ]
    },
    {
      "cell_type": "code",
      "execution_count": 59,
      "metadata": {
        "colab": {
          "base_uri": "https://localhost:8080/"
        },
        "id": "1AND68phRRKq",
        "outputId": "456d1827-a8e9-4d45-92b9-74f957847db4"
      },
      "outputs": [
        {
          "output_type": "execute_result",
          "data": {
            "text/plain": [
              "array([1., 2., 4.])"
            ]
          },
          "metadata": {},
          "execution_count": 59
        }
      ],
      "source": [
        "X_train"
      ]
    },
    {
      "cell_type": "code",
      "execution_count": 60,
      "metadata": {
        "colab": {
          "base_uri": "https://localhost:8080/"
        },
        "id": "UlSBal97VD4X",
        "outputId": "bb96ab6c-a2d2-46a9-90ca-690c3c7d3bd7"
      },
      "outputs": [
        {
          "output_type": "execute_result",
          "data": {
            "text/plain": [
              "array([300., 500., 800.])"
            ]
          },
          "metadata": {},
          "execution_count": 60
        }
      ],
      "source": [
        "y_train"
      ]
    },
    {
      "cell_type": "code",
      "execution_count": 61,
      "metadata": {
        "colab": {
          "base_uri": "https://localhost:8080/"
        },
        "id": "fo3NQnOGVG4j",
        "outputId": "7d83c689-1667-4f70-af1c-472599441b56"
      },
      "outputs": [
        {
          "output_type": "execute_result",
          "data": {
            "text/plain": [
              "400.0"
            ]
          },
          "metadata": {},
          "execution_count": 61
        }
      ],
      "source": [
        "w = 180\n",
        "b = 100\n",
        "\n",
        "m = X_train.shape[0] #jumlah data\n",
        "cost_sum = 0 # menimpan data dari sum\n",
        "\n",
        "for i in range(m):\n",
        "    f_wb = w * X_train[i] + b\n",
        "    cost = (f_wb - y_train[i])**2\n",
        "    cost_sum = cost_sum + cost\n",
        "total_cost = (1 / (2*m)) * cost_sum\n",
        "\n",
        "total_cost"
      ]
    },
    {
      "cell_type": "code",
      "execution_count": 62,
      "metadata": {
        "id": "roHoFJcuX7Xc"
      },
      "outputs": [],
      "source": [
        "def compute_cost(x , y , w ,b):\n",
        "\n",
        "    m = x.shape[0]\n",
        "\n",
        "    cost_sum = 0\n",
        "    for i in range(m):\n",
        "        f_wb = w * x[i] + b\n",
        "        cost = (f_wb - y[i])**2\n",
        "        cost_sum = cost_sum + cost\n",
        "    total_cost = (1 / (2*m)) * cost_sum\n",
        "\n",
        "    return total_cost"
      ]
    },
    {
      "cell_type": "code",
      "execution_count": 63,
      "metadata": {
        "colab": {
          "base_uri": "https://localhost:8080/"
        },
        "id": "dgVLTP43ZfF1",
        "outputId": "e4f44a5d-fe90-45e0-a8dc-e7fe1d13c0e6"
      },
      "outputs": [
        {
          "output_type": "execute_result",
          "data": {
            "text/plain": [
              "400.0"
            ]
          },
          "metadata": {},
          "execution_count": 63
        }
      ],
      "source": [
        "compute_cost(X_train , y_train , 180 ,100)"
      ]
    },
    {
      "cell_type": "code",
      "execution_count": 64,
      "metadata": {
        "colab": {
          "base_uri": "https://localhost:8080/"
        },
        "id": "imf_LhWqZyDF",
        "outputId": "270136c0-fb3b-488a-c8a2-4b81ed8f3e3b"
      },
      "outputs": [
        {
          "output_type": "execute_result",
          "data": {
            "text/plain": [
              "23333.333333333332"
            ]
          },
          "metadata": {},
          "execution_count": 64
        }
      ],
      "source": [
        "compute_cost(X_train , y_train , 100 ,100)"
      ]
    },
    {
      "cell_type": "code",
      "source": [
        "import seaborn as sns\n",
        "sns.set()\n",
        "sns.histplot(X_train)\n",
        "plt.xlabel('Sumbu X_train')\n",
        "plt.ylabel('Sumbu y_train')\n",
        "plt.title('Regression Linear')\n",
        "plt.show()"
      ],
      "metadata": {
        "colab": {
          "base_uri": "https://localhost:8080/",
          "height": 480
        },
        "id": "RFAPLnnNeU4I",
        "outputId": "a1b78e95-36d7-43ec-ba6b-d4bb6fc41651"
      },
      "execution_count": 65,
      "outputs": [
        {
          "output_type": "display_data",
          "data": {
            "text/plain": [
              "<Figure size 640x480 with 1 Axes>"
            ],
            "image/png": "[encoded data removed]"
          },
          "metadata": {}
        }
      ]
    },
    {
      "cell_type": "code",
      "source": [
        "import seaborn as sns\n",
        "sns.set()\n",
        "sns.histplot(y_train)\n",
        "plt.xlabel('Sumbu y_train')\n",
        "plt.ylabel('Sumbu y_train')\n",
        "plt.title('Regression Linear')\n",
        "plt.show()"
      ],
      "metadata": {
        "colab": {
          "base_uri": "https://localhost:8080/",
          "height": 480
        },
        "id": "ymtReA18f1Km",
        "outputId": "d83d2c00-4ae9-417e-da3a-32c35db73f1d"
      },
      "execution_count": 66,
      "outputs": [
        {
          "output_type": "display_data",
          "data": {
            "text/plain": [
              "<Figure size 640x480 with 1 Axes>"
            ],
            "image/png": "[encoded data removed]"
          },
          "metadata": {}
        }
      ]
    },
    {
      "cell_type": "code",
      "source": [
        "import numpy as np\n",
        "import matplotlib.pyplot as plt"
      ],
      "metadata": {
        "id": "NmYXV6W4gJmc"
      },
      "execution_count": 67,
      "outputs": []
    },
    {
      "cell_type": "code",
      "source": [
        "def compute_cost(x , y , w ,b):\n",
        "\n",
        "    m = x.shape[0]\n",
        "\n",
        "    cost_sum = 0\n",
        "    for i in range(m):\n",
        "        f_wb = w * x[i] + b\n",
        "        cost = (f_wb - y[i])**2\n",
        "        cost_sum = cost_sum + cost\n",
        "    total_cost = (1 / (2*m)) * cost_sum\n",
        "\n",
        "    return total_cost"
      ],
      "metadata": {
        "id": "Sv7HUHtIgS-m"
      },
      "execution_count": 68,
      "outputs": []
    },
    {
      "cell_type": "code",
      "source": [
        "total_cost"
      ],
      "metadata": {
        "colab": {
          "base_uri": "https://localhost:8080/"
        },
        "id": "HugkBauEgkRm",
        "outputId": "74351aee-d986-4c49-85df-471b6a27648b"
      },
      "execution_count": 35,
      "outputs": [
        {
          "output_type": "execute_result",
          "data": {
            "text/plain": [
              "172200.0"
            ]
          },
          "metadata": {},
          "execution_count": 35
        }
      ]
    },
    {
      "cell_type": "markdown",
      "source": [
        "#Gradient Descen"
      ],
      "metadata": {
        "id": "-TDNnDIZgoPk"
      }
    },
    {
      "cell_type": "code",
      "source": [
        "import pandas as pd\n",
        "import numpy as np\n",
        "import matplotlib.pyplot as plt\n",
        "\n",
        "X_train = np.array([1.0, 2.0 ,4.0 ])\n",
        "y_train = np.array([300.0,500.0,800.0])"
      ],
      "metadata": {
        "id": "ZX6DSk_YglJX"
      },
      "execution_count": 69,
      "outputs": []
    },
    {
      "cell_type": "code",
      "source": [
        "plt.scatter(X_train, y_train)\n",
        "plt.grid()\n",
        "plt.xlabel('Sumbu X_train')\n",
        "plt.ylabel('Sumbu y_train')\n",
        "plt.title('Regression Linear')\n",
        "plt.show()"
      ],
      "metadata": {
        "colab": {
          "base_uri": "https://localhost:8080/",
          "height": 480
        },
        "id": "v33eXeVWhOp9",
        "outputId": "8a644fe2-9595-4603-d772-150acff3491e"
      },
      "execution_count": 70,
      "outputs": [
        {
          "output_type": "display_data",
          "data": {
            "text/plain": [
              "<Figure size 640x480 with 1 Axes>"
            ],
            "image/png": "[encoded data removed]"
          },
          "metadata": {}
        }
      ]
    },
    {
      "cell_type": "code",
      "source": [
        "def compute_gradient(x, y, w, b):\n",
        "    \"\"\"\n",
        "    Computes the gradient for linear regression\n",
        "    Args:\n",
        "    x (ndarray (m,)) : Date m examples\n",
        "    y (ndarray (m, )) : target values\n",
        "    w,b (scalar) : model parameters\n",
        "    returns\n",
        "    dj_dw (scalar) : the gradient of cost w.r.t the parameters w\n",
        "    dj_db (scalar) : the gradient of cost w.r.t the parameters b\n",
        "    \"\"\"\n",
        "    #Number of traning example\n",
        "    m = x.shape[0]\n",
        "    dj_dw = 0\n",
        "    dj_db = 0\n",
        "\n",
        "    for i in range(m):\n",
        "        f_wb = w * x[i] +b\n",
        "\n",
        "        dj_dw_i = (f_wb - y[i]) * x[i]\n",
        "        dj_db_i = f_wb - y[i]\n",
        "\n",
        "        dj_db += dj_db_i\n",
        "        dj_dw += dj_dw_i\n",
        "\n",
        "        dj_dw = dj_dw / m\n",
        "        dj_db = dj_db /m\n",
        "\n",
        "    return dj_dw , dj_db"
      ],
      "metadata": {
        "id": "o3Zun74MhP8U"
      },
      "execution_count": 71,
      "outputs": []
    },
    {
      "cell_type": "code",
      "source": [
        "def compute_gradient(x, y, w_in, b_in, alpha , num_iters, cost_function, gradient_function):\n",
        "    \"\"\"\n",
        "    Performs gradient descen to fit w,b. Updates w,b by taking\n",
        "    num_iters gradien steps with learning rate alpha\n",
        "\n",
        "    Args:\n",
        "    x (ndarray (m,)) : Date m examples\n",
        "    y (ndarray (m, )) : target values\n",
        "    w_in,b_in (scalar) : initial values of model parameters\n",
        "    alpha (float : learning rate\n",
        "    num_iters (int) : number of iteration to run gradient descent\n",
        "    cost_function : function to call to produce cost\n",
        "    gradient _function : function to call to produce gradient\n",
        "\n",
        "    returns:\n",
        "    w (scalar) : Update value of parameter after running gradient descent\n",
        "    b (scalar) : Update value of parameter after running gradient descent\n",
        "    j_history (list) : History of cost values\n",
        "    p_history (list) : History of parameters [w,b]\n",
        "    \"\"\"\n",
        "    w = copy.deepcopy(w_in) #avoid modifying global w_in\n",
        "    # An array to store cost J and w's at each iteration primarily for grafhing later\n",
        "    m = x.shape[0]\n",
        "    j_history = []\n",
        "    p_history = []\n",
        "    b = b_in\n",
        "    w = w_in\n",
        "\n",
        "    for i in range(num_iters):\n",
        "        # Calculate the gradient and update the parameters using gradient_function\n",
        "        dj_dw, dj_db = gradient_function(x, y, w, b)\n",
        "\n",
        "        # Update Parameters using equation (3) above\n",
        "        w = w - alpha * dj_dw\n",
        "        b = b- alpha * dj_db\n",
        "\n",
        "        # Save cost J at each iteration\n",
        "        if i<100000:         # prevent resource exhaustion\n",
        "            j_history.append( cost_function(x,y,w,b))\n",
        "            p_history.append([w,b])\n",
        "\n",
        "        # Print cost every at intervals 10 times as many iterations if < 10\n",
        "        if i% math.ceil(num_ites/10) == 0:\n",
        "            print(f\"Iteration {i:4}: Cost {J_history[-1]:0.2e} \" ,\n",
        "\t                f\"dj_dw {dj_dw:0.3e}: dj_db: {dj_db:0.3e} \" ,\n",
        "\t                f\"w: {w:0.3e}, {b:0.5e} \" )\n",
        "\n",
        "\n",
        "    return w,b, J_history, p_history # Return w and J , w history for graphing\n",
        "\n"
      ],
      "metadata": {
        "id": "JNaR3MgGmCSn"
      },
      "execution_count": 72,
      "outputs": []
    },
    {
      "cell_type": "markdown",
      "source": [
        "coba dulu"
      ],
      "metadata": {
        "id": "GzEUYoC-4VQM"
      }
    },
    {
      "cell_type": "code",
      "source": [
        "import pandas as pd\n",
        "import numpy as np\n",
        "import matplotlib.pyplot as plt\n",
        "import copy\n",
        "import math\n",
        "\n",
        "# ... (kode yang lain)\n",
        "\n",
        "def compute_gradient(x, y, w_in, b_in, alpha, num_iters, cost_function, gradient_function):\n",
        "    \"\"\"\n",
        "    Performs gradient descent to fit w,b. Updates w,b by taking\n",
        "    num_iters gradient steps with learning rate alpha\n",
        "\n",
        "    Args:\n",
        "    x (ndarray (m,)): Date m examples\n",
        "    y (ndarray (m,)): target values\n",
        "    w_in, b_in (scalar): initial values of model parameters\n",
        "    alpha (float): learning rate\n",
        "    num_iters (int): number of iterations to run gradient descent\n",
        "    cost_function: function to call to produce cost\n",
        "    gradient_function: function to call to produce gradient\n",
        "\n",
        "    returns:\n",
        "    w (scalar): Updated value of parameter after running gradient descent\n",
        "    b (scalar): Updated value of parameter after running gradient descent\n",
        "    j_history (list): History of cost values\n",
        "    p_history (list): History of parameters [w, b]\n",
        "    \"\"\"\n",
        "    w = copy.deepcopy(w_in)  # avoid modifying global w_in\n",
        "    # An array to store cost J and w's at each iteration primarily for graphing later\n",
        "    m = x.shape[0]\n",
        "    j_history = []\n",
        "    p_history = []\n",
        "    b = b_in\n",
        "    w = w_in\n",
        "\n",
        "    for i in range(num_iters):\n",
        "        # Calculate the gradient and update the parameters using gradient_function\n",
        "        dj_dw, dj_db = gradient_function(x, y, w, b)\n",
        "\n",
        "        # Update Parameters using equation (3) above\n",
        "        w = w - alpha * dj_dw\n",
        "        b = b - alpha * dj_db\n",
        "\n",
        "        # Save cost J at each iteration\n",
        "        if i < 100000:  # prevent resource exhaustion\n",
        "            j_history.append(cost_function(x, y, w, b))\n",
        "            p_history.append([w, b])\n",
        "\n",
        "        # Print cost every at intervals 10 times as many iterations if < 10\n",
        "        if i % math.ceil(num_iters / 10) == 0:\n",
        "            print(f\"Iteration {i:4}: Cost {j_history[-1]:0.2e} \",\n",
        "                  f\"dj_dw {dj_dw:0.3e}: dj_db: {dj_db:0.3e} \",\n",
        "                  f\"w: {w:0.3e}, {b:0.5e} \")\n",
        "\n",
        "    return w, b, j_history, p_history  # Return w and J , w history for graphing\n"
      ],
      "metadata": {
        "id": "hiJw_BSgx8_q"
      },
      "execution_count": 73,
      "outputs": []
    },
    {
      "cell_type": "code",
      "source": [
        "# initialize parameters\n",
        "w_init = 0\n",
        "b_init = 0\n",
        "# some gradient descent setting\n",
        "iterations = 10000\n",
        "tmp_alpha = 1.0e-2\n",
        "# run gradien descent\n",
        "w_final, b_final, J_hist, p_hist = gradient_descent(x_train, y_train, w_init, b_init, tmp_alpha, iterations, compute_cost, compute_gradient)\n",
        "\n",
        "print(f\"(w,b) found by gradient: ({w_final:8.4f},{b_final:8.4f})\")"
      ],
      "metadata": {
        "colab": {
          "base_uri": "https://localhost:8080/",
          "height": 245
        },
        "id": "Owxskp4a5GX4",
        "outputId": "8889aac9-5b0e-45e2-d1c0-cad41f7855c9"
      },
      "execution_count": 75,
      "outputs": [
        {
          "output_type": "error",
          "ename": "NameError",
          "evalue": "ignored",
          "traceback": [
            "\u001b[0;31m---------------------------------------------------------------------------\u001b[0m",
            "\u001b[0;31mNameError\u001b[0m                                 Traceback (most recent call last)",
            "\u001b[0;32m<ipython-input-75-75a542e6e08f>\u001b[0m in \u001b[0;36m<cell line: 8>\u001b[0;34m()\u001b[0m\n\u001b[1;32m      6\u001b[0m \u001b[0mtmp_alpha\u001b[0m \u001b[0;34m=\u001b[0m \u001b[0;36m1.0e-2\u001b[0m\u001b[0;34m\u001b[0m\u001b[0;34m\u001b[0m\u001b[0m\n\u001b[1;32m      7\u001b[0m \u001b[0;31m# run gradien descent\u001b[0m\u001b[0;34m\u001b[0m\u001b[0;34m\u001b[0m\u001b[0m\n\u001b[0;32m----> 8\u001b[0;31m \u001b[0mw_final\u001b[0m\u001b[0;34m,\u001b[0m \u001b[0mb_final\u001b[0m\u001b[0;34m,\u001b[0m \u001b[0mJ_hist\u001b[0m\u001b[0;34m,\u001b[0m \u001b[0mp_hist\u001b[0m \u001b[0;34m=\u001b[0m \u001b[0mgradient_descent\u001b[0m\u001b[0;34m(\u001b[0m\u001b[0mx_train\u001b[0m\u001b[0;34m,\u001b[0m \u001b[0my_train\u001b[0m\u001b[0;34m,\u001b[0m \u001b[0mw_init\u001b[0m\u001b[0;34m,\u001b[0m \u001b[0mb_init\u001b[0m\u001b[0;34m,\u001b[0m \u001b[0mtmp_alpha\u001b[0m\u001b[0;34m,\u001b[0m \u001b[0miterations\u001b[0m\u001b[0;34m,\u001b[0m \u001b[0mcompute_cost\u001b[0m\u001b[0;34m,\u001b[0m \u001b[0mcompute_gradient\u001b[0m\u001b[0;34m)\u001b[0m\u001b[0;34m\u001b[0m\u001b[0;34m\u001b[0m\u001b[0m\n\u001b[0m\u001b[1;32m      9\u001b[0m \u001b[0;34m\u001b[0m\u001b[0m\n\u001b[1;32m     10\u001b[0m \u001b[0mprint\u001b[0m\u001b[0;34m(\u001b[0m\u001b[0;34mf\"(w,b) found by gradient: ({w_final:8.4f},{b_final:8.4f})\"\u001b[0m\u001b[0;34m)\u001b[0m\u001b[0;34m\u001b[0m\u001b[0;34m\u001b[0m\u001b[0m\n",
            "\u001b[0;31mNameError\u001b[0m: name 'gradient_descent' is not defined"
          ]
        }
      ]
    }
  ],
  "metadata": {
    "colab": {
      "provenance": [],
      "authorship_tag": "ABX9TyN3WXkRLjgH2nXEFwAiPox/",
      "include_colab_link": true
    },
    "kernelspec": {
      "display_name": "Python 3",
      "name": "python3"
    },
    "language_info": {
      "name": "python"
    }
  },
  "nbformat": 4,
  "nbformat_minor": 0
}