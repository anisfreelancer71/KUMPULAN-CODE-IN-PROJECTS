{
  "nbformat": 4,
  "nbformat_minor": 0,
  "metadata": {
    "colab": {
      "provenance": [],
      "authorship_tag": "ABX9TyNuWf4KF4mtGBZZ1xxE9P1v",
      "include_colab_link": true
    },
    "kernelspec": {
      "name": "python3",
      "display_name": "Python 3"
    },
    "language_info": {
      "name": "python"
    }
  },
  "cells": [
    {
      "cell_type": "markdown",
      "metadata": {
        "id": "view-in-github",
        "colab_type": "text"
      },
      "source": [
        "<a href=\"https://colab.research.google.com/github/anisfreelancer71/kapal_titanic/blob/main/43_Belajar_Aritmatika_di_Python.ipynb\" target=\"_parent\"><img src=\"https://colab.research.google.com/assets/colab-badge.svg\" alt=\"Open In Colab\"/></a>"
      ]
    },
    {
      "cell_type": "code",
      "execution_count": null,
      "metadata": {
        "id": "0Nz1AzjGIU-9"
      },
      "outputs": [],
      "source": [
        "import pandas as pd\n",
        "import numpy as np\n",
        "import matplotlib.pyplot as plt\n",
        "import seaborn as sns\n",
        "sns.set()"
      ]
    },
    {
      "cell_type": "markdown",
      "source": [
        "##43. Belajar Aritmatika di Python"
      ],
      "metadata": {
        "id": "gFcf-tn5JCSM"
      }
    },
    {
      "cell_type": "code",
      "source": [
        "print(7-6)"
      ],
      "metadata": {
        "colab": {
          "base_uri": "https://localhost:8080/"
        },
        "id": "PdGhE9UnJFEx",
        "outputId": "42b5bef6-9b2e-458d-a852-3fabf4736f79"
      },
      "execution_count": null,
      "outputs": [
        {
          "output_type": "stream",
          "name": "stdout",
          "text": [
            "1\n"
          ]
        }
      ]
    },
    {
      "cell_type": "code",
      "source": [
        "print(1+2)"
      ],
      "metadata": {
        "colab": {
          "base_uri": "https://localhost:8080/"
        },
        "id": "S8JCRbsgJPKz",
        "outputId": "591886f5-d864-4d41-a22f-adec6357c617"
      },
      "execution_count": null,
      "outputs": [
        {
          "output_type": "stream",
          "name": "stdout",
          "text": [
            "3\n"
          ]
        }
      ]
    },
    {
      "cell_type": "code",
      "source": [
        "print(2/4)"
      ],
      "metadata": {
        "colab": {
          "base_uri": "https://localhost:8080/"
        },
        "id": "BzS28EDQJYA9",
        "outputId": "dd3d71bf-ab38-499a-d923-bb686b2c4b3d"
      },
      "execution_count": null,
      "outputs": [
        {
          "output_type": "stream",
          "name": "stdout",
          "text": [
            "0.5\n"
          ]
        }
      ]
    },
    {
      "cell_type": "code",
      "source": [
        "print(3 * (4+5) * 2)"
      ],
      "metadata": {
        "colab": {
          "base_uri": "https://localhost:8080/"
        },
        "id": "EGqOEJ1cJgY0",
        "outputId": "278ef8a6-4e49-46fe-811a-f1b188fbea7e"
      },
      "execution_count": null,
      "outputs": [
        {
          "output_type": "stream",
          "name": "stdout",
          "text": [
            "54\n"
          ]
        }
      ]
    },
    {
      "cell_type": "code",
      "source": [
        "print(3 * 4+5 * 2)"
      ],
      "metadata": {
        "colab": {
          "base_uri": "https://localhost:8080/"
        },
        "id": "LQluL-LSJpYh",
        "outputId": "4a283484-5e8f-485c-a89a-7194797b6f13"
      },
      "execution_count": null,
      "outputs": [
        {
          "output_type": "stream",
          "name": "stdout",
          "text": [
            "22\n"
          ]
        }
      ]
    },
    {
      "cell_type": "code",
      "source": [
        "print(3-4+5)"
      ],
      "metadata": {
        "colab": {
          "base_uri": "https://localhost:8080/"
        },
        "id": "hTSRgVj_JuSW",
        "outputId": "88eb61db-1bea-45c8-9771-7f1a0a0a1170"
      },
      "execution_count": null,
      "outputs": [
        {
          "output_type": "stream",
          "name": "stdout",
          "text": [
            "4\n"
          ]
        }
      ]
    },
    {
      "cell_type": "code",
      "source": [
        "print('4 + 5 = 9')"
      ],
      "metadata": {
        "colab": {
          "base_uri": "https://localhost:8080/"
        },
        "id": "m61bCHl8J9LB",
        "outputId": "46cbda5d-b036-482d-bc31-cc08af4770d6"
      },
      "execution_count": null,
      "outputs": [
        {
          "output_type": "stream",
          "name": "stdout",
          "text": [
            "4 + 5 = 9\n"
          ]
        }
      ]
    },
    {
      "cell_type": "code",
      "source": [
        "from IPython.display import display, Math"
      ],
      "metadata": {
        "id": "_wnwkN4qKGr5"
      },
      "execution_count": null,
      "outputs": []
    },
    {
      "cell_type": "code",
      "source": [
        "display('4 +3 = 7')"
      ],
      "metadata": {
        "colab": {
          "base_uri": "https://localhost:8080/",
          "height": 35
        },
        "id": "htT9MVNOKXbs",
        "outputId": "e8050d77-4112-44a4-a68c-31b570e967f0"
      },
      "execution_count": null,
      "outputs": [
        {
          "output_type": "display_data",
          "data": {
            "text/plain": [
              "'4 +3 = 7'"
            ],
            "application/vnd.google.colaboratory.intrinsic+json": {
              "type": "string"
            }
          },
          "metadata": {}
        }
      ]
    },
    {
      "cell_type": "code",
      "source": [
        "display(Math('4 +3 = 7'))"
      ],
      "metadata": {
        "colab": {
          "base_uri": "https://localhost:8080/",
          "height": 17
        },
        "id": "qGBfKyG9Kh-1",
        "outputId": "576fe7c0-a47a-4c0e-923a-838db7bc7bc5"
      },
      "execution_count": null,
      "outputs": [
        {
          "output_type": "display_data",
          "data": {
            "text/plain": [
              "<IPython.core.display.Math object>"
            ],
            "text/latex": "$\\displaystyle 4 +3 = 7$"
          },
          "metadata": {}
        }
      ]
    },
    {
      "cell_type": "code",
      "source": [
        "x = 10\n",
        "y = 5\n",
        "display(Math('{} + {}'.format(x,y, x+y)))"
      ],
      "metadata": {
        "id": "W7x0Uyr5KtXX",
        "colab": {
          "base_uri": "https://localhost:8080/",
          "height": 37
        },
        "outputId": "127412c1-d996-4d9b-8071-6a3b53251603"
      },
      "execution_count": 17,
      "outputs": [
        {
          "output_type": "display_data",
          "data": {
            "text/plain": [
              "<IPython.core.display.Math object>"
            ],
            "text/latex": "$\\displaystyle 10 + 5$"
          },
          "metadata": {}
        }
      ]
    },
    {
      "cell_type": "code",
      "source": [
        "display(Math(f'{x}/{y} = {x/y}'))"
      ],
      "metadata": {
        "id": "kfRWcXJ-LQ9j",
        "colab": {
          "base_uri": "https://localhost:8080/",
          "height": 37
        },
        "outputId": "6c7ddfe6-18d3-42de-813a-b86f02cf5afd"
      },
      "execution_count": 19,
      "outputs": [
        {
          "output_type": "display_data",
          "data": {
            "text/plain": [
              "<IPython.core.display.Math object>"
            ],
            "text/latex": "$\\displaystyle 10/5 = 2.0$"
          },
          "metadata": {}
        }
      ]
    },
    {
      "cell_type": "code",
      "source": [
        "display(Math(f'\\\\frac{4}{5} = {4/5}'))"
      ],
      "metadata": {
        "id": "bJyB5RfUMolj",
        "outputId": "8d8329ce-a2ff-4140-ec9c-244d6b726b46",
        "colab": {
          "base_uri": "https://localhost:8080/",
          "height": 51
        }
      },
      "execution_count": 20,
      "outputs": [
        {
          "output_type": "display_data",
          "data": {
            "text/plain": [
              "<IPython.core.display.Math object>"
            ],
            "text/latex": "$\\displaystyle \\frac45 = 0.8$"
          },
          "metadata": {}
        }
      ]
    },
    {
      "cell_type": "code",
      "source": [
        "display(Math(f'{x}\\\\times{y} = {x*y}'))"
      ],
      "metadata": {
        "id": "F-2W93EUM7wy",
        "outputId": "f929fc6e-1d27-493d-dbc0-b9aaefc3e1b4",
        "colab": {
          "base_uri": "https://localhost:8080/",
          "height": 37
        }
      },
      "execution_count": 21,
      "outputs": [
        {
          "output_type": "display_data",
          "data": {
            "text/plain": [
              "<IPython.core.display.Math object>"
            ],
            "text/latex": "$\\displaystyle 10\\times5 = 50$"
          },
          "metadata": {}
        }
      ]
    },
    {
      "cell_type": "code",
      "source": [
        "x = 5\n",
        "y = 10\n",
        "z = 2\n",
        "# a = 5x*(5+y) = 375\n",
        "jawaban1 = 5*x*(5+y)\n",
        "display(Math(f'{5}\\\\times{x}\\\\times({5}+{y}) = {5*x*(5+y)}'))"
      ],
      "metadata": {
        "id": "v-5lHI6BNVRl",
        "outputId": "78876ca9-48ed-44d6-ebe5-3a731bcdb6ed",
        "colab": {
          "base_uri": "https://localhost:8080/",
          "height": 37
        }
      },
      "execution_count": 35,
      "outputs": [
        {
          "output_type": "display_data",
          "data": {
            "text/plain": [
              "<IPython.core.display.Math object>"
            ],
            "text/latex": "$\\displaystyle 5\\times5\\times(5+10) = 375$"
          },
          "metadata": {}
        }
      ]
    },
    {
      "cell_type": "code",
      "source": [
        "# -y-x-2/z = -11.5\n",
        "display(Math(f'{-y}-\\\\frac{x-2}{z} = {-y-((x-2)/z)}'))"
      ],
      "metadata": {
        "id": "toedCtptOw-K",
        "outputId": "7231ea73-fa63-4a98-806e-e6af0dac36bb",
        "colab": {
          "base_uri": "https://localhost:8080/",
          "height": 51
        }
      },
      "execution_count": 32,
      "outputs": [
        {
          "output_type": "display_data",
          "data": {
            "text/plain": [
              "<IPython.core.display.Math object>"
            ],
            "text/latex": "$\\displaystyle -10-\\frac32 = -11.5$"
          },
          "metadata": {}
        }
      ]
    },
    {
      "cell_type": "code",
      "source": [
        "x = 5\n",
        "y = 10\n",
        "z = 2\n",
        "jawaban2 = 5*x*(5+y)\n",
        "display(Math(f'5x(5+y) = {jawaban2}'))"
      ],
      "metadata": {
        "id": "7MPA7ZSYP6e1",
        "outputId": "00cac9f1-d12b-43f8-c634-ce143cd3c264",
        "colab": {
          "base_uri": "https://localhost:8080/",
          "height": 38
        }
      },
      "execution_count": 36,
      "outputs": [
        {
          "output_type": "display_data",
          "data": {
            "text/plain": [
              "<IPython.core.display.Math object>"
            ],
            "text/latex": "$\\displaystyle 5x(5+y) = 375$"
          },
          "metadata": {}
        }
      ]
    },
    {
      "cell_type": "code",
      "source": [
        "#solusi kedua\n",
        "jawaban3 = -y-((x-2)/z)\n",
        "display(Math(f'-y-\\\\frac{x-2}{z} = {jawaban3}'))"
      ],
      "metadata": {
        "id": "GMGjyxPHUsuY",
        "outputId": "57428633-197d-41fd-e181-29a93321c26b",
        "colab": {
          "base_uri": "https://localhost:8080/",
          "height": 51
        }
      },
      "execution_count": 37,
      "outputs": [
        {
          "output_type": "display_data",
          "data": {
            "text/plain": [
              "<IPython.core.display.Math object>"
            ],
            "text/latex": "$\\displaystyle -y-\\frac32 = -11.5$"
          },
          "metadata": {}
        }
      ]
    },
    {
      "cell_type": "code",
      "source": [
        "print('Penulisan print formating versi lama %s %d %f %g'  %('coba',23,24.9,25.262728))"
      ],
      "metadata": {
        "id": "GBNiX-njWNhp",
        "outputId": "a2eb7000-488e-496e-9c41-700d5216a235",
        "colab": {
          "base_uri": "https://localhost:8080/"
        }
      },
      "execution_count": 40,
      "outputs": [
        {
          "output_type": "stream",
          "name": "stdout",
          "text": [
            "Penulisan print formating versi lama coba 23 24.900000 25.2627\n"
          ]
        }
      ]
    },
    {
      "cell_type": "code",
      "source": [
        "display(Math('-y-\\\\frac{x-2}{z} = %g' %jawaban3))"
      ],
      "metadata": {
        "id": "W09P6kAwVn--",
        "outputId": "1078ee2c-729d-4b7b-8306-25f968930383",
        "colab": {
          "base_uri": "https://localhost:8080/",
          "height": 51
        }
      },
      "execution_count": 41,
      "outputs": [
        {
          "output_type": "display_data",
          "data": {
            "text/plain": [
              "<IPython.core.display.Math object>"
            ],
            "text/latex": "$\\displaystyle -y-\\frac{x-2}{z} = -11.5$"
          },
          "metadata": {}
        }
      ]
    },
    {
      "cell_type": "code",
      "source": [
        "3**2"
      ],
      "metadata": {
        "id": "8HYQAC2nXtlh",
        "outputId": "f2103719-0bf1-416b-b036-b798bfca5d67",
        "colab": {
          "base_uri": "https://localhost:8080/"
        }
      },
      "execution_count": 43,
      "outputs": [
        {
          "output_type": "execute_result",
          "data": {
            "text/plain": [
              "9"
            ]
          },
          "metadata": {},
          "execution_count": 43
        }
      ]
    },
    {
      "cell_type": "code",
      "source": [
        "from IPython.display import display, Math"
      ],
      "metadata": {
        "id": "6aiuHdTLX1Io"
      },
      "execution_count": 44,
      "outputs": []
    },
    {
      "cell_type": "code",
      "source": [
        "display(Math(f'3^2 = {3**2}'))"
      ],
      "metadata": {
        "id": "t1OV8w3sYKNr",
        "outputId": "7d256239-bc11-4b42-b7c5-86db980f9286",
        "colab": {
          "base_uri": "https://localhost:8080/",
          "height": 37
        }
      },
      "execution_count": 46,
      "outputs": [
        {
          "output_type": "display_data",
          "data": {
            "text/plain": [
              "<IPython.core.display.Math object>"
            ],
            "text/latex": "$\\displaystyle 3^2 = 9$"
          },
          "metadata": {}
        }
      ]
    },
    {
      "cell_type": "code",
      "source": [
        "display(Math(f'1000^4 = {1000**4}'))"
      ],
      "metadata": {
        "id": "FMX81CWBYfVF",
        "outputId": "cb53335c-d375-4bd3-a2ac-43dbbfbca578",
        "colab": {
          "base_uri": "https://localhost:8080/",
          "height": 37
        }
      },
      "execution_count": 47,
      "outputs": [
        {
          "output_type": "display_data",
          "data": {
            "text/plain": [
              "<IPython.core.display.Math object>"
            ],
            "text/latex": "$\\displaystyle 1000^4 = 1000000000000$"
          },
          "metadata": {}
        }
      ]
    },
    {
      "cell_type": "code",
      "source": [
        "display(Math(f'3^2 \\\\times 3^5 = 3^7'))"
      ],
      "metadata": {
        "id": "SoaVnkq2Y334",
        "outputId": "4ea00bad-d1b1-494a-a65b-5316f10d2cf1",
        "colab": {
          "base_uri": "https://localhost:8080/",
          "height": 37
        }
      },
      "execution_count": 48,
      "outputs": [
        {
          "output_type": "display_data",
          "data": {
            "text/plain": [
              "<IPython.core.display.Math object>"
            ],
            "text/latex": "$\\displaystyle 3^2 \\times 3^5 = 3^7$"
          },
          "metadata": {}
        }
      ]
    },
    {
      "cell_type": "code",
      "source": [
        "# soal 1 = x**(3/4)*4**y\n",
        "# saol 2 = 3**3/x**y\n",
        "# soal 3 = 10**(x-4)"
      ],
      "metadata": {
        "id": "Djf22BKlZdPe"
      },
      "execution_count": 57,
      "outputs": []
    },
    {
      "cell_type": "code",
      "source": [
        "x = 5\n",
        "y = 5.1\n",
        "jawaban_soal1 = x**(3/4)*4**y\n",
        "display(Math(f'x**(3/4)*4**y = {jawaban_soal1}'))"
      ],
      "metadata": {
        "id": "GZ9q1LDmaQOx",
        "outputId": "fc7542d9-ea88-4ebb-bc5c-9659870eebe8",
        "colab": {
          "base_uri": "https://localhost:8080/",
          "height": 38
        }
      },
      "execution_count": 58,
      "outputs": [
        {
          "output_type": "display_data",
          "data": {
            "text/plain": [
              "<IPython.core.display.Math object>"
            ],
            "text/latex": "$\\displaystyle x**(3/4)*4**y = 3933.086147822751$"
          },
          "metadata": {}
        }
      ]
    },
    {
      "cell_type": "code",
      "source": [
        "x = 5\n",
        "y = 5.1\n",
        "jawaban_soal2 = 3**3/x**y\n",
        "display(Math(f'3**3/x**y = {jawaban_soal2}'))"
      ],
      "metadata": {
        "id": "l81CeqSXbFYB",
        "outputId": "5a390f7a-1292-4ff6-a508-ac7869968731",
        "colab": {
          "base_uri": "https://localhost:8080/",
          "height": 38
        }
      },
      "execution_count": 59,
      "outputs": [
        {
          "output_type": "display_data",
          "data": {
            "text/plain": [
              "<IPython.core.display.Math object>"
            ],
            "text/latex": "$\\displaystyle 3**3/x**y = 0.007355576930579584$"
          },
          "metadata": {}
        }
      ]
    },
    {
      "cell_type": "code",
      "source": [
        "x = 5\n",
        "y = 5.1\n",
        "jawaban_soal3 = 10**(x-4)\n",
        "display(Math(f'10**(x-4) = {jawaban_soal3}'))"
      ],
      "metadata": {
        "id": "kIq5k8fZbU1f",
        "outputId": "46ae6a43-4ffa-4013-b5e4-b77fd9d683c3",
        "colab": {
          "base_uri": "https://localhost:8080/",
          "height": 38
        }
      },
      "execution_count": 60,
      "outputs": [
        {
          "output_type": "display_data",
          "data": {
            "text/plain": [
              "<IPython.core.display.Math object>"
            ],
            "text/latex": "$\\displaystyle 10**(x-4) = 10$"
          },
          "metadata": {}
        }
      ]
    },
    {
      "cell_type": "code",
      "source": [
        "#solusi dua\n",
        "j1 = x**(3/4)*4**y\n",
        "display(Math('x^{3/4} \\\\times 4^y = %g' %j1))"
      ],
      "metadata": {
        "id": "qL0xcRLgdAnZ",
        "outputId": "9507ceb2-ff23-4d7f-c0ed-ea20b2fd6a5d",
        "colab": {
          "base_uri": "https://localhost:8080/",
          "height": 39
        }
      },
      "execution_count": 63,
      "outputs": [
        {
          "output_type": "display_data",
          "data": {
            "text/plain": [
              "<IPython.core.display.Math object>"
            ],
            "text/latex": "$\\displaystyle x^{3/4} \\times 4^y = 3933.09$"
          },
          "metadata": {}
        }
      ]
    },
    {
      "cell_type": "code",
      "source": [
        "#solusi dua\n",
        "j2 = 3**3/x**y\n",
        "display(Math('\\\\frac {3^3} {x^y} = %g' %j2))"
      ],
      "metadata": {
        "colab": {
          "base_uri": "https://localhost:8080/",
          "height": 54
        },
        "id": "Hc8s4URbeNTU",
        "outputId": "d5471cc6-4c75-40c2-daed-a58962c169af"
      },
      "execution_count": 67,
      "outputs": [
        {
          "output_type": "display_data",
          "data": {
            "text/plain": [
              "<IPython.core.display.Math object>"
            ],
            "text/latex": "$\\displaystyle \\frac {3^3} {x^y} = 0.00735558$"
          },
          "metadata": {}
        }
      ]
    },
    {
      "cell_type": "code",
      "source": [
        "#solusi dua\n",
        "j3 = 10**(x-4)\n",
        "display(Math('10^{x-4} = %g' %j3))"
      ],
      "metadata": {
        "outputId": "c5b6b7ba-59d3-4e47-e3b9-dbb2be898ee9",
        "colab": {
          "base_uri": "https://localhost:8080/",
          "height": 37
        },
        "id": "JOfF06Bufwc3"
      },
      "execution_count": 68,
      "outputs": [
        {
          "output_type": "display_data",
          "data": {
            "text/plain": [
              "<IPython.core.display.Math object>"
            ],
            "text/latex": "$\\displaystyle 10^{x-4} = 10$"
          },
          "metadata": {}
        }
      ]
    }
  ]
}